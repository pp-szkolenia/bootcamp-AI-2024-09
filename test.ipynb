{
 "cells": [
  {
   "cell_type": "markdown",
   "id": "cf785134-183f-407a-8957-3730d1053c7e",
   "metadata": {},
   "source": [
    "# Wprowadzenie do Jupyter Laba"
   ]
  },
  {
   "cell_type": "code",
   "execution_count": 16,
   "id": "4fb01c86-6e25-4016-8672-1dde5dbe3055",
   "metadata": {},
   "outputs": [],
   "source": [
    "import numpy\n",
    "import pandas"
   ]
  },
  {
   "cell_type": "markdown",
   "id": "0459ba7b-1e28-42b0-8f54-ae79dca6db10",
   "metadata": {},
   "source": [
    "## Podstawowe skróty klawiszowe w Jupyterze"
   ]
  },
  {
   "cell_type": "markdown",
   "id": "86c2d568-a014-4699-a84a-5b317f5733e7",
   "metadata": {},
   "source": [
    "`A` - dodanie komórki powyżej\n",
    "\n",
    "`B` - dodanie komórki poniżej\n",
    "\n",
    "`X` - usuwa komórkę\n",
    "\n",
    "`Z` - cofnięcie usunięcia"
   ]
  },
  {
   "cell_type": "markdown",
   "id": "6279feaa-4d30-4364-9873-e40ab8a38940",
   "metadata": {},
   "source": [
    "### Podrozdział 2"
   ]
  },
  {
   "cell_type": "markdown",
   "id": "848d7293-703b-463f-953f-788d0001ba94",
   "metadata": {},
   "source": [
    "## Kolejny nagłówek"
   ]
  },
  {
   "cell_type": "code",
   "execution_count": null,
   "id": "446e3b39-a639-4d56-bc40-51ed0b231bd6",
   "metadata": {},
   "outputs": [],
   "source": []
  },
  {
   "cell_type": "code",
   "execution_count": null,
   "id": "1f4d9016-4cd2-4fb7-bc8c-73e827007d0d",
   "metadata": {},
   "outputs": [],
   "source": []
  },
  {
   "cell_type": "code",
   "execution_count": null,
   "id": "57d80704-5f39-4362-87a7-ab447ee8ee3a",
   "metadata": {},
   "outputs": [],
   "source": []
  }
 ],
 "metadata": {
  "kernelspec": {
   "display_name": "Python 3 (ipykernel)",
   "language": "python",
   "name": "python3"
  },
  "language_info": {
   "codemirror_mode": {
    "name": "ipython",
    "version": 3
   },
   "file_extension": ".py",
   "mimetype": "text/x-python",
   "name": "python",
   "nbconvert_exporter": "python",
   "pygments_lexer": "ipython3",
   "version": "3.11.5"
  }
 },
 "nbformat": 4,
 "nbformat_minor": 5
}
