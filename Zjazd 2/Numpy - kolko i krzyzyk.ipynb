{
 "cells": [
  {
   "cell_type": "markdown",
   "metadata": {},
   "source": [
    "# Gra w kółko i krzyżyk\n",
    "\n",
    "Korzystając z poniższych wytycznych zaimplementuj kolejne etapy gry w kółko i krzyżyk. Będziemy stosować się do następujących wytycznych:\n",
    "- plansza do gry to macierz stringów 3x3 \n",
    "- pozycje na planszy są wyznaczane przez współrzędne (y, x), analogiczne jak podczas odnoszenia się do danego elementu macierzy\n",
    "- w podstawowej wersji gry będzie uczestniczyć dwóch graczy-ludzi. Można również zaprogramować rozgrywkę z komputerem"
   ]
  },
  {
   "cell_type": "code",
   "execution_count": null,
   "metadata": {},
   "outputs": [],
   "source": [
    "import numpy as np "
   ]
  },
  {
   "cell_type": "markdown",
   "metadata": {},
   "source": [
    "## Wygenerowanie pustej planszy\n",
    "\n",
    "Napisz funkcję `generate_board` która zwróci pustą planszę do gry. Powinna to być macierz stringów 3x3. Niech puste pole będzie oznaczone przez kropkę: \".\"."
   ]
  },
  {
   "cell_type": "code",
   "execution_count": null,
   "metadata": {},
   "outputs": [],
   "source": [
    "# ..."
   ]
  },
  {
   "cell_type": "markdown",
   "metadata": {},
   "source": [
    "## Kładzenie na planszy nowych elementów\n",
    "\n",
    "Napisz funkcję `put_item_on_board`, która będzie przyjmować oraz zwracać następujące wartości:\n",
    "\n",
    "###### Parametry:\n",
    "- `board`: plansza przechowująca aktualny stan rozgrywki\n",
    "- `coordinates`: tuple ze współrzędnymi (y, x) na których chcemy położyć kolejny element\n",
    "- `mark`: litera x lub o, w zależności od tego jaki znaczek chcemy położyć\n",
    "\n",
    "###### Outputy:\n",
    "- `board`: zaktualizowana plansza\n",
    "- `is_success`: zmienna logiczna zależna od tego czy położenie nowego elementu odbyło się prawidłowo (podpowiedź: jeśli będziemy próbowali położyć element na zajętym polu to wartość tego outputa będzie równa `False`)\n",
    "\n",
    "Podpowiedź:\n",
    "Żeby odwołać się do konkretnego elementu macierzy możemy do kwadratowych nawiasów podać bezpośrednio tuple:\n",
    "\n",
    "`x = A[(1, 2)]`"
   ]
  },
  {
   "cell_type": "code",
   "execution_count": null,
   "metadata": {},
   "outputs": [],
   "source": [
    "# ..."
   ]
  },
  {
   "cell_type": "markdown",
   "metadata": {},
   "source": [
    "## Sprawdzenie czy po ruchu gracza należy zakończyć grę\n",
    "\n",
    "Napisz funkcję `check_if_game_over` która sprawdzi czy gra powinna się zakończyć. Powinna ona przyjmować oraz zwracać:\n",
    "\n",
    "###### Parametr:\n",
    "- `board`: plansza ze stanem rozgrywki po ruchu\n",
    "\n",
    "###### Output:\n",
    "- `is_game_over`: zmienna logiczna która określi czy gra się powinna już skończyć czy jeszcze nie"
   ]
  },
  {
   "cell_type": "code",
   "execution_count": null,
   "metadata": {},
   "outputs": [],
   "source": [
    "# ..."
   ]
  },
  {
   "cell_type": "markdown",
   "metadata": {},
   "source": [
    "## Pobranie od gracza współrzędnych\n",
    "\n",
    "Napisz funkcję `get_coordinates_from_player` , która pobierze od gracza współrzędne na których chce położyć swój znaczek. Skorzystaj w niej z wbudowanej funkcji Pythona `input()`. \n",
    "\n",
    "Funkcja ta powinna zwracać wybrane współrzędne jako tuple."
   ]
  },
  {
   "cell_type": "code",
   "execution_count": null,
   "metadata": {},
   "outputs": [],
   "source": [
    "# ..."
   ]
  },
  {
   "cell_type": "markdown",
   "metadata": {},
   "source": [
    "## Napisz kod, który pozwoli zagrać w kółko i krzyżyk\n",
    "\n",
    "Wykorzystaj napisane wcześniej funkcje. Przyda się również funkcja `clear_output` którą zaimportujesz w następujący sposób:\n",
    "\n",
    "`from IPython.display import clear_output`\n",
    "\n",
    "Służy ona do czyszczenia tego co znajduje się na wyjściu komórki JN. Dzięki takiemu czyszczeniu w każdej turze będziemy mogli widzieć tylko aktualny stan planszy.\n",
    "\n",
    "Całość gry zamknij w pętli `while` dzięki czemu gra będzie się toczyć tak długo aż celowo nie wyjdziesz z pętli."
   ]
  },
  {
   "cell_type": "code",
   "execution_count": null,
   "metadata": {},
   "outputs": [],
   "source": [
    "# ..."
   ]
  }
 ],
 "metadata": {
  "kernelspec": {
   "display_name": "Python 3 (ipykernel)",
   "language": "python",
   "name": "python3"
  },
  "language_info": {
   "codemirror_mode": {
    "name": "ipython",
    "version": 3
   },
   "file_extension": ".py",
   "mimetype": "text/x-python",
   "name": "python",
   "nbconvert_exporter": "python",
   "pygments_lexer": "ipython3",
   "version": "3.9.13"
  },
  "toc": {
   "base_numbering": 1,
   "nav_menu": {},
   "number_sections": true,
   "sideBar": true,
   "skip_h1_title": true,
   "title_cell": "Table of Contents",
   "title_sidebar": "Contents",
   "toc_cell": false,
   "toc_position": {},
   "toc_section_display": true,
   "toc_window_display": false
  },
  "varInspector": {
   "cols": {
    "lenName": 16,
    "lenType": 16,
    "lenVar": 40
   },
   "kernels_config": {
    "python": {
     "delete_cmd_postfix": "",
     "delete_cmd_prefix": "del ",
     "library": "var_list.py",
     "varRefreshCmd": "print(var_dic_list())"
    },
    "r": {
     "delete_cmd_postfix": ") ",
     "delete_cmd_prefix": "rm(",
     "library": "var_list.r",
     "varRefreshCmd": "cat(var_dic_list()) "
    }
   },
   "types_to_exclude": [
    "module",
    "function",
    "builtin_function_or_method",
    "instance",
    "_Feature"
   ],
   "window_display": false
  }
 },
 "nbformat": 4,
 "nbformat_minor": 4
}
