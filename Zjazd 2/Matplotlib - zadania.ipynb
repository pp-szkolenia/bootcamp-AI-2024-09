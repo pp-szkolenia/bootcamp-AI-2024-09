{
 "cells": [
  {
   "cell_type": "markdown",
   "id": "81e6b29a",
   "metadata": {},
   "source": [
    "# Matplotlib - zadania"
   ]
  },
  {
   "cell_type": "markdown",
   "id": "ec385601",
   "metadata": {},
   "source": [
    "## Rysowanie wykresów"
   ]
  },
  {
   "cell_type": "markdown",
   "id": "e164803a",
   "metadata": {},
   "source": [
    "1. Narysuj wykres liniowy funkcji $f(x) = x^2$ dla $x$ należącego do przedziału [-10, 10].\n",
    "\n",
    "---\n",
    "(czas: 6 min.)"
   ]
  },
  {
   "cell_type": "code",
   "execution_count": null,
   "id": "9e37b437",
   "metadata": {},
   "outputs": [],
   "source": [
    "# ..."
   ]
  },
  {
   "cell_type": "markdown",
   "id": "231b1aad",
   "metadata": {},
   "source": [
    "2. Narysuj na jednym wykresie wykresy liniowe funkcji $f(x) = \\text{sin}(x)$ oraz $f(x) = \\text{cos}(x)$\n",
    "\n",
    "(czas: 6 min.)"
   ]
  },
  {
   "cell_type": "code",
   "execution_count": null,
   "id": "c7f68098",
   "metadata": {},
   "outputs": [],
   "source": [
    "# ..."
   ]
  },
  {
   "cell_type": "markdown",
   "id": "c14f66e1",
   "metadata": {},
   "source": [
    "---\n",
    "---\n",
    "---"
   ]
  },
  {
   "cell_type": "markdown",
   "id": "892f16d8",
   "metadata": {},
   "source": [
    "3. Oba powyższe wykresy zmodyfikuj tak aby były wykresami punktowymi.\n",
    "\n",
    "---\n",
    "(czas: 2 min.)"
   ]
  },
  {
   "cell_type": "code",
   "execution_count": null,
   "id": "fffe1db1",
   "metadata": {},
   "outputs": [],
   "source": [
    "# ..."
   ]
  },
  {
   "cell_type": "markdown",
   "id": "a79194f1",
   "metadata": {},
   "source": [
    "4. Wczytaj dane z pliku `weight-height.csv`. Narysuj wykres punktowy obrazujący zależność między wagą a wzrostem ludzi. Następnie podziel zbiór danych na dwie części (na podstawie płci) i stwórz dwa analogiczne wykresy, które będą na siebie nałożone.\n",
    "\n",
    "---\n",
    "\n",
    "(czas: 9 min.)"
   ]
  },
  {
   "cell_type": "code",
   "execution_count": null,
   "id": "d7a6ea4a",
   "metadata": {},
   "outputs": [],
   "source": [
    "# ..."
   ]
  },
  {
   "cell_type": "markdown",
   "id": "c8d309ba",
   "metadata": {},
   "source": [
    "5. Wczytaj dane z pliku `AirPassengers.csv` i stwórz wykres liniowy liczby pasażerów na przestrzeni czasu.\n",
    "\n",
    "---\n",
    "(czas: 5 min.)"
   ]
  },
  {
   "cell_type": "code",
   "execution_count": null,
   "id": "52512f60",
   "metadata": {},
   "outputs": [],
   "source": [
    "# ..."
   ]
  },
  {
   "cell_type": "markdown",
   "id": "5e28dda3",
   "metadata": {},
   "source": [
    "---\n",
    "---\n",
    "---"
   ]
  },
  {
   "cell_type": "markdown",
   "id": "c096c80f",
   "metadata": {},
   "source": [
    "6. Wczytaj dane z pliku `exchange_rates.csv` i stwórz wykres liniowy, na którym zobrazujesz zmiany ceny dolara w poszczególnych walutach.\n",
    "\n",
    "---\n",
    "(czas: 8 min.)"
   ]
  },
  {
   "cell_type": "code",
   "execution_count": null,
   "id": "4f68e438",
   "metadata": {},
   "outputs": [],
   "source": [
    "# ..."
   ]
  },
  {
   "cell_type": "markdown",
   "id": "1af6590e",
   "metadata": {},
   "source": [
    "7. Wygeneruj wektor 1000 losowych wartości z rozkładu normalnego standardowego (funkcja `np.random.randn`). Następnie przedstaw je na histogramie. Zobacz jak zmiana liczby słupków wpływa na wygląd wykresu.\n",
    "\n",
    "---\n",
    "(czas: 8 min.)"
   ]
  },
  {
   "cell_type": "code",
   "execution_count": null,
   "id": "e114056f",
   "metadata": {},
   "outputs": [],
   "source": [
    "# ..."
   ]
  },
  {
   "cell_type": "markdown",
   "id": "33182b1e",
   "metadata": {},
   "source": [
    "8. Wczytaj plik `cars.csv`. Stwórz histogramy ceny, mocy oraz pojemności silnika samochodów. Jeżeli będzie potrzeba, przefiltruj zbiór danych, odsiewając zbyt duże wartości.\n",
    "\n",
    "---\n",
    "(czas: 10 min.)"
   ]
  },
  {
   "cell_type": "code",
   "execution_count": null,
   "id": "cc879e3a",
   "metadata": {},
   "outputs": [],
   "source": [
    "# ..."
   ]
  },
  {
   "cell_type": "markdown",
   "id": "5bd76170",
   "metadata": {},
   "source": [
    "---\n",
    "---\n",
    "---"
   ]
  },
  {
   "cell_type": "markdown",
   "id": "004e034a",
   "metadata": {},
   "source": [
    "9. Sprawdź ile jest wystąpień samochodów spalających poszczególne rodzaje paliwa. Narysuj wykres słupkowy, który to zobrazuje.\n",
    "\n",
    "---\n",
    "(czas: 7 min.)"
   ]
  },
  {
   "cell_type": "code",
   "execution_count": null,
   "id": "3d75c8b5",
   "metadata": {},
   "outputs": [],
   "source": [
    "# ..."
   ]
  },
  {
   "cell_type": "markdown",
   "id": "c4663824",
   "metadata": {},
   "source": [
    "10. Narysuj dwa wykresy słupkowe. Przedstaw na nich:\n",
    "- średnią cenę\n",
    "- liczebność\n",
    "\n",
    "z podziałem na samochody z automatyczną oraz manualną skrzynią biegów\n",
    "\n",
    "---\n",
    "(czas: 5 min.)"
   ]
  },
  {
   "cell_type": "code",
   "execution_count": null,
   "id": "2eacebd7",
   "metadata": {},
   "outputs": [],
   "source": [
    "# ..."
   ]
  },
  {
   "cell_type": "markdown",
   "id": "fba75e0d",
   "metadata": {},
   "source": [
    "## Stylowanie wykresów"
   ]
  },
  {
   "cell_type": "markdown",
   "id": "9cbd0c1b",
   "metadata": {},
   "source": [
    "1. Do wykresów z zadań 1 i 2 dodaj:\n",
    "- zmianę kolorów\n",
    "- zmianę stylu linii\n",
    "- opisy osi oraz tytuł\n",
    "- granice osi\n",
    "\n",
    "---\n",
    "\n",
    "(czas: 12 min.)"
   ]
  },
  {
   "cell_type": "code",
   "execution_count": null,
   "id": "4367fdef",
   "metadata": {},
   "outputs": [],
   "source": [
    "# ..."
   ]
  },
  {
   "cell_type": "markdown",
   "id": "ffbf2f51",
   "metadata": {},
   "source": [
    "---"
   ]
  },
  {
   "cell_type": "markdown",
   "id": "1cc2e2b1",
   "metadata": {},
   "source": [
    "2. Do wykresów z zadań 3, 4 i 5 dodaj:\n",
    "- zmianę kolorów\n",
    "- zmianę stylu linii\n",
    "- opisy osi oraz tytuł\n",
    "- granice osi\n",
    "\n",
    "---\n",
    "\n",
    "(czas: 12 min.)"
   ]
  },
  {
   "cell_type": "code",
   "execution_count": null,
   "id": "614ee2c1",
   "metadata": {},
   "outputs": [],
   "source": [
    "# ..."
   ]
  },
  {
   "cell_type": "markdown",
   "id": "a540dd8a",
   "metadata": {},
   "source": [
    "---\n",
    "---\n",
    "---"
   ]
  },
  {
   "cell_type": "markdown",
   "id": "5ab45ed5",
   "metadata": {},
   "source": [
    "3. Do wykresów z zadań 1 i 2 dodaj:\n",
    "- modyfikację ticków\n",
    "- legendę\n",
    "- siatkę\n",
    "- zmianę rozmiarów\n",
    "\n",
    "---\n",
    "\n",
    "(czas: 12 min.)"
   ]
  },
  {
   "cell_type": "markdown",
   "id": "2b689094",
   "metadata": {},
   "source": [
    "---"
   ]
  },
  {
   "cell_type": "code",
   "execution_count": null,
   "id": "650c122a",
   "metadata": {},
   "outputs": [],
   "source": [
    "# ..."
   ]
  },
  {
   "cell_type": "markdown",
   "id": "2e317841",
   "metadata": {},
   "source": [
    "4. Do wykresów z zadań 3, 4 i 5 dodaj:\n",
    "- modyfikację ticków\n",
    "- legendę\n",
    "- siatkę\n",
    "- zmianę rozmiarów\n",
    "\n",
    "---\n",
    "\n",
    "(czas: 12 min.)"
   ]
  },
  {
   "cell_type": "code",
   "execution_count": null,
   "id": "7387dd88",
   "metadata": {},
   "outputs": [],
   "source": [
    "# ..."
   ]
  },
  {
   "cell_type": "markdown",
   "id": "37d392a4",
   "metadata": {},
   "source": [
    "---\n",
    "---\n",
    "---"
   ]
  },
  {
   "cell_type": "markdown",
   "id": "488d97de",
   "metadata": {},
   "source": [
    "5. Wykresy z zadania 1 i 2 przedstaw na jednej figurze jako subploty ułożone obok siebie\n",
    "\n",
    "---\n",
    "(czas: 10 min.)"
   ]
  },
  {
   "cell_type": "code",
   "execution_count": null,
   "id": "27019a5a",
   "metadata": {},
   "outputs": [],
   "source": [
    "# ..."
   ]
  }
 ],
 "metadata": {
  "kernelspec": {
   "display_name": "Python 3 (ipykernel)",
   "language": "python",
   "name": "python3"
  },
  "language_info": {
   "codemirror_mode": {
    "name": "ipython",
    "version": 3
   },
   "file_extension": ".py",
   "mimetype": "text/x-python",
   "name": "python",
   "nbconvert_exporter": "python",
   "pygments_lexer": "ipython3",
   "version": "3.11.5"
  },
  "toc": {
   "base_numbering": 1,
   "nav_menu": {},
   "number_sections": true,
   "sideBar": true,
   "skip_h1_title": true,
   "title_cell": "Table of Contents",
   "title_sidebar": "Contents",
   "toc_cell": false,
   "toc_position": {},
   "toc_section_display": true,
   "toc_window_display": false
  },
  "varInspector": {
   "cols": {
    "lenName": 16,
    "lenType": 16,
    "lenVar": 40
   },
   "kernels_config": {
    "python": {
     "delete_cmd_postfix": "",
     "delete_cmd_prefix": "del ",
     "library": "var_list.py",
     "varRefreshCmd": "print(var_dic_list())"
    },
    "r": {
     "delete_cmd_postfix": ") ",
     "delete_cmd_prefix": "rm(",
     "library": "var_list.r",
     "varRefreshCmd": "cat(var_dic_list()) "
    }
   },
   "types_to_exclude": [
    "module",
    "function",
    "builtin_function_or_method",
    "instance",
    "_Feature"
   ],
   "window_display": false
  }
 },
 "nbformat": 4,
 "nbformat_minor": 5
}
