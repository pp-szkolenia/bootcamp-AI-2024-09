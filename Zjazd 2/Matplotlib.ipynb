{
 "cells": [
  {
   "cell_type": "markdown",
   "id": "3656ca92",
   "metadata": {},
   "source": [
    "# Matplotlib"
   ]
  },
  {
   "cell_type": "code",
   "execution_count": null,
   "id": "9c071e0d",
   "metadata": {},
   "outputs": [],
   "source": [
    "import pandas as pd\n",
    "pd.set_option('display.max_rows', 20)\n",
    "\n",
    "df = pd.read_csv(\"data/cars.csv\", parse_dates=['offer_timestamp'])\n",
    "df.head()"
   ]
  },
  {
   "cell_type": "markdown",
   "id": "65e8f643",
   "metadata": {},
   "source": [
    "## Podstawowe typy wykresów\n",
    "\n",
    "### Wykres liniowy (*line plot*)\n",
    "\n",
    "**Kiedy używamy:**\n",
    "- mamy dwie zmienne o rozkładzie ciągłym\n",
    "- istnieje między nimi zależność\n",
    "- powinien istnieć określony porządek wartości dla zmiennej niezależnej\n",
    "\n",
    "---\n",
    "**Zadanie:**\n",
    "\n",
    "Zwizualizuj średnią cenę samochodów wyprodukowanych w latach 1990-2021"
   ]
  },
  {
   "cell_type": "code",
   "execution_count": null,
   "id": "f32b6603",
   "metadata": {},
   "outputs": [],
   "source": [
    "price_per_year = df[df[\"prod_year\"]>=1990].groupby(\"prod_year\")[\"price\"].mean()\n",
    "price_per_year"
   ]
  },
  {
   "cell_type": "code",
   "execution_count": null,
   "id": "5ca47bab",
   "metadata": {},
   "outputs": [],
   "source": [
    "import matplotlib.pyplot as plt\n",
    "\n",
    "plt.plot(price_per_year.index, price_per_year.values)  #;"
   ]
  },
  {
   "cell_type": "code",
   "execution_count": null,
   "id": "6b353c94",
   "metadata": {},
   "outputs": [],
   "source": [
    "plt.plot(df[\"mileage\"], df[\"engine_vol\"]);"
   ]
  },
  {
   "cell_type": "code",
   "execution_count": null,
   "id": "f87a2ccc",
   "metadata": {},
   "outputs": [],
   "source": [
    "plt.plot([1, 2, 3, 4], [12, 15, 10, 11]);"
   ]
  },
  {
   "cell_type": "code",
   "execution_count": null,
   "id": "84426c92",
   "metadata": {},
   "outputs": [],
   "source": [
    "plt.plot([1, 2, 3, 4], [12, 15, 10, 11])\n",
    "plt.plot([1, 2, 3, 4], [8, 5, 11, 10]);"
   ]
  },
  {
   "cell_type": "code",
   "execution_count": null,
   "id": "de77eaf4",
   "metadata": {},
   "outputs": [],
   "source": [
    "plt.plot([12, 15, 10, 11]);\n",
    "\n",
    "# plt.show()"
   ]
  },
  {
   "cell_type": "markdown",
   "id": "df7e049e",
   "metadata": {},
   "source": [
    "> ZADANIA"
   ]
  },
  {
   "cell_type": "markdown",
   "id": "ebd73516",
   "metadata": {},
   "source": [
    "### Wykres punktowy (*scatter plot*)\n",
    "\n",
    "**Kiedy używamy:**\n",
    "- mamy dwie zmienne z czego przynajmniej jedna (niezależna) ma rozkład dyskretny ALBO mamy dwie zmienne o rozkładzie ciągłym oraz dane pomiarowe konkretnych obserwacji\n",
    "- istnieje między nimi zależność\n",
    "\n",
    "---\n",
    "**Zadanie:**\n",
    "\n",
    "Sprawdź czy istnieje zależność liniowa między mocą samochodu a jego ceną."
   ]
  },
  {
   "cell_type": "code",
   "execution_count": null,
   "id": "f9f5cd75",
   "metadata": {},
   "outputs": [],
   "source": [
    "df.head()"
   ]
  },
  {
   "cell_type": "code",
   "execution_count": null,
   "id": "1fb8b3d1",
   "metadata": {},
   "outputs": [],
   "source": [
    "plt.scatter(df[\"power\"], df[\"price\"]);"
   ]
  },
  {
   "cell_type": "markdown",
   "id": "66d94653",
   "metadata": {},
   "source": [
    "W danych występują outliery. Warto się ich najpierw pozbyć."
   ]
  },
  {
   "cell_type": "code",
   "execution_count": null,
   "id": "242f3071",
   "metadata": {},
   "outputs": [],
   "source": [
    "df = df[(df[\"power\"] < 600) & (df[\"price\"] < 1e5)]"
   ]
  },
  {
   "cell_type": "code",
   "execution_count": null,
   "id": "6b9f7f78",
   "metadata": {},
   "outputs": [],
   "source": [
    "plt.scatter(df[\"power\"], df[\"price\"]);"
   ]
  },
  {
   "cell_type": "code",
   "execution_count": null,
   "id": "04ebb6aa",
   "metadata": {},
   "outputs": [],
   "source": [
    "plt.scatter(df[\"power\"][::1000], df[\"price\"][::1000]);"
   ]
  },
  {
   "cell_type": "code",
   "execution_count": null,
   "id": "55f88d4d",
   "metadata": {},
   "outputs": [],
   "source": [
    "plt.scatter([1, 2, 3, 4], [12, 15, 10, 11]);"
   ]
  },
  {
   "cell_type": "markdown",
   "id": "3babdb92",
   "metadata": {},
   "source": [
    "> ZADANIA"
   ]
  },
  {
   "cell_type": "markdown",
   "id": "b85b6adb",
   "metadata": {},
   "source": [
    "### Histogram (*histogram*)\n",
    "\n",
    "**Kiedy używamy:**\n",
    "- mamy wiele obserwacji zmiennej numerycznej, której rozkład chcemy zwizualizować\n",
    "\n",
    "---\n",
    "**Zadanie:**\n",
    "\n",
    "Zwizualizuj rozkład zmiennej `mileage` zawierającej informacje o przebiegu samochodów."
   ]
  },
  {
   "cell_type": "code",
   "execution_count": null,
   "id": "e6a74eef",
   "metadata": {},
   "outputs": [],
   "source": [
    "df = df[df[\"mileage\"]<0.5e6]\n",
    "\n",
    "plt.hist(df[\"mileage\"]);"
   ]
  },
  {
   "cell_type": "markdown",
   "id": "9083b8fe",
   "metadata": {},
   "source": [
    "Wykres jest mało czytelny, dodajmy krawędzie."
   ]
  },
  {
   "cell_type": "code",
   "execution_count": null,
   "id": "f05ef1b5",
   "metadata": {},
   "outputs": [],
   "source": [
    "plt.hist(df[\"mileage\"], edgecolor='black');"
   ]
  },
  {
   "cell_type": "markdown",
   "id": "bbb2a59b",
   "metadata": {},
   "source": [
    "Możemy również zdefiniować przedziały słupków. Albo określimy ich liczbę, albo granice przedziałów."
   ]
  },
  {
   "cell_type": "code",
   "execution_count": null,
   "id": "62862c1f",
   "metadata": {},
   "outputs": [],
   "source": [
    "plt.hist(df[\"mileage\"], edgecolor='black', bins=20);"
   ]
  },
  {
   "cell_type": "code",
   "execution_count": null,
   "id": "3446ee43",
   "metadata": {},
   "outputs": [],
   "source": [
    "plt.hist(df[\"mileage\"], bins=range(1000, 500000, 1000));"
   ]
  },
  {
   "cell_type": "code",
   "execution_count": null,
   "id": "c46578ca",
   "metadata": {},
   "outputs": [],
   "source": [
    "plt.hist(df[(df[\"mileage\"]>0.8e5) & (df[\"mileage\"]<1.8e5)][\"mileage\"], edgecolor='black', bins=range(80000, 180000, 1000));"
   ]
  },
  {
   "cell_type": "code",
   "execution_count": null,
   "id": "e64b30f3",
   "metadata": {},
   "outputs": [],
   "source": [
    "plt.hist(df[(df[\"mileage\"]>1.8e5) & (df[\"mileage\"]<2.2e5)][\"mileage\"], edgecolor='black', bins=range(180000, 220000, 1000));"
   ]
  },
  {
   "cell_type": "code",
   "execution_count": null,
   "id": "11782018",
   "metadata": {},
   "outputs": [],
   "source": [
    "n, bins, _ = plt.hist(\n",
    "    df[(df[\"mileage\"]>1.8e5) & (df[\"mileage\"]<2.2e5)][\"mileage\"], edgecolor='black', bins=range(180000, 220000, 1000));"
   ]
  },
  {
   "cell_type": "code",
   "execution_count": null,
   "id": "e130b303",
   "metadata": {},
   "outputs": [],
   "source": [
    "n"
   ]
  },
  {
   "cell_type": "code",
   "execution_count": null,
   "id": "b141dbf9",
   "metadata": {},
   "outputs": [],
   "source": [
    "bins"
   ]
  },
  {
   "cell_type": "code",
   "execution_count": null,
   "id": "d38efd52",
   "metadata": {},
   "outputs": [],
   "source": [
    "n.argmax()"
   ]
  },
  {
   "cell_type": "code",
   "execution_count": null,
   "id": "f1840a30",
   "metadata": {},
   "outputs": [],
   "source": [
    "bins[n.argmax()]"
   ]
  },
  {
   "cell_type": "markdown",
   "id": "7bf670c5",
   "metadata": {},
   "source": [
    "> ZADANIA"
   ]
  },
  {
   "cell_type": "markdown",
   "id": "6f4dd31a",
   "metadata": {},
   "source": [
    "### Wykres słupkowy (*bar plot*)\n",
    "\n",
    "**Kiedy używamy:**\n",
    "- chcemy zwizualizować relację między jedną zmienną kategoryczną i jedną zmienną ciągłą\n",
    "- dla każdej unikalnej wartości pierwszej zmiennej przedstawiamy odpowiadającą jej wartość drugiej zmiennej\n",
    "\n",
    "---\n",
    "**Zadanie:**\n",
    "\n",
    "Zwizualizuj średnią cenę samochodów marek: Fiat, Volkswagen, Mercedes-Benz."
   ]
  },
  {
   "cell_type": "code",
   "execution_count": null,
   "id": "a05ac330",
   "metadata": {},
   "outputs": [],
   "source": [
    "brands_prices = df.groupby(\"brand\").mean(numeric_only=True)[\"price\"].loc[[\"Fiat\", \"Volkswagen\", \"Mercedes-Benz\"]]\n",
    "brands_prices"
   ]
  },
  {
   "cell_type": "code",
   "execution_count": null,
   "id": "abec0781",
   "metadata": {},
   "outputs": [],
   "source": [
    "plt.bar(brands_prices.index, brands_prices.values);"
   ]
  },
  {
   "cell_type": "code",
   "execution_count": null,
   "id": "a4db4aa8",
   "metadata": {},
   "outputs": [],
   "source": [
    "plt.bar([\"a\", \"b\", \"c\"], [3, 6, -2]);"
   ]
  },
  {
   "cell_type": "markdown",
   "id": "80596e7d",
   "metadata": {},
   "source": [
    "> ZADANIA"
   ]
  },
  {
   "cell_type": "markdown",
   "id": "b02c0df3",
   "metadata": {},
   "source": [
    "### Wykres kołowy (*pie plot*)\n",
    "\n",
    "**Kiedy używamy:**\n",
    "- przedstawiamy na jakie części i w jakich proporcjach dzieli się pewna całość\n",
    "\n",
    "---\n",
    "**Zadanie:**\n",
    "\n",
    "Przedstaw na wykresie procentowy udział poszczególnych marek w całości danych. Powinno znajdować się tam 8 najpopularniejszych marek a reszta niech trafi do zbiorczej kategorii \"Inne\""
   ]
  },
  {
   "cell_type": "code",
   "execution_count": null,
   "id": "3de796e1",
   "metadata": {},
   "outputs": [],
   "source": [
    "value_counts = df[\"brand\"].value_counts(normalize=True).iloc[:8]\n",
    "value_counts"
   ]
  },
  {
   "cell_type": "code",
   "execution_count": null,
   "id": "45915536",
   "metadata": {},
   "outputs": [],
   "source": [
    "values = list(value_counts.values) + [(1 - value_counts.sum())]\n",
    "labels = list(value_counts.index) + [\"Inne\"]"
   ]
  },
  {
   "cell_type": "code",
   "execution_count": null,
   "id": "b695e5b4",
   "metadata": {},
   "outputs": [],
   "source": [
    "plt.pie(values, labels=labels, autopct='%.2f');"
   ]
  },
  {
   "cell_type": "code",
   "execution_count": null,
   "id": "9a9ffb94",
   "metadata": {},
   "outputs": [],
   "source": [
    "plt.pie([1, 2, 3], labels=[\"a\", \"b\", \"c\"]);"
   ]
  },
  {
   "cell_type": "markdown",
   "id": "a2b9060b",
   "metadata": {},
   "source": [
    "### Heatmapa (*heatmap*)\n",
    "\n",
    "**Kiedy używamy:**\n",
    "- mamy dwie zmienne kategoryczne/numeryczne, które tworzą przestrzeń dwuwymiarową\n",
    "- dla każdego punktu w tej przestrzeni pewna zmienna numeryczna ma określoną wartość\n",
    "\n",
    "Często ten typ wykresu obrazuje rozkład temperatury na jakiejś powierzchni\n",
    "\n",
    "---\n",
    "**Zadanie:**\n",
    "\n",
    "Przedstaw na heatmapie liczbę wystawionych ofert sprzedaży samochodów o poszczególnych kształtach nadwozia w poszczególnych latach "
   ]
  },
  {
   "cell_type": "code",
   "execution_count": null,
   "id": "3be88405",
   "metadata": {},
   "outputs": [],
   "source": [
    "df2 = df[df[\"prod_year\"]>2012]"
   ]
  },
  {
   "cell_type": "code",
   "execution_count": null,
   "id": "ba25ad20",
   "metadata": {},
   "outputs": [],
   "source": [
    "outside = np.repeat(sorted(df2[\"body\"].unique()), df2[\"prod_year\"].nunique())\n",
    "inside = sorted(df2[\"prod_year\"].unique()) * df2[\"body\"].nunique()\n",
    "zipped_index = zip(outside, inside)\n",
    "hier_index = pd.MultiIndex.from_tuples(zipped_index)"
   ]
  },
  {
   "cell_type": "code",
   "execution_count": null,
   "id": "c81f25e9",
   "metadata": {},
   "outputs": [],
   "source": [
    "grouped_df = df2.groupby([\"body\", \"prod_year\"]).count()[\"price\"].reindex(hier_index, fill_value=0)\n",
    "grouped_df"
   ]
  },
  {
   "cell_type": "code",
   "execution_count": null,
   "id": "53c0d5c8",
   "metadata": {},
   "outputs": [],
   "source": [
    "values_matrix = grouped_df.values.reshape(df2[\"body\"].nunique(), df2[\"prod_year\"].nunique())\n",
    "values_matrix"
   ]
  },
  {
   "cell_type": "code",
   "execution_count": null,
   "id": "164e81d0",
   "metadata": {},
   "outputs": [],
   "source": [
    "sorted(df2[\"body\"].unique())"
   ]
  },
  {
   "cell_type": "code",
   "execution_count": null,
   "id": "3a40ccc0",
   "metadata": {},
   "outputs": [],
   "source": [
    "sorted(df2[\"prod_year\"].unique())"
   ]
  },
  {
   "cell_type": "code",
   "execution_count": null,
   "id": "61148ba7",
   "metadata": {},
   "outputs": [],
   "source": [
    "plt.imshow(values_matrix);"
   ]
  },
  {
   "cell_type": "code",
   "execution_count": null,
   "id": "e248d201",
   "metadata": {},
   "outputs": [],
   "source": [
    "plt.imshow(np.arange(10000).reshape(100, 100));"
   ]
  },
  {
   "attachments": {
    "image.png": {
     "image/png": "[encoded data removed]"
    }
   },
   "cell_type": "markdown",
   "id": "a04ffb52",
   "metadata": {},
   "source": [
    "## Stylowanie wykresu\n",
    "\n",
    "![image.png](attachment:image.png)\n",
    "\n",
    "### Kolory"
   ]
  },
  {
   "cell_type": "code",
   "execution_count": null,
   "id": "2bc42d06",
   "metadata": {},
   "outputs": [],
   "source": [
    "x = np.arange(100) + 5*np.random.randn(100)\n",
    "y = 10 + 0.6*np.arange(100) + 5*np.random.randn(100)\n",
    "\n",
    "plt.plot(x);\n",
    "plt.plot(y);"
   ]
  },
  {
   "cell_type": "code",
   "execution_count": null,
   "id": "e090e2d6",
   "metadata": {},
   "outputs": [],
   "source": [
    "plt.plot(x, color='r');\n",
    "plt.plot(y, color='#14f4ac');\n",
    "plt.plot(1.5*y, c='blue');\n",
    "plt.plot(1.5*x, c='k');"
   ]
  },
  {
   "cell_type": "markdown",
   "id": "de6d6651",
   "metadata": {},
   "source": [
    "### Markery i styl linii"
   ]
  },
  {
   "cell_type": "code",
   "execution_count": null,
   "id": "6beb894a",
   "metadata": {},
   "outputs": [],
   "source": [
    "plt.scatter(x, y);"
   ]
  },
  {
   "cell_type": "code",
   "execution_count": null,
   "id": "bb997788",
   "metadata": {},
   "outputs": [],
   "source": [
    "plt.scatter(x, y, marker='.');  # x, ^, v, *, ... -> https://matplotlib.org/stable/api/markers_api.html"
   ]
  },
  {
   "cell_type": "code",
   "execution_count": null,
   "id": "b10f4c9e",
   "metadata": {},
   "outputs": [],
   "source": [
    "plt.plot(y, '--');  # .-, *-, o, ., ... -> https://matplotlib.org/stable/api/_as_gen/matplotlib.pyplot.plot.html"
   ]
  },
  {
   "cell_type": "code",
   "execution_count": null,
   "id": "bde8fa3a",
   "metadata": {},
   "outputs": [],
   "source": [
    "plt.plot(y, 'g.-');"
   ]
  },
  {
   "cell_type": "markdown",
   "id": "737b08c4",
   "metadata": {},
   "source": [
    "### Opisy osi i tytuł wykresu"
   ]
  },
  {
   "cell_type": "code",
   "execution_count": null,
   "id": "f3ea4ec0",
   "metadata": {},
   "outputs": [],
   "source": [
    "plt.plot(x);\n",
    "\n",
    "plt.xlabel(\"Oś x\");\n",
    "plt.ylabel(\"Oś y\");\n",
    "plt.title(\"Tytuł wykresu\");"
   ]
  },
  {
   "cell_type": "code",
   "execution_count": null,
   "id": "b8b008ae",
   "metadata": {},
   "outputs": [],
   "source": [
    "plt.plot(x);\n",
    "\n",
    "plt.xlabel(\"Oś x\", fontsize=14);\n",
    "plt.ylabel(\"Oś y\", fontsize=14);\n",
    "plt.title(\"Tytuł wykresu ~ $\\lambda \\phi \\cdot \\epsilon$\", fontsize=16);"
   ]
  },
  {
   "cell_type": "markdown",
   "id": "afdcdc78",
   "metadata": {},
   "source": [
    "### Granice"
   ]
  },
  {
   "cell_type": "code",
   "execution_count": null,
   "id": "2fbc9e1f",
   "metadata": {},
   "outputs": [],
   "source": [
    "plt.plot(x);\n",
    "\n",
    "plt.xlim([20, 50]);\n",
    "plt.ylim(10, 60);"
   ]
  },
  {
   "cell_type": "markdown",
   "id": "e5a12ce2",
   "metadata": {},
   "source": [
    "> ZADANIA"
   ]
  },
  {
   "cell_type": "markdown",
   "id": "596b2b68",
   "metadata": {},
   "source": [
    "### Ticki"
   ]
  },
  {
   "cell_type": "code",
   "execution_count": null,
   "id": "23e0d921",
   "metadata": {},
   "outputs": [],
   "source": [
    "plt.plot(x);"
   ]
  },
  {
   "cell_type": "code",
   "execution_count": null,
   "id": "7075d25c",
   "metadata": {},
   "outputs": [],
   "source": [
    "plt.plot(x);\n",
    "plt.xticks([10, 30, 60]);"
   ]
  },
  {
   "cell_type": "code",
   "execution_count": null,
   "id": "f2f09a1f",
   "metadata": {},
   "outputs": [],
   "source": [
    "plt.plot(x);\n",
    "plt.xticks([10, 30, 60], [\"a\", \"b\", \"c\"]);\n",
    "plt.yticks([50, 60], [\"a1\", \"b1\"]);"
   ]
  },
  {
   "cell_type": "markdown",
   "id": "ef4d2b1f",
   "metadata": {},
   "source": [
    "### Legenda"
   ]
  },
  {
   "cell_type": "code",
   "execution_count": null,
   "id": "56d3ceec",
   "metadata": {},
   "outputs": [],
   "source": [
    "plt.plot(x, label='x');\n",
    "plt.plot(y, label='y');\n",
    "plt.plot(1.5*y, label='$1.5\\cdot y$');\n",
    "plt.plot(1.5*x, label='$1.5\\cdot x$');\n",
    "\n",
    "plt.legend();"
   ]
  },
  {
   "cell_type": "code",
   "execution_count": null,
   "id": "ccd799a4",
   "metadata": {},
   "outputs": [],
   "source": [
    "plt.plot(x, label='x');\n",
    "plt.plot(y, label='y');\n",
    "plt.plot(1.5*y, label='$1.5\\cdot y$');\n",
    "plt.plot(1.5*x, label='$1.5\\cdot x$');\n",
    "\n",
    "plt.legend(loc=1);  # 2, 3, ... -> https://matplotlib.org/stable/api/_as_gen/matplotlib.pyplot.legend.html"
   ]
  },
  {
   "cell_type": "markdown",
   "id": "81ddb3c9",
   "metadata": {},
   "source": [
    "### Siatka"
   ]
  },
  {
   "cell_type": "code",
   "execution_count": null,
   "id": "5caed844",
   "metadata": {},
   "outputs": [],
   "source": [
    "plt.plot(x);\n",
    "plt.plot(y);\n",
    "plt.plot(1.5*y);\n",
    "plt.plot(1.5*x);\n",
    "\n",
    "plt.grid();  # axis='x', 'y'"
   ]
  },
  {
   "cell_type": "markdown",
   "id": "fde98913",
   "metadata": {},
   "source": [
    "### Zmiana rozmiaru"
   ]
  },
  {
   "cell_type": "code",
   "execution_count": null,
   "id": "b44b4488",
   "metadata": {},
   "outputs": [],
   "source": [
    "plt.figure(figsize=(5, 3))\n",
    "\n",
    "plt.plot(x);"
   ]
  },
  {
   "cell_type": "code",
   "execution_count": null,
   "id": "9bef075e",
   "metadata": {},
   "outputs": [],
   "source": [
    "plt.figure(figsize=(5, 7))\n",
    "\n",
    "plt.plot(y);"
   ]
  },
  {
   "cell_type": "code",
   "execution_count": null,
   "id": "3921198a",
   "metadata": {},
   "outputs": [],
   "source": [
    "plt.figure(figsize=(5, 7))\n",
    "plt.plot(y);\n",
    "\n",
    "# plt.figure(figsize=(3, 2))\n",
    "plt.plot(x);"
   ]
  },
  {
   "cell_type": "markdown",
   "id": "420811a2",
   "metadata": {},
   "source": [
    "> ZADANIA"
   ]
  },
  {
   "cell_type": "markdown",
   "id": "bbeb8210",
   "metadata": {},
   "source": [
    "### Subploty"
   ]
  },
  {
   "cell_type": "code",
   "execution_count": null,
   "id": "a923598a",
   "metadata": {},
   "outputs": [],
   "source": [
    "fig, ax = plt.subplots()\n",
    "\n",
    "ax.plot(x);"
   ]
  },
  {
   "cell_type": "code",
   "execution_count": null,
   "id": "591feaf2",
   "metadata": {},
   "outputs": [],
   "source": [
    "ax"
   ]
  },
  {
   "cell_type": "code",
   "execution_count": null,
   "id": "bab454a1",
   "metadata": {},
   "outputs": [],
   "source": [
    "fig"
   ]
  },
  {
   "cell_type": "code",
   "execution_count": null,
   "id": "82fe6351",
   "metadata": {},
   "outputs": [],
   "source": [
    "fig, ax = plt.subplots(2, 2, figsize=(8, 8))  # , sharex=True, sharey=True\n",
    "\n",
    "ax[0, 0].plot(x);\n",
    "ax[0, 1].plot(y);\n",
    "ax[1, 0].plot(2*x);\n",
    "ax[1, 1].plot(2*y);\n",
    "\n",
    "plt.subplots_adjust(left=0.1, bottom=0.05, right=0.9, top=0.8, wspace=0.25, hspace=0.35)"
   ]
  },
  {
   "cell_type": "code",
   "execution_count": null,
   "id": "42bd25e5",
   "metadata": {},
   "outputs": [],
   "source": [
    "fig, ax = plt.subplots(2, 2, figsize=(8, 8))\n",
    "\n",
    "ax[0, 0].plot(x);\n",
    "ax[0, 1].plot(y);\n",
    "ax[1, 0].plot(2*x);\n",
    "ax[1, 1].plot(2*y);\n",
    "\n",
    "ax[0, 0].set_title(\"Wykres x\");\n",
    "ax[0, 1].set_title(\"Wykres y\");\n",
    "ax[1, 0].set_title(\"Wykres 2*x\");\n",
    "ax[1, 1].set_title(\"Wykres 2*y\");\n",
    "\n",
    "fig.suptitle(\"Tytuł całego wykresu\");\n",
    "\n",
    "ax[1, 1].set_xticks([20, 50, 80], [\"a\", \"b\", \"c\"]);"
   ]
  },
  {
   "cell_type": "code",
   "execution_count": null,
   "id": "dca0478f",
   "metadata": {},
   "outputs": [],
   "source": [
    "ax"
   ]
  },
  {
   "cell_type": "code",
   "execution_count": null,
   "id": "0bc5abaf",
   "metadata": {},
   "outputs": [],
   "source": [
    "fig"
   ]
  },
  {
   "cell_type": "markdown",
   "id": "808ea3f7",
   "metadata": {},
   "source": [
    "> ZADANIA"
   ]
  },
  {
   "cell_type": "markdown",
   "id": "c5bf4d9e",
   "metadata": {},
   "source": [
    "### Colorbar i colormap"
   ]
  },
  {
   "cell_type": "code",
   "execution_count": null,
   "id": "e803af93",
   "metadata": {},
   "outputs": [],
   "source": [
    "plt.imshow(np.arange(10000).reshape(100, 100));  # , cmap='jet'\n",
    "\n",
    "plt.colorbar();"
   ]
  },
  {
   "cell_type": "markdown",
   "id": "f38f302f",
   "metadata": {},
   "source": [
    "### Zaawansowane stylowanie ticków"
   ]
  },
  {
   "cell_type": "code",
   "execution_count": null,
   "id": "6fc487be",
   "metadata": {},
   "outputs": [],
   "source": [
    "fig, ax = plt.subplots()\n",
    "\n",
    "ax.plot(x, '--')\n",
    "\n",
    "ax.set_title(\"Tytuł\")\n",
    "ax.set_xlabel('Oś x')\n",
    "ax.set_ylabel('Oś y')\n",
    "\n",
    "ax.tick_params(axis='both', which='both', direction='in', labelsize=14)  # axis: x, y, both  which: major, minor, both\n",
    "ax.minorticks_on()"
   ]
  },
  {
   "cell_type": "code",
   "execution_count": null,
   "id": "9292676d",
   "metadata": {},
   "outputs": [],
   "source": [
    "plt.plot(x)\n",
    "\n",
    "plt.xticks(rotation=45, fontsize=20);"
   ]
  },
  {
   "cell_type": "markdown",
   "id": "2b037f08",
   "metadata": {},
   "source": [
    "### Dwie osie pionowe"
   ]
  },
  {
   "cell_type": "code",
   "execution_count": null,
   "id": "37d2adbe",
   "metadata": {},
   "outputs": [],
   "source": [
    "t = np.arange(0.01, 10.0, 0.01)\n",
    "data1 = np.exp(t)\n",
    "data2 = np.sin(2 * np.pi * t)"
   ]
  },
  {
   "cell_type": "code",
   "execution_count": null,
   "id": "8215c7b2",
   "metadata": {},
   "outputs": [],
   "source": [
    "fig, ax1 = plt.subplots()\n",
    "\n",
    "ax1.set_xlabel('time (s)')\n",
    "ax1.set_ylabel('exp', color='red')\n",
    "ax1.plot(t, data1, color='red')\n",
    "ax1.tick_params(axis='y', labelcolor='red')\n",
    "\n",
    "ax2 = ax1.twinx()\n",
    "\n",
    "ax2.set_ylabel('sin', color='blue')\n",
    "ax2.plot(t, data2, color='blue')\n",
    "ax2.tick_params(axis='y', labelcolor='blue')\n",
    "\n",
    "ax1.set_xticks([2, 4, 6, 8]);  # ax2"
   ]
  },
  {
   "cell_type": "markdown",
   "id": "1e3b6aa8",
   "metadata": {},
   "source": [
    "## Wykresy 3D"
   ]
  },
  {
   "cell_type": "code",
   "execution_count": null,
   "id": "4fa4377f",
   "metadata": {},
   "outputs": [],
   "source": [
    "%matplotlib notebook\n",
    "\n",
    "fig, ax = plt.subplots(subplot_kw={\"projection\": \"3d\"})\n",
    "\n",
    "X = np.arange(-5, 5, 0.25)\n",
    "Y = np.arange(-5, 5, 0.25)\n",
    "X, Y = np.meshgrid(X, Y)\n",
    "\n",
    "a = 2\n",
    "b = 3\n",
    "Z = a*X + b*Y\n",
    "\n",
    "ax.set_xlabel(\"$X_1$\")\n",
    "ax.set_ylabel(\"$X_2$\")\n",
    "ax.set_zlabel(\"$Y$\")\n",
    "\n",
    "ax.plot_surface(X, Y, Z, cmap='jet', alpha=.3)\n",
    "\n",
    "np.random.seed(0)\n",
    "x = np.random.uniform(-4, 4, size=16)\n",
    "y = np.random.uniform(-4, 4, size=16)\n",
    "z = a*x+b*y + 6*np.random.normal(size=16)\n",
    "\n",
    "ax.scatter(x, y, z);\n",
    "\n",
    "ax.scatter([0], [0], [0], 'r')\n",
    "\n",
    "plt.show()"
   ]
  },
  {
   "cell_type": "markdown",
   "id": "c2024515",
   "metadata": {},
   "source": [
    "## Pozostałe informacje\n",
    "### Zapis do pliku"
   ]
  },
  {
   "cell_type": "code",
   "execution_count": null,
   "id": "f308851f",
   "metadata": {},
   "outputs": [],
   "source": [
    "fig"
   ]
  },
  {
   "cell_type": "code",
   "execution_count": null,
   "id": "1a6fb797",
   "metadata": {},
   "outputs": [],
   "source": [
    "fig.savefig(\"fig.png\")"
   ]
  },
  {
   "cell_type": "code",
   "execution_count": null,
   "id": "4efd66cf",
   "metadata": {},
   "outputs": [],
   "source": [
    "fig, ax1 = plt.subplots()\n",
    "\n",
    "ax1.set_xlabel('time (s)')\n",
    "ax1.set_ylabel('exp', color='red')\n",
    "ax1.plot(t, data1, color='red')\n",
    "ax1.tick_params(axis='y', labelcolor='red')\n",
    "\n",
    "ax2 = ax1.twinx()\n",
    "\n",
    "ax2.set_ylabel('sin', color='blue')\n",
    "ax2.plot(t, data2, color='blue')\n",
    "ax2.tick_params(axis='y', labelcolor='blue')\n",
    "\n",
    "ax1.set_xticks([2, 4, 6, 8]);  # ax2\n",
    "\n",
    "# ---\n",
    "\n",
    "fig.savefig('2axis.png')"
   ]
  },
  {
   "cell_type": "code",
   "execution_count": null,
   "id": "1c73c0f3",
   "metadata": {},
   "outputs": [],
   "source": [
    "# %matplotlib inline\n",
    "\n",
    "plt.plot([1, 2, 3])\n",
    "\n",
    "# plt.show()"
   ]
  },
  {
   "cell_type": "markdown",
   "id": "83ecf0a9",
   "metadata": {},
   "source": [
    "### Wykres zmienny w czasie"
   ]
  },
  {
   "cell_type": "code",
   "execution_count": null,
   "id": "8b11fe68",
   "metadata": {},
   "outputs": [],
   "source": [
    "from IPython.display import clear_output\n",
    "\n",
    "\n",
    "map_ = np.zeros([100, 100])\n",
    "\n",
    "for i in range(10):\n",
    "    x = np.random.randint(10, 90)\n",
    "    y = np.random.randint(10, 90)\n",
    "    map_[y-1:y+1, x-1:x+1] = 1\n",
    "\n",
    "    plt.imshow(map_, cmap=\"nipy_spectral\")\n",
    "    plt.title(\"Time step: \" + str(i))\n",
    "    plt.show(block=False)\n",
    "\n",
    "    plt.pause(0.5);\n",
    "    plt.clf();\n",
    "    \n",
    "    clear_output()"
   ]
  },
  {
   "cell_type": "code",
   "execution_count": null,
   "id": "23b584a4",
   "metadata": {},
   "outputs": [],
   "source": [
    "%%writefile animation.py\n",
    "import numpy as np\n",
    "import matplotlib.pyplot as plt\n",
    "\n",
    "\n",
    "map_ = np.zeros([100, 100])\n",
    "\n",
    "for i in range(10):\n",
    "    x = np.random.randint(10, 90)\n",
    "    y = np.random.randint(10, 90)\n",
    "    map_[y-1:y+1, x-1:x+1] = 1\n",
    "\n",
    "    plt.imshow(map_, cmap=\"nipy_spectral\")\n",
    "    plt.title(\"Time step: \" + str(i))\n",
    "    plt.show(block=False)\n",
    "\n",
    "    plt.pause(0.5);\n",
    "    plt.clf();"
   ]
  },
  {
   "cell_type": "markdown",
   "id": "bc99a727",
   "metadata": {},
   "source": [
    "### `rcParams`\n",
    "\n",
    "runtime configuration parameters"
   ]
  },
  {
   "cell_type": "code",
   "execution_count": null,
   "id": "2a151181",
   "metadata": {},
   "outputs": [],
   "source": [
    "plt.rcParams"
   ]
  },
  {
   "cell_type": "code",
   "execution_count": null,
   "id": "b5cbf58c",
   "metadata": {},
   "outputs": [],
   "source": [
    "plt.plot(np.random.rand(100));"
   ]
  },
  {
   "cell_type": "code",
   "execution_count": null,
   "id": "86aa95ca",
   "metadata": {},
   "outputs": [],
   "source": [
    "plt.rcParams['figure.figsize'] = (12, 6)"
   ]
  },
  {
   "cell_type": "code",
   "execution_count": null,
   "id": "44b4141b",
   "metadata": {},
   "outputs": [],
   "source": [
    "plt.plot(np.random.rand(100));"
   ]
  },
  {
   "cell_type": "code",
   "execution_count": null,
   "id": "a3b93f80",
   "metadata": {},
   "outputs": [],
   "source": [
    "import matplotlib as mpl\n",
    "\n",
    "plt.rcParams['axes.prop_cycle'] = mpl.cycler(color=[\"r\", \"k\", \"c\"]) \n",
    "\n",
    "x = np.linspace(0, 20, 100)\n",
    "\n",
    "for i in range(6):\n",
    "    plt.plot(x, i * (x - 10)**2)\n",
    "\n",
    "plt.show()"
   ]
  }
 ],
 "metadata": {
  "kernelspec": {
   "display_name": "Python 3 (ipykernel)",
   "language": "python",
   "name": "python3"
  },
  "language_info": {
   "codemirror_mode": {
    "name": "ipython",
    "version": 3
   },
   "file_extension": ".py",
   "mimetype": "text/x-python",
   "name": "python",
   "nbconvert_exporter": "python",
   "pygments_lexer": "ipython3",
   "version": "3.11.5"
  },
  "toc": {
   "base_numbering": 1,
   "nav_menu": {},
   "number_sections": true,
   "sideBar": true,
   "skip_h1_title": true,
   "title_cell": "Table of Contents",
   "title_sidebar": "Contents",
   "toc_cell": false,
   "toc_position": {
    "height": "calc(100% - 180px)",
    "left": "10px",
    "top": "150px",
    "width": "307.2px"
   },
   "toc_section_display": true,
   "toc_window_display": false
  },
  "varInspector": {
   "cols": {
    "lenName": 16,
    "lenType": 16,
    "lenVar": 40
   },
   "kernels_config": {
    "python": {
     "delete_cmd_postfix": "",
     "delete_cmd_prefix": "del ",
     "library": "var_list.py",
     "varRefreshCmd": "print(var_dic_list())"
    },
    "r": {
     "delete_cmd_postfix": ") ",
     "delete_cmd_prefix": "rm(",
     "library": "var_list.r",
     "varRefreshCmd": "cat(var_dic_list()) "
    }
   },
   "types_to_exclude": [
    "module",
    "function",
    "builtin_function_or_method",
    "instance",
    "_Feature"
   ],
   "window_display": false
  }
 },
 "nbformat": 4,
 "nbformat_minor": 5
}
