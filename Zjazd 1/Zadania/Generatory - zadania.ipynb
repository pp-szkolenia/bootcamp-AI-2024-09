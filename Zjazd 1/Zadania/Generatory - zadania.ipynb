{
 "cells": [
  {
   "cell_type": "markdown",
   "id": "da3c8cc1",
   "metadata": {},
   "source": [
    "# Generatory – zadania"
   ]
  },
  {
   "cell_type": "markdown",
   "id": "a7782b2d-d08e-404a-87d7-6e154f7ca2a5",
   "metadata": {},
   "source": [
    "1. Stwórz generator, ktory bedzie przyjmował przez parametr ilość elementów, a nastepnie zwracał w pętli wartości o treści \"element o indeksie <x>\" (gdzie <x> bedzie numerem podawanego elementu). Przed zwróceniem każdego elementu zatrzymaj program na sekundę funkcją time.sleep().\n",
    "\n",
    "---\n",
    "(czas: 5 min.)"
   ]
  },
  {
   "cell_type": "code",
   "execution_count": 1,
   "id": "bca3accd-9abb-4e73-8c85-5c0cb7da5f46",
   "metadata": {},
   "outputs": [],
   "source": [
    "# ..."
   ]
  },
  {
   "cell_type": "code",
   "execution_count": 5,
   "id": "8e55fa18-7d04-4550-ad20-1fb1c5db8bf7",
   "metadata": {},
   "outputs": [],
   "source": [
    "import time"
   ]
  },
  {
   "cell_type": "code",
   "execution_count": 10,
   "id": "2068790b-ee1d-453c-b927-c7b32a305327",
   "metadata": {},
   "outputs": [],
   "source": [
    "def delayed_elements(x):\n",
    "    for i in range(x):\n",
    "        time.sleep(1)\n",
    "        yield f\"Element o indeksie {i}\""
   ]
  },
  {
   "cell_type": "code",
   "execution_count": 11,
   "id": "7a86707f-6c7a-4274-82f3-a15d0e77a740",
   "metadata": {},
   "outputs": [
    {
     "name": "stdout",
     "output_type": "stream",
     "text": [
      "Element o indeksie 0\n",
      "Element o indeksie 1\n",
      "Element o indeksie 2\n",
      "Element o indeksie 3\n",
      "Element o indeksie 4\n"
     ]
    }
   ],
   "source": [
    "for item in delayed_elements(5):\n",
    "    print(item)"
   ]
  },
  {
   "cell_type": "markdown",
   "id": "6a5ab628-6348-4126-8e02-a7ef025d4127",
   "metadata": {},
   "source": [
    "2. Stwórz generator, który otworzy `plik.txt` i będzie zwracał kolejne linie z tego pliku nie wczytując go w całości.\n",
    "\n",
    "Podpowiedź: po otwartym pliku możesz iterować w pętli.\n",
    "\n",
    "---\n",
    "(czas: 7 min.)"
   ]
  },
  {
   "cell_type": "code",
   "execution_count": 24,
   "id": "14942aa2-d30d-49f7-90ef-c991882e0c9c",
   "metadata": {},
   "outputs": [],
   "source": [
    "def line_by_line(filepath, phrase):\n",
    "    with open(filepath, \"r\") as f:\n",
    "        for line in f:\n",
    "            if phrase in line:\n",
    "                yield line.strip()\n",
    "\n",
    "\n",
    "generator_object = line_by_line(\"plik.txt\", \"Linijka\")"
   ]
  },
  {
   "cell_type": "code",
   "execution_count": 25,
   "id": "8f4d3d39-fd1d-4127-bd1f-2890fe98406a",
   "metadata": {},
   "outputs": [
    {
     "data": {
      "text/plain": [
       "['Linijka pierwsza',\n",
       " 'Linijka druga',\n",
       " 'Linijka trzecia',\n",
       " 'Linijka czwarta',\n",
       " 'Linijka piąta']"
      ]
     },
     "execution_count": 25,
     "metadata": {},
     "output_type": "execute_result"
    }
   ],
   "source": [
    "list(generator_object)"
   ]
  },
  {
   "cell_type": "code",
   "execution_count": 17,
   "id": "dddd1764-8255-4216-81ff-faa764cd5000",
   "metadata": {},
   "outputs": [
    {
     "name": "stdout",
     "output_type": "stream",
     "text": [
      "Linijka pierwsza\n",
      "Linijka druga\n",
      "Linijka trzecia\n",
      "Linijka czwarta\n",
      "Linijka piąta\n"
     ]
    }
   ],
   "source": [
    "with open(\"plik.txt\", \"r\") as f:\n",
    "    print(f.read())"
   ]
  },
  {
   "cell_type": "markdown",
   "id": "3e597f18-8567-4bd4-9c7a-8dcb69bc7395",
   "metadata": {},
   "source": [
    "---\n",
    "---\n",
    "---"
   ]
  },
  {
   "cell_type": "markdown",
   "id": "9c575b85-6b33-4224-aed5-10306e455532",
   "metadata": {},
   "source": [
    "3. Stwórz generator, który będzie podawał nieskończenie wiele liczb parzystych. Przetestuj go pobierając z niego kolejne wartości i wyświetlając je w konsoli.\n",
    "\n",
    "---\n",
    "(czas: 5 min.)"
   ]
  },
  {
   "cell_type": "code",
   "execution_count": 43,
   "id": "2ead0344-fcb8-4dbf-a9ad-2d6778873ca7",
   "metadata": {},
   "outputs": [],
   "source": [
    "def even_numbers():\n",
    "    num = 0\n",
    "    while True:\n",
    "        yield num\n",
    "        num += 2"
   ]
  },
  {
   "cell_type": "code",
   "execution_count": 44,
   "id": "d0025ec1-b86e-4e3b-8e49-0c953a97f957",
   "metadata": {},
   "outputs": [
    {
     "data": {
      "text/plain": [
       "<generator object even_numbers at 0x7c2901b274c0>"
      ]
     },
     "execution_count": 44,
     "metadata": {},
     "output_type": "execute_result"
    }
   ],
   "source": [
    "for i in even_numbers():"
   ]
  },
  {
   "cell_type": "code",
   "execution_count": 45,
   "id": "f7b83cc8-0b39-489a-be0e-35851549b7a0",
   "metadata": {},
   "outputs": [
    {
     "name": "stdout",
     "output_type": "stream",
     "text": [
      "a\n",
      "b\n",
      "c\n"
     ]
    }
   ],
   "source": [
    "letters_list = [\"a\", \"b\", \"c\"]\n",
    "\n",
    "for item in letters_list:\n",
    "    print(item)"
   ]
  },
  {
   "cell_type": "code",
   "execution_count": 40,
   "id": "f0a99f00-5077-4de4-98bf-9329b53ba77d",
   "metadata": {},
   "outputs": [
    {
     "data": {
      "text/plain": [
       "22"
      ]
     },
     "execution_count": 40,
     "metadata": {},
     "output_type": "execute_result"
    }
   ],
   "source": [
    "next(numbers)"
   ]
  },
  {
   "cell_type": "markdown",
   "id": "b6f956da-7aa9-4b22-afd5-3f3372c7976e",
   "metadata": {},
   "source": [
    "4. Policz sumę ciągu liczb 1, 2, ..., 100000. Aby nie obciążać pamięci użyj do tego generator expression.\n",
    "\n",
    "---\n",
    "(czas: 2 min.)"
   ]
  },
  {
   "cell_type": "code",
   "execution_count": null,
   "id": "c86a268b-e956-430d-8855-2851650793e5",
   "metadata": {},
   "outputs": [],
   "source": [
    "(item for item in range(1, 1000001))"
   ]
  },
  {
   "cell_type": "code",
   "execution_count": 42,
   "id": "426bd633-245b-4705-9227-020112601e7e",
   "metadata": {},
   "outputs": [
    {
     "data": {
      "text/plain": [
       "500000500000"
      ]
     },
     "execution_count": 42,
     "metadata": {},
     "output_type": "execute_result"
    }
   ],
   "source": [
    "sum(item for item in range(1, 1000001))"
   ]
  },
  {
   "cell_type": "code",
   "execution_count": null,
   "id": "c7865abb-fc5d-45ae-add5-88f02731e68d",
   "metadata": {},
   "outputs": [],
   "source": []
  }
 ],
 "metadata": {
  "kernelspec": {
   "display_name": "Python 3 (ipykernel)",
   "language": "python",
   "name": "python3"
  },
  "language_info": {
   "codemirror_mode": {
    "name": "ipython",
    "version": 3
   },
   "file_extension": ".py",
   "mimetype": "text/x-python",
   "name": "python",
   "nbconvert_exporter": "python",
   "pygments_lexer": "ipython3",
   "version": "3.11.5"
  },
  "toc": {
   "base_numbering": 1,
   "nav_menu": {},
   "number_sections": true,
   "sideBar": true,
   "skip_h1_title": true,
   "title_cell": "Table of Contents",
   "title_sidebar": "Contents",
   "toc_cell": false,
   "toc_position": {},
   "toc_section_display": true,
   "toc_window_display": false
  },
  "varInspector": {
   "cols": {
    "lenName": 16,
    "lenType": 16,
    "lenVar": 40
   },
   "kernels_config": {
    "python": {
     "delete_cmd_postfix": "",
     "delete_cmd_prefix": "del ",
     "library": "var_list.py",
     "varRefreshCmd": "print(var_dic_list())"
    },
    "r": {
     "delete_cmd_postfix": ") ",
     "delete_cmd_prefix": "rm(",
     "library": "var_list.r",
     "varRefreshCmd": "cat(var_dic_list()) "
    }
   },
   "types_to_exclude": [
    "module",
    "function",
    "builtin_function_or_method",
    "instance",
    "_Feature"
   ],
   "window_display": false
  }
 },
 "nbformat": 4,
 "nbformat_minor": 5
}
