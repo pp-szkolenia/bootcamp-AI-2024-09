{
 "cells": [
  {
   "cell_type": "markdown",
   "id": "da3c8cc1",
   "metadata": {},
   "source": [
    "# Dekoratory – zadania"
   ]
  },
  {
   "cell_type": "markdown",
   "id": "a7782b2d-d08e-404a-87d7-6e154f7ca2a5",
   "metadata": {},
   "source": [
    "1. Napisz funkcję, która w pętli wyprintuje liczby z zakresu 1-x (x jest parametrem) i po każdym princie odczeka sekundę. Następnie napisz dekorator, który mierzy oraz printuje czas działania funkcji i zastosuj go.\n",
    "\n",
    "---\n",
    "(czas: 8 min.)"
   ]
  },
  {
   "cell_type": "code",
   "execution_count": null,
   "id": "bca3accd-9abb-4e73-8c85-5c0cb7da5f46",
   "metadata": {},
   "outputs": [],
   "source": [
    "# ..."
   ]
  },
  {
   "cell_type": "markdown",
   "id": "6a5ab628-6348-4126-8e02-a7ef025d4127",
   "metadata": {},
   "source": [
    "2. Napisz dekorator, który zaloguje do pliku .txt wywołanie dowolnej funkcji zapisując informacje takie jak:\n",
    "   - aktualny timestamp\n",
    "   - nazwa funkcji\n",
    "   - listę przekazanych argumentów\n",
    "  \n",
    "   Format logów możesz dowolnie ustalić.\n",
    "\n",
    "---\n",
    "(czas: 9 min.)"
   ]
  },
  {
   "cell_type": "code",
   "execution_count": null,
   "id": "9553d8a4-7d39-46fd-a3e5-09878e2bcefd",
   "metadata": {},
   "outputs": [],
   "source": [
    "# ..."
   ]
  },
  {
   "cell_type": "markdown",
   "id": "3e597f18-8567-4bd4-9c7a-8dcb69bc7395",
   "metadata": {},
   "source": [
    "---\n",
    "---\n",
    "---"
   ]
  },
  {
   "cell_type": "markdown",
   "id": "9c575b85-6b33-4224-aed5-10306e455532",
   "metadata": {},
   "source": [
    "3. Połącz dwa powyższe dekoratory i zastosuj je dla dowolnej funkcji. Sprawdź czy kolejność ich użycia ma znaczenie.\n",
    "\n",
    "---\n",
    "(czas: 3 min.)"
   ]
  },
  {
   "cell_type": "code",
   "execution_count": null,
   "id": "2ead0344-fcb8-4dbf-a9ad-2d6778873ca7",
   "metadata": {},
   "outputs": [],
   "source": [
    "# ..."
   ]
  }
 ],
 "metadata": {
  "kernelspec": {
   "display_name": "Python 3 (ipykernel)",
   "language": "python",
   "name": "python3"
  },
  "language_info": {
   "codemirror_mode": {
    "name": "ipython",
    "version": 3
   },
   "file_extension": ".py",
   "mimetype": "text/x-python",
   "name": "python",
   "nbconvert_exporter": "python",
   "pygments_lexer": "ipython3",
   "version": "3.11.5"
  },
  "toc": {
   "base_numbering": 1,
   "nav_menu": {},
   "number_sections": true,
   "sideBar": true,
   "skip_h1_title": true,
   "title_cell": "Table of Contents",
   "title_sidebar": "Contents",
   "toc_cell": false,
   "toc_position": {},
   "toc_section_display": true,
   "toc_window_display": false
  },
  "varInspector": {
   "cols": {
    "lenName": 16,
    "lenType": 16,
    "lenVar": 40
   },
   "kernels_config": {
    "python": {
     "delete_cmd_postfix": "",
     "delete_cmd_prefix": "del ",
     "library": "var_list.py",
     "varRefreshCmd": "print(var_dic_list())"
    },
    "r": {
     "delete_cmd_postfix": ") ",
     "delete_cmd_prefix": "rm(",
     "library": "var_list.r",
     "varRefreshCmd": "cat(var_dic_list()) "
    }
   },
   "types_to_exclude": [
    "module",
    "function",
    "builtin_function_or_method",
    "instance",
    "_Feature"
   ],
   "window_display": false
  }
 },
 "nbformat": 4,
 "nbformat_minor": 5
}
