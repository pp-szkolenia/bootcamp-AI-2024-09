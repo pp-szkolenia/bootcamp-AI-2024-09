{
 "cells": [
  {
   "cell_type": "markdown",
   "id": "da3c8cc1",
   "metadata": {},
   "source": [
    "# Dekoratory – zadania"
   ]
  },
  {
   "cell_type": "markdown",
   "id": "a7782b2d-d08e-404a-87d7-6e154f7ca2a5",
   "metadata": {},
   "source": [
    "1. Napisz funkcję, która w pętli wyprintuje liczby z zakresu 1-x (x jest parametrem) i po każdym princie odczeka sekundę. Następnie napisz dekorator, który mierzy oraz printuje czas działania funkcji i zastosuj go.\n",
    "\n",
    "---\n",
    "(czas: 8 min.)"
   ]
  },
  {
   "cell_type": "code",
   "execution_count": 1,
   "id": "55429bd4-f091-4f4b-aebf-4e06a14da5d2",
   "metadata": {},
   "outputs": [],
   "source": [
    "import time"
   ]
  },
  {
   "cell_type": "code",
   "execution_count": 33,
   "id": "c530d716-d148-4dbc-8402-6cabaaf054b8",
   "metadata": {},
   "outputs": [],
   "source": [
    "def measure_time(func):\n",
    "    def wrapper(*args, **kwargs):\n",
    "        start_time = time.time()\n",
    "        result = func(*args, **kwargs)\n",
    "        end_time = time.time()\n",
    "        print(f\"Czas działania funkcji {func.__name__}: {round(end_time - start_time, 2)}s.\")\n",
    "        return result\n",
    "\n",
    "    return wrapper"
   ]
  },
  {
   "cell_type": "code",
   "execution_count": 6,
   "id": "bca3accd-9abb-4e73-8c85-5c0cb7da5f46",
   "metadata": {},
   "outputs": [],
   "source": [
    "@measure_time\n",
    "def print_numbers(x):\n",
    "    for i in range(1, x+1):\n",
    "        print(i)\n",
    "        time.sleep(1)"
   ]
  },
  {
   "cell_type": "code",
   "execution_count": 7,
   "id": "053ff35f-d180-4167-b344-9589f30608f5",
   "metadata": {},
   "outputs": [
    {
     "name": "stdout",
     "output_type": "stream",
     "text": [
      "1\n",
      "2\n",
      "3\n",
      "4\n",
      "5\n",
      "Czas działania funkcji print_numbers: 5.0s.\n"
     ]
    }
   ],
   "source": [
    "print_numbers(5)"
   ]
  },
  {
   "cell_type": "code",
   "execution_count": null,
   "id": "24731c19-7979-432c-b6d1-e8c9b5e9de8b",
   "metadata": {},
   "outputs": [],
   "source": []
  },
  {
   "cell_type": "markdown",
   "id": "6a5ab628-6348-4126-8e02-a7ef025d4127",
   "metadata": {},
   "source": [
    "2. Napisz dekorator, który zaloguje do pliku .txt wywołanie dowolnej funkcji zapisując informacje takie jak:\n",
    "   - aktualny timestamp\n",
    "   - nazwa funkcji\n",
    "   - listę przekazanych argumentów\n",
    "  \n",
    "   Format logów możesz dowolnie ustalić.\n",
    "\n",
    "---\n",
    "(czas: 9 min.)"
   ]
  },
  {
   "cell_type": "code",
   "execution_count": 9,
   "id": "4a4aed63-e646-4236-8019-45b4761c35e0",
   "metadata": {},
   "outputs": [],
   "source": [
    "from datetime import datetime"
   ]
  },
  {
   "cell_type": "code",
   "execution_count": 26,
   "id": "9553d8a4-7d39-46fd-a3e5-09878e2bcefd",
   "metadata": {},
   "outputs": [],
   "source": [
    "def log(func):\n",
    "    def wrapper(*args, **kwargs):\n",
    "        result = func(*args, **kwargs)\n",
    "        with open(\"log.txt\", \"a\") as f:\n",
    "            f.write(f\"Function: {func.__name__} | Timestamp: {datetime.now()} | Args: {args}, {kwargs}\\n\")\n",
    "\n",
    "        return result\n",
    "    return wrapper"
   ]
  },
  {
   "cell_type": "code",
   "execution_count": 27,
   "id": "7c587cbb-4f70-46ec-97a2-cfa79193b673",
   "metadata": {},
   "outputs": [],
   "source": [
    "@log\n",
    "def add(a, b, *args, **kwargs):\n",
    "    return a + b"
   ]
  },
  {
   "cell_type": "code",
   "execution_count": 28,
   "id": "8670c501-15c7-4a84-b708-bdb58096339a",
   "metadata": {},
   "outputs": [
    {
     "data": {
      "text/plain": [
       "3"
      ]
     },
     "execution_count": 28,
     "metadata": {},
     "output_type": "execute_result"
    }
   ],
   "source": [
    "add(1, 2, 10, 20, c=10, d=20)"
   ]
  },
  {
   "cell_type": "markdown",
   "id": "3e597f18-8567-4bd4-9c7a-8dcb69bc7395",
   "metadata": {},
   "source": [
    "---\n",
    "---\n",
    "---"
   ]
  },
  {
   "cell_type": "markdown",
   "id": "9c575b85-6b33-4224-aed5-10306e455532",
   "metadata": {},
   "source": [
    "3. Połącz dwa powyższe dekoratory i zastosuj je dla dowolnej funkcji. Sprawdź czy kolejność ich użycia ma znaczenie.\n",
    "\n",
    "---\n",
    "(czas: 3 min.)"
   ]
  },
  {
   "cell_type": "code",
   "execution_count": 36,
   "id": "2ead0344-fcb8-4dbf-a9ad-2d6778873ca7",
   "metadata": {},
   "outputs": [],
   "source": [
    "@measure_time\n",
    "@log\n",
    "def add(a, b):\n",
    "    return a + b"
   ]
  },
  {
   "cell_type": "code",
   "execution_count": 37,
   "id": "553aadef-93f3-4851-b14f-97edaad6767c",
   "metadata": {},
   "outputs": [
    {
     "name": "stdout",
     "output_type": "stream",
     "text": [
      "Czas działania funkcji wrapper: 0.0s.\n"
     ]
    },
    {
     "data": {
      "text/plain": [
       "30"
      ]
     },
     "execution_count": 37,
     "metadata": {},
     "output_type": "execute_result"
    }
   ],
   "source": [
    "add(10, 20)"
   ]
  },
  {
   "cell_type": "code",
   "execution_count": null,
   "id": "666ac03a-e06a-4a0e-aa52-5c7445e78136",
   "metadata": {},
   "outputs": [],
   "source": []
  },
  {
   "cell_type": "code",
   "execution_count": null,
   "id": "7081833a-d142-4772-9766-f52f8c4219ab",
   "metadata": {},
   "outputs": [],
   "source": []
  },
  {
   "cell_type": "code",
   "execution_count": null,
   "id": "66e825ac-52f9-4c51-bd28-269016e1c6f1",
   "metadata": {},
   "outputs": [],
   "source": []
  },
  {
   "cell_type": "code",
   "execution_count": 38,
   "id": "b893bed9-935a-400d-add0-282893f14d3e",
   "metadata": {},
   "outputs": [
    {
     "data": {
      "text/plain": [
       "1.736"
      ]
     },
     "execution_count": 38,
     "metadata": {},
     "output_type": "execute_result"
    }
   ],
   "source": [
    "def actual_rounding_decorator(param):\n",
    "    def round_result(func):\n",
    "        return lambda *args, **kwargs: round(func(*args, **kwargs), param)\n",
    "    return round_result\n",
    "\n",
    "\n",
    "@log\n",
    "@actual_rounding_decorator(3)\n",
    "def calculate_average(a, b):\n",
    "    return (a + b) / 2\n",
    "\n",
    "\n",
    "calculate_average(1.242342, 2.23)"
   ]
  },
  {
   "cell_type": "code",
   "execution_count": null,
   "id": "ac60855f-8200-472d-ad4c-f6fb468323cf",
   "metadata": {},
   "outputs": [],
   "source": []
  }
 ],
 "metadata": {
  "kernelspec": {
   "display_name": "Python 3 (ipykernel)",
   "language": "python",
   "name": "python3"
  },
  "language_info": {
   "codemirror_mode": {
    "name": "ipython",
    "version": 3
   },
   "file_extension": ".py",
   "mimetype": "text/x-python",
   "name": "python",
   "nbconvert_exporter": "python",
   "pygments_lexer": "ipython3",
   "version": "3.11.5"
  },
  "toc": {
   "base_numbering": 1,
   "nav_menu": {},
   "number_sections": true,
   "sideBar": true,
   "skip_h1_title": true,
   "title_cell": "Table of Contents",
   "title_sidebar": "Contents",
   "toc_cell": false,
   "toc_position": {},
   "toc_section_display": true,
   "toc_window_display": false
  },
  "varInspector": {
   "cols": {
    "lenName": 16,
    "lenType": 16,
    "lenVar": 40
   },
   "kernels_config": {
    "python": {
     "delete_cmd_postfix": "",
     "delete_cmd_prefix": "del ",
     "library": "var_list.py",
     "varRefreshCmd": "print(var_dic_list())"
    },
    "r": {
     "delete_cmd_postfix": ") ",
     "delete_cmd_prefix": "rm(",
     "library": "var_list.r",
     "varRefreshCmd": "cat(var_dic_list()) "
    }
   },
   "types_to_exclude": [
    "module",
    "function",
    "builtin_function_or_method",
    "instance",
    "_Feature"
   ],
   "window_display": false
  }
 },
 "nbformat": 4,
 "nbformat_minor": 5
}
