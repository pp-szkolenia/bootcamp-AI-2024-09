{
 "cells": [
  {
   "cell_type": "markdown",
   "id": "bc8a551f",
   "metadata": {},
   "source": [
    "# 6. Funkcje\n",
    "## Funkcje, parametry, `return`"
   ]
  },
  {
   "cell_type": "markdown",
   "id": "84fbac88",
   "metadata": {},
   "source": [
    "1. Zaimplementuj funkcjonalność funkcji `len()` w stworzonej przez siebie funkcji `my_len()`.\n",
    "\n",
    "---\n",
    "(czas: 5 min.)"
   ]
  },
  {
   "cell_type": "code",
   "execution_count": null,
   "id": "1d068b39",
   "metadata": {},
   "outputs": [],
   "source": [
    "# ..."
   ]
  },
  {
   "cell_type": "markdown",
   "id": "9400edd0",
   "metadata": {},
   "source": [
    "2. Napisz funkcję `mark_task_as_complete()`, która przyjmie jako argument słownik reprezentujący zadanie. Niech ten słownik posiada m.in. klucz `\"is_complete\"`, pod którym znajdzie się wartość logiczna. Funkcja powinna:\n",
    "- sprawdzić, czy zadanie jest już ukończone\n",
    "- oznaczyć je jako gotowe, jeżeli jeszcze nie jest\n",
    "- zwrócić słownik\n",
    "\n",
    "---\n",
    "(czas: 6 min.)"
   ]
  },
  {
   "cell_type": "code",
   "execution_count": null,
   "id": "d7324c0d",
   "metadata": {},
   "outputs": [],
   "source": [
    "# ..."
   ]
  },
  {
   "cell_type": "markdown",
   "id": "f58958c1",
   "metadata": {},
   "source": [
    "3. Do słownika z poprzedniego zadania dodaj klucz `\"comments\"`, pod którym znajdzie się lista komentarzy (może być pusta). Następnie napisz funkcję `add_comment()`, która przyjmie jako argumenty zadanie oraz komentarz i doda ten komentarz do listy pod kluczem `\"comments\"` a następnie zwróci zadanie.\n",
    "\n",
    "Komentarz powinien być słownikiem o kluczach `\"author\"` oraz `\"text\"`.\n",
    "\n",
    "---\n",
    "(czas: 8 min.)"
   ]
  },
  {
   "cell_type": "code",
   "execution_count": null,
   "id": "2d9ef79d",
   "metadata": {},
   "outputs": [],
   "source": [
    "# ..."
   ]
  },
  {
   "cell_type": "markdown",
   "id": "ecfb4003",
   "metadata": {},
   "source": [
    "4. Do poprzedniego zadania dodaj mechanizm walidacji. Będzie on polegał na tym, że zanim dodasz komentarz do listy, przekażesz go do nowej funkcji o nazwie `validate_comment()`. Funkcja ta powinna zostać wywołana wewnątrz `add_comment()` i ma sprawdzić, czy komentarz:\n",
    "- jest słownikiem\n",
    "- posiada odpowiednie klucze\n",
    "- pod każdym kluczem znajduje się obiekt typu `str`\n",
    "\n",
    "W zależności od tego, czy walidacja przebiegła poprawnie, funkcja ta powinna zwrócić odpowiednia wartość logiczną. Zmodyfikuj działanie funkcji z poprzedniego zadania tak, żeby komentarz został dodany wyłącznie po poprawnej walidacji.\n",
    "\n",
    "---\n",
    "(czas: 12 min.)"
   ]
  },
  {
   "cell_type": "code",
   "execution_count": null,
   "id": "60dbe016",
   "metadata": {},
   "outputs": [],
   "source": [
    "# ..."
   ]
  },
  {
   "cell_type": "markdown",
   "id": "51f669bf",
   "metadata": {},
   "source": [
    "## `map`, `filter` i `lambda`"
   ]
  },
  {
   "cell_type": "markdown",
   "id": "06e01534",
   "metadata": {},
   "source": [
    "1. Stwórz listę userów (słowników), którzy pod odpowiednim kluczem będą posiadać informację o liczbie przypisanych im zadań. Następnie przefiltruj tę listę zostawiając w niej wyłącznie tych userów, którzy mają przypisane więcej niż jedno zadanie.\n",
    "\n",
    "Możesz użyć listy z poniższego przykładu.\n",
    "\n",
    "Przykład:\n",
    "```python\n",
    "users = [{\"username\": \"Andrzej\", \"assigned_tasks\": 2}, {\"username\": \"Andżela\", \"assigned_tasks\": 1}]\n",
    "\n",
    "result = [{\"username\": \"Andrzej\", \"assigned_tasks\": 2}]\n",
    "```\n",
    "\n",
    "---\n",
    "(czas: 6 min.)"
   ]
  },
  {
   "cell_type": "code",
   "execution_count": null,
   "id": "b0d0f4d9",
   "metadata": {},
   "outputs": [],
   "source": [
    "# ..."
   ]
  },
  {
   "cell_type": "markdown",
   "id": "41f1ec79",
   "metadata": {},
   "source": [
    "2. Na podstawie powyższej listy stwórz nową, zawierającą informacje wyłącznie o liczbie zadań przypisanych do poszczególnych użytkowników.\n",
    "\n",
    "Przykład:\n",
    "```python\n",
    "users = [{\"username\": \"Andrzej\", \"assigned_tasks\": 2}, {\"username\": \"Andżela\", \"assigned_tasks\": 1}]\n",
    "\n",
    "assigned_tasks_list = [2, 1]\n",
    "```\n",
    "\n",
    "---\n",
    "\n",
    "(czas: 6 min.)"
   ]
  },
  {
   "cell_type": "code",
   "execution_count": null,
   "id": "50a9937a",
   "metadata": {},
   "outputs": [],
   "source": [
    "# ..."
   ]
  },
  {
   "cell_type": "markdown",
   "id": "3e4a85ce",
   "metadata": {},
   "source": [
    "## Arguments unpacking, `args`, `kwargs`"
   ]
  },
  {
   "cell_type": "markdown",
   "id": "b1042eb1",
   "metadata": {},
   "source": [
    "1. Napisz funkcję, która przyjmuje dowolną liczbę argumentów pozycyjnych, które będą wartościami liczbowymi. Funkcja powinna zwracać ich iloczyn.\n",
    "\n",
    "---\n",
    "(czas: 5 min.)"
   ]
  },
  {
   "cell_type": "code",
   "execution_count": null,
   "id": "6f971984",
   "metadata": {},
   "outputs": [],
   "source": [
    "# ..."
   ]
  },
  {
   "cell_type": "markdown",
   "id": "871d79de",
   "metadata": {},
   "source": [
    "2. Przepisz funkcję `add_coment()` tak, żeby działała w oparciu o `kwargs`.\n",
    "\n",
    "---\n",
    "(czas: 5 min.)"
   ]
  },
  {
   "cell_type": "code",
   "execution_count": null,
   "id": "9b7d3c2c",
   "metadata": {},
   "outputs": [],
   "source": [
    "# ..."
   ]
  },
  {
   "cell_type": "markdown",
   "id": "e5a7b34d",
   "metadata": {},
   "source": [
    "## Docstring, type annotations"
   ]
  },
  {
   "cell_type": "markdown",
   "id": "0628ded6",
   "metadata": {},
   "source": [
    "1. Napisz docstringi do funkcji:\n",
    "- `my_len()`\n",
    "- `mark_task_as_complete()`\n",
    "- `add_comment()`\n",
    "\n",
    "---\n",
    "(czas: 14 min.)"
   ]
  },
  {
   "cell_type": "code",
   "execution_count": null,
   "id": "91c1fd34",
   "metadata": {},
   "outputs": [],
   "source": [
    "# ..."
   ]
  },
  {
   "cell_type": "markdown",
   "id": "1f476e30",
   "metadata": {},
   "source": [
    "2. Dodaj *type annotations* do funkcji:\n",
    "- `my_len()`\n",
    "- `mark_task_as_complete()`\n",
    "- `add_comment()`\n",
    "\n",
    "---\n",
    "(czas: 10 min.)"
   ]
  },
  {
   "cell_type": "code",
   "execution_count": null,
   "id": "e1b0b9d5",
   "metadata": {},
   "outputs": [],
   "source": [
    "# ..."
   ]
  }
 ],
 "metadata": {
  "kernelspec": {
   "display_name": "Python 3 (ipykernel)",
   "language": "python",
   "name": "python3"
  },
  "language_info": {
   "codemirror_mode": {
    "name": "ipython",
    "version": 3
   },
   "file_extension": ".py",
   "mimetype": "text/x-python",
   "name": "python",
   "nbconvert_exporter": "python",
   "pygments_lexer": "ipython3",
   "version": "3.11.5"
  },
  "toc": {
   "base_numbering": 1,
   "nav_menu": {},
   "number_sections": true,
   "sideBar": true,
   "skip_h1_title": true,
   "title_cell": "Table of Contents",
   "title_sidebar": "Contents",
   "toc_cell": false,
   "toc_position": {},
   "toc_section_display": true,
   "toc_window_display": false
  },
  "varInspector": {
   "cols": {
    "lenName": 16,
    "lenType": 16,
    "lenVar": 40
   },
   "kernels_config": {
    "python": {
     "delete_cmd_postfix": "",
     "delete_cmd_prefix": "del ",
     "library": "var_list.py",
     "varRefreshCmd": "print(var_dic_list())"
    },
    "r": {
     "delete_cmd_postfix": ") ",
     "delete_cmd_prefix": "rm(",
     "library": "var_list.r",
     "varRefreshCmd": "cat(var_dic_list()) "
    }
   },
   "types_to_exclude": [
    "module",
    "function",
    "builtin_function_or_method",
    "instance",
    "_Feature"
   ],
   "window_display": false
  }
 },
 "nbformat": 4,
 "nbformat_minor": 5
}
