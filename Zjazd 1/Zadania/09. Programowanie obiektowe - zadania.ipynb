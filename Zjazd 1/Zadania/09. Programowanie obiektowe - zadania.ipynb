{
 "cells": [
  {
   "cell_type": "markdown",
   "id": "c59c19fd",
   "metadata": {},
   "source": [
    "# 09. Programowanie obiektowe\n",
    "## Definicja klasy cz. 1"
   ]
  },
  {
   "cell_type": "markdown",
   "id": "9b70cac2",
   "metadata": {},
   "source": [
    "1. Napisz klasę `User`, która będzie reprezentować użytkownika naszej aplikacji. Powinien mieć on następujące atrybuty:\n",
    "- username\n",
    "- email_address\n",
    "- password\n",
    "\n",
    "a także metodę `save_to_database()`, która na razie może pozostać pusta (instrukcja `pass`).\n",
    "\n",
    "\n",
    "Przygotuj dwa warianty. W jednym z nich instancje klasy będą tworzone poprzez przekazanie do konstruktora trzech osobnych argumentów. W drugim do konstruktora trzeba będzie przekazać słownik zawierający komplet informacji.\n",
    "\n",
    "Możesz także stworzyć instancję klasy i spróbować wykonać na niej różne operacje.\n",
    "\n",
    "---\n",
    "(czas: 18 min.)"
   ]
  },
  {
   "cell_type": "code",
   "execution_count": null,
   "id": "f748b7e9",
   "metadata": {},
   "outputs": [],
   "source": [
    "# ..."
   ]
  },
  {
   "cell_type": "markdown",
   "id": "917d1bee",
   "metadata": {},
   "source": [
    "## Definicja klasy cz. 2"
   ]
  },
  {
   "cell_type": "markdown",
   "id": "82fdb3df",
   "metadata": {},
   "source": [
    "1. Stwórz klasę `Task`, która będzie posiadać następujące atrybuty:\n",
    "- `description`\n",
    "- `assignee`\n",
    "- `due_date`\n",
    "- `priority`\n",
    "- `time_logged`\n",
    "- `is_complete`\n",
    "- `tags`\n",
    "- `comments`\n",
    "\n",
    "Definiując atrybuty wykorzystaj *type annotations* - użyj takich typów, jakie uznasz za właściwe. Zastanów się również czy wszystkie atrybuty powinny przyjmować wartość podaną przez użytkownika, czy może domyślną.\n",
    "\n",
    "Dodaj do klasy i zaimplementuj poniższe metody:\n",
    "- `edit_description()`\n",
    "- `mark_as_complete()`\n",
    "- `add_comment()`\n",
    "\n",
    "Możesz także stworzyć instancję klasy i spróbować wykonać na niej różne operacje.\n",
    "\n",
    "---\n",
    "\n",
    "(czas: 20 min.)"
   ]
  },
  {
   "cell_type": "code",
   "execution_count": null,
   "id": "53b89814",
   "metadata": {},
   "outputs": [],
   "source": [
    "# ..."
   ]
  },
  {
   "cell_type": "markdown",
   "id": "595a019b",
   "metadata": {},
   "source": [
    "## Dziedziczenie"
   ]
  },
  {
   "cell_type": "markdown",
   "id": "569655e5",
   "metadata": {},
   "source": [
    "1. Rozszerz klasę `User` z poprzedniego zadania o atrybut `user_id` oraz metodę `change_my_password()`. Zaimplementuj tę metodę.\n",
    "\n",
    "---\n",
    "(czas: 8 min.)"
   ]
  },
  {
   "cell_type": "code",
   "execution_count": null,
   "id": "a3bacc00",
   "metadata": {},
   "outputs": [],
   "source": [
    "# ..."
   ]
  },
  {
   "cell_type": "markdown",
   "id": "cf102e5a",
   "metadata": {},
   "source": [
    "2. Napisz klasę `Admin`, która dziedziczy po `User`. Powinna mieć dodatkowy atrybut typu `bool` o nazwie `can_add_users`\n",
    "\n",
    "oraz dodatkowe metody:\n",
    "- `add_user()` - tworzy i zwraca instancję klasy `User`, ale tylko jeśli może to robić (atrybut `can_add_users`). W przeciwnym wypadku wygeneruj *Exception*\n",
    "- `change_password_of_another_user()` - zmienia hasło dowolnego użytkownika na takie, które przekazano do metody. Metoda powinna więc przyjmować dwa argumenty - instancję klasy `User` oraz string z nowym hasłem\n",
    "\n",
    "---\n",
    "(czas: 16 min.)"
   ]
  },
  {
   "cell_type": "code",
   "execution_count": null,
   "id": "6a103b60",
   "metadata": {},
   "outputs": [],
   "source": [
    "# ..."
   ]
  },
  {
   "cell_type": "markdown",
   "id": "4281ef3e",
   "metadata": {},
   "source": [
    "## Hermetyzacja, `staticmethod`, `classmethod`"
   ]
  },
  {
   "cell_type": "markdown",
   "id": "8927bd1b",
   "metadata": {},
   "source": [
    "1. Do klasy `Task` napisanej w jednym z poprzednich zadań dodaj chronioną metodę statyczną `_validate_comment()`, której zadaniem będzie sprawdzenie komentarza przed jego dodaniem. Komentarz powinien być słownikiem o kluczach `\"text\"` oraz `\"author\"`, pod którymi znajdą się wartości typu `str`.\n",
    "\n",
    "Ta funkcja została już napisana w jednym z poprzednich zadań.\n",
    "\n",
    "---\n",
    "\n",
    "(czas: 10 min.)"
   ]
  },
  {
   "cell_type": "code",
   "execution_count": 35,
   "id": "51575261",
   "metadata": {},
   "outputs": [],
   "source": [
    "class Task:\n",
    "    def __init__(self,\n",
    "                 description: str,\n",
    "                 assignee: str = \"\",\n",
    "                 due_date: str = \"\",\n",
    "                 priority: int = 2,\n",
    "                 tags: list = [],\n",
    "                 time_logged: float = 0,\n",
    "                 is_complete: bool = False,\n",
    "                 comments: list = []):\n",
    "        \n",
    "        self.description = description\n",
    "        self.assignee = assignee\n",
    "        self.due_date = due_date\n",
    "        self.priority = priority\n",
    "        self.tags = tags\n",
    "        self.time_logged = time_logged\n",
    "        self.is_complete = is_complete\n",
    "        self.comments = comments\n",
    "        \n",
    "    def edit_description(self):\n",
    "        pass\n",
    "    \n",
    "    def mark_as_complete(self):\n",
    "        pass\n",
    "    \n",
    "    def add_comment(self, comment):\n",
    "        if self._validate_comment(comment):\n",
    "            self.comments.append(comment)\n",
    "\n",
    "    @staticmethod\n",
    "    def _validate_comment(comment):\n",
    "        if isinstance(comment, dict):\n",
    "            if \"text\" in comment and \"author\" in comment:\n",
    "                if isinstance(comment[\"text\"], str) and isinstance(comment[\"author\"], str):\n",
    "                    return True\n",
    "        # return None\n",
    "\n",
    "    @classmethod\n",
    "    def from_tuple(cls, data):\n",
    "        return cls(*data)"
   ]
  },
  {
   "cell_type": "code",
   "execution_count": 37,
   "id": "d1ff5d98-d4d5-489c-845c-8d663278a258",
   "metadata": {},
   "outputs": [],
   "source": [
    "task = Task.from_tuple((1, 2, 3))"
   ]
  },
  {
   "cell_type": "code",
   "execution_count": 43,
   "id": "cfaede8f-fbeb-4086-97f1-008527131fac",
   "metadata": {},
   "outputs": [
    {
     "data": {
      "text/plain": [
       "1"
      ]
     },
     "execution_count": 43,
     "metadata": {},
     "output_type": "execute_result"
    }
   ],
   "source": [
    "task.description"
   ]
  },
  {
   "cell_type": "code",
   "execution_count": 44,
   "id": "b1d689e1-7c33-4719-959a-9ca5b5608c62",
   "metadata": {},
   "outputs": [],
   "source": [
    "var = \"description\""
   ]
  },
  {
   "cell_type": "code",
   "execution_count": 45,
   "id": "e8bf798f-f6e3-417d-aa4e-17dc214f7c6d",
   "metadata": {},
   "outputs": [
    {
     "data": {
      "text/plain": [
       "1"
      ]
     },
     "execution_count": 45,
     "metadata": {},
     "output_type": "execute_result"
    }
   ],
   "source": [
    "task.__dict__[var]"
   ]
  },
  {
   "cell_type": "code",
   "execution_count": 34,
   "id": "f37670ea-97ee-4112-9fca-de92a4af1cf4",
   "metadata": {},
   "outputs": [],
   "source": [
    "if None:\n",
    "    print(\"prawda\")"
   ]
  },
  {
   "cell_type": "code",
   "execution_count": 33,
   "id": "657d0046-4601-4107-ba96-98979394298a",
   "metadata": {},
   "outputs": [
    {
     "data": {
      "text/plain": [
       "False"
      ]
     },
     "execution_count": 33,
     "metadata": {},
     "output_type": "execute_result"
    }
   ],
   "source": [
    "bool(None)"
   ]
  },
  {
   "cell_type": "code",
   "execution_count": null,
   "id": "c177511a-e94b-4fbd-99dd-4fddb22aad5b",
   "metadata": {},
   "outputs": [],
   "source": []
  },
  {
   "cell_type": "code",
   "execution_count": 22,
   "id": "5094e4c1-8d00-4645-b82f-7a00de09e979",
   "metadata": {},
   "outputs": [
    {
     "data": {
      "text/plain": [
       "<__main__.Task at 0x7cb5da939bd0>"
      ]
     },
     "execution_count": 22,
     "metadata": {},
     "output_type": "execute_result"
    }
   ],
   "source": [
    "task = Task(\"opis\")\n",
    "task"
   ]
  },
  {
   "cell_type": "code",
   "execution_count": 23,
   "id": "f9c625fe-cfea-4638-ae60-6aa6e298aaad",
   "metadata": {},
   "outputs": [],
   "source": [
    "task.add_comment({\"text\": \"..\", \"author1\": \"...\"})"
   ]
  },
  {
   "cell_type": "code",
   "execution_count": 24,
   "id": "41276701-60b9-44c1-b9ba-ec1be6500196",
   "metadata": {},
   "outputs": [
    {
     "data": {
      "text/plain": [
       "[]"
      ]
     },
     "execution_count": 24,
     "metadata": {},
     "output_type": "execute_result"
    }
   ],
   "source": [
    "task.comments"
   ]
  },
  {
   "cell_type": "markdown",
   "id": "04539e1b",
   "metadata": {},
   "source": [
    "2. Stwórz metodę klasową `from_tuple()`, która stworzy instancję klasy `Task` na podstawie tupli zawierającej szereg wartości potrzebnych do utworzenia zadania.\n",
    "\n",
    "---\n",
    "\n",
    "(czas: 10 min.)"
   ]
  },
  {
   "cell_type": "code",
   "execution_count": null,
   "id": "922f5825",
   "metadata": {},
   "outputs": [],
   "source": [
    "# ..."
   ]
  },
  {
   "cell_type": "markdown",
   "id": "448538c1",
   "metadata": {},
   "source": [
    "## Stringifikacja i reprezentacja"
   ]
  },
  {
   "cell_type": "markdown",
   "id": "d4a0c12f",
   "metadata": {},
   "source": [
    "1. Dodaj do klasy `User` z jednego z poprzednich zadań reprezentację oraz stringifikację. Pierwsza powinna być schematycznym opisem obiektu, który zawiera informację o jego numerze id, a druga niech zwraca jego nazwę użytkownika.\n",
    "\n",
    "---\n",
    "(czas: 7 min.)"
   ]
  },
  {
   "cell_type": "code",
   "execution_count": null,
   "id": "86d991cf",
   "metadata": {},
   "outputs": [],
   "source": [
    "# ..."
   ]
  }
 ],
 "metadata": {
  "kernelspec": {
   "display_name": "Python 3 (ipykernel)",
   "language": "python",
   "name": "python3"
  },
  "language_info": {
   "codemirror_mode": {
    "name": "ipython",
    "version": 3
   },
   "file_extension": ".py",
   "mimetype": "text/x-python",
   "name": "python",
   "nbconvert_exporter": "python",
   "pygments_lexer": "ipython3",
   "version": "3.11.5"
  },
  "toc": {
   "base_numbering": 1,
   "nav_menu": {},
   "number_sections": true,
   "sideBar": true,
   "skip_h1_title": true,
   "title_cell": "Table of Contents",
   "title_sidebar": "Contents",
   "toc_cell": false,
   "toc_position": {},
   "toc_section_display": true,
   "toc_window_display": false
  },
  "varInspector": {
   "cols": {
    "lenName": 16,
    "lenType": 16,
    "lenVar": 40
   },
   "kernels_config": {
    "python": {
     "delete_cmd_postfix": "",
     "delete_cmd_prefix": "del ",
     "library": "var_list.py",
     "varRefreshCmd": "print(var_dic_list())"
    },
    "r": {
     "delete_cmd_postfix": ") ",
     "delete_cmd_prefix": "rm(",
     "library": "var_list.r",
     "varRefreshCmd": "cat(var_dic_list()) "
    }
   },
   "types_to_exclude": [
    "module",
    "function",
    "builtin_function_or_method",
    "instance",
    "_Feature"
   ],
   "window_display": false
  }
 },
 "nbformat": 4,
 "nbformat_minor": 5
}
