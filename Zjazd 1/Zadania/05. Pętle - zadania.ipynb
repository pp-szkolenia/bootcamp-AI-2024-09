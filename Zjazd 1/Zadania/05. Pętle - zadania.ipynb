{
 "cells": [
  {
   "cell_type": "markdown",
   "id": "76e9a75f",
   "metadata": {},
   "source": [
    "# 5. Pętle\n",
    "## Pętla `for`"
   ]
  },
  {
   "cell_type": "markdown",
   "id": "b6c9c198",
   "metadata": {},
   "source": [
    "1. Pobierz od użytkownika liczbę składającą się z kilku cyfr. Funkcja `input()` zwróci obiekt typu `str`. Przeiteruj po nim i wypisz na ekranie każdy element wraz z informacją czy liczba jest parzysta, czy też nie. \n",
    "---\n",
    "Przykład:\n",
    "\n",
    "5678\n",
    "\n",
    "Liczba 5 - nieparzysta\n",
    "\n",
    "Liczba 6 - parzysta\n",
    "\n",
    "Liczba 7 - nieparzysta\n",
    "\n",
    "Liczba 8 - parzysta\n",
    "\n",
    "---\n",
    "Podpowiedź: do oceny parzystości użyj operatora dzielenia z resztą\n",
    "\n",
    "(czas: 7 min.)"
   ]
  },
  {
   "cell_type": "code",
   "execution_count": null,
   "id": "4ace1eca",
   "metadata": {
    "scrolled": true
   },
   "outputs": [],
   "source": [
    "# ..."
   ]
  },
  {
   "cell_type": "markdown",
   "id": "843f71bc",
   "metadata": {},
   "source": [
    "2. Stwórz słownik reprezentujący zadanie, który będzie posiadał kilka kluczy, m.in. `priority`. Następnie stwórz listę kilku innych, podobnych zadań.\n",
    "\n",
    "Przeiteruj po tej liście i dla każdego jej elementu wyświetl informację, czy priorytet danego zadania jest większy, mniejszy, czy równy temu, który jest w pierwszym utworzonym zadaniu. Możesz odnieść się do opisów poszczególnych zadań lub wprowadzić klucz \"id\", który będzie identyfikatorem zadania.\n",
    "\n",
    "---\n",
    "\n",
    "(czas: 12 min.)"
   ]
  },
  {
   "cell_type": "code",
   "execution_count": null,
   "id": "062792ab",
   "metadata": {},
   "outputs": [],
   "source": [
    "# ..."
   ]
  },
  {
   "cell_type": "markdown",
   "id": "e39ad324",
   "metadata": {},
   "source": [
    "## Pętla `while` oraz instrukcje `continue` i `break`"
   ]
  },
  {
   "cell_type": "markdown",
   "id": "f1a6b846",
   "metadata": {},
   "source": [
    "1. Napisz pętlę while, ktora wykona sie 10 razy. Wprowadź w tym celu zmienną, której wartość będzie inkrementowana co iterację. Policz w każdej iteracji i wyprintuj drugą potęgę tej zmiennej.\n",
    "\n",
    "---\n",
    "(czas: 5 min.)"
   ]
  },
  {
   "cell_type": "code",
   "execution_count": null,
   "id": "b04bb865",
   "metadata": {},
   "outputs": [],
   "source": [
    "# ..."
   ]
  },
  {
   "cell_type": "markdown",
   "id": "18ce1d11",
   "metadata": {},
   "source": [
    "2. Powtórz zadanie 1. z zadań o pętli `for` (poprzednia sekcja), ale jeśli pętla trafi na liczbę parzystą to niech ta iteracja zostanie pominięta a jeśli liczbą tą będzie 0 to wyjdź z pętli\n",
    "\n",
    "---\n",
    "(czas: 7 min.)"
   ]
  },
  {
   "cell_type": "code",
   "execution_count": null,
   "id": "3619966c",
   "metadata": {},
   "outputs": [],
   "source": [
    "# ..."
   ]
  },
  {
   "cell_type": "markdown",
   "id": "dfa67751",
   "metadata": {},
   "source": [
    "## Zagnieżdżone pętle, `zip` i `enumerate`"
   ]
  },
  {
   "cell_type": "markdown",
   "id": "3d0c85cd",
   "metadata": {},
   "source": [
    "1. Stwórz listę zadań (słowników), o strukturze takiej jak w poniższym przykładzie.Każde zadanie niech posiada listę komentarzy. Następnie przeiteruj po liście zadań i w ramach każdego z nich przeiteruj po wszystkich komentarzach. Wewnątrz pętli dodaj printy tak, żeby dla poniższej listy:\n",
    "\n",
    "```python\n",
    "tasks = [\n",
    " {\"description\": \"Learn Python\", \"comments\": [\"Good luck!\", \"Don't forget\"]},\n",
    " {\"description\": \"Finish my work\", \"comments\": [\"Finally\", \"Do it today\"]}\n",
    "]\n",
    "```\n",
    "\n",
    "kod printował następujący tekst:\n",
    "\n",
    "```\n",
    "Task: Learn Python\n",
    "Comment: Good luck!\n",
    "Comment: Don't forget\n",
    "\n",
    "Task: Finish my work\n",
    "Comment: Finally\n",
    "Comment: Do it today\n",
    "```\n",
    "\n",
    "---\n",
    "\n",
    "(czas: 9 min.)"
   ]
  },
  {
   "cell_type": "code",
   "execution_count": null,
   "id": "c10fbfb6",
   "metadata": {},
   "outputs": [],
   "source": [
    "# ..."
   ]
  },
  {
   "cell_type": "markdown",
   "id": "b79eccf0",
   "metadata": {},
   "source": [
    "2. Stwórz listę tekstów komentarzy, które mogłyby znaleźć się pod pewnym zadaniem oraz listę autorów tych komentarzy. Obie listy powinny mieć tyle samo elementów. Następnie zanicjuj pustą listę komentarzy, którą później wypełnisz. Każdy komentarz ma następującą strukturę:\n",
    "\n",
    "```python\n",
    "{\"text\": \"...\", \"author\": \"...\"}\n",
    "```\n",
    "\n",
    "Napisz pętlę, która przeiteruje **jednocześnie** po obu utworzonych (niepustych) listach. W każdej iteracji utwórz słownik reprezentujący komentarz, który będzie posiadał informację zarówno o tekście jak i o autorze. Słownik ten powinien zostać dodany do wcześniej zainicjowanej listy komentarzy.\n",
    "\n",
    "---\n",
    "\n",
    "(czas: 11 min.)"
   ]
  },
  {
   "cell_type": "code",
   "execution_count": null,
   "id": "49f6e191",
   "metadata": {},
   "outputs": [],
   "source": [
    "# ..."
   ]
  },
  {
   "cell_type": "markdown",
   "id": "00360832",
   "metadata": {},
   "source": [
    "3. Przeiteruj po liście tekstów komentarzy z poprzedniego zadania. W każdej iteracji wyprintuj tekst komentarza oraz jego pozycję na liście. Całość tej informacji powinna być jednym zdaniem, stworzonym z wykorzystaniem f-stringa.\n",
    "\n",
    "---\n",
    "(czas: 6 min.)"
   ]
  },
  {
   "cell_type": "code",
   "execution_count": null,
   "id": "1156a588",
   "metadata": {},
   "outputs": [],
   "source": [
    "# ..."
   ]
  },
  {
   "cell_type": "markdown",
   "id": "aab30146",
   "metadata": {},
   "source": [
    "## `list comprehension`"
   ]
  },
  {
   "cell_type": "markdown",
   "id": "558a3a9c",
   "metadata": {},
   "source": [
    "1. Stwórz listę liczb całkowitych o wartościach od 2 do 30 (nie rób tego ręcznie). Następnie napisz *list comprehension*, którego rezultatem będzie lista przemnożonych przez 3 elementów wyjściowej listy.\n",
    "\n",
    "---\n",
    "(czas: 5 min.)"
   ]
  },
  {
   "cell_type": "code",
   "execution_count": null,
   "id": "8dc97ee5",
   "metadata": {},
   "outputs": [],
   "source": [
    "# ..."
   ]
  },
  {
   "cell_type": "markdown",
   "id": "be2f747d",
   "metadata": {},
   "source": [
    "2. Do wyniku z poprzedniego zadania dodaj modyfikację – niech mnożone przez 3 będą tylko te elementy, które dzielą się bez reszty przez 4.\n",
    "\n",
    "---\n",
    "(czas: 2 min.)"
   ]
  },
  {
   "cell_type": "code",
   "execution_count": null,
   "id": "424868b6",
   "metadata": {},
   "outputs": [],
   "source": [
    "# ..."
   ]
  },
  {
   "cell_type": "markdown",
   "id": "c8905c35",
   "metadata": {},
   "source": [
    "3. Stwórz listę list, która będzie przechowywać komentarze do poszczególnych zadań. Na jej podstawie wygeneruj listę intów, która zawiera informację o tym, ile komentarzy mają poszczególne zadania. Wykorzystaj *list comprehension*.\n",
    "\n",
    "---\n",
    "\n",
    "Przykład:\n",
    "```python\n",
    "# input:\n",
    "[[\"Comment_1_1\", \"Comment_1_2\"],\n",
    " [\"Comment_2_1\"],\n",
    " [\"Comment_3_1\", \"Comment_3_2\", \"Comment_3_3\"]]\n",
    "\n",
    "# output:\n",
    "[2, 1, 3]\n",
    "```\n",
    "---\n",
    "(czas: 5 min.)"
   ]
  },
  {
   "cell_type": "code",
   "execution_count": null,
   "id": "92b42965",
   "metadata": {},
   "outputs": [],
   "source": [
    "# ..."
   ]
  },
  {
   "cell_type": "markdown",
   "id": "8110d70b",
   "metadata": {},
   "source": [
    "## Iterowanie po zagnieżdżonych strukturach"
   ]
  },
  {
   "cell_type": "markdown",
   "id": "6eae420b",
   "metadata": {},
   "source": [
    "1. W pliku `nested.json` znajduje się struktura danych, która zawiera informacje o prognozie pogody. Skopiuj jego zawartość do odpowiedniego narzędzia (np. http://jsonviewer.stack.hu/), które ułatwi zrozumienie struktury JSONa. Prześledź kolejne poziomy zagnieżdżenia. Następnie zapisz dane do zmiennej i przeiteruj po niej wyciągając wartości prognozowanych temperatur (`temp`) oraz oznaczenia czasu (`dt_txt`) do osobnych zmiennych (list).\n",
    "\n",
    "---\n",
    "(czas: 12 min.)"
   ]
  },
  {
   "cell_type": "code",
   "execution_count": null,
   "id": "1c0d8029",
   "metadata": {},
   "outputs": [],
   "source": [
    "# ..."
   ]
  }
 ],
 "metadata": {
  "kernelspec": {
   "display_name": "Python 3 (ipykernel)",
   "language": "python",
   "name": "python3"
  },
  "language_info": {
   "codemirror_mode": {
    "name": "ipython",
    "version": 3
   },
   "file_extension": ".py",
   "mimetype": "text/x-python",
   "name": "python",
   "nbconvert_exporter": "python",
   "pygments_lexer": "ipython3",
   "version": "3.11.5"
  },
  "toc": {
   "base_numbering": 1,
   "nav_menu": {},
   "number_sections": true,
   "sideBar": true,
   "skip_h1_title": true,
   "title_cell": "Table of Contents",
   "title_sidebar": "Contents",
   "toc_cell": false,
   "toc_position": {},
   "toc_section_display": true,
   "toc_window_display": false
  },
  "varInspector": {
   "cols": {
    "lenName": 16,
    "lenType": 16,
    "lenVar": 40
   },
   "kernels_config": {
    "python": {
     "delete_cmd_postfix": "",
     "delete_cmd_prefix": "del ",
     "library": "var_list.py",
     "varRefreshCmd": "print(var_dic_list())"
    },
    "r": {
     "delete_cmd_postfix": ") ",
     "delete_cmd_prefix": "rm(",
     "library": "var_list.r",
     "varRefreshCmd": "cat(var_dic_list()) "
    }
   },
   "types_to_exclude": [
    "module",
    "function",
    "builtin_function_or_method",
    "instance",
    "_Feature"
   ],
   "window_display": false
  }
 },
 "nbformat": 4,
 "nbformat_minor": 5
}
