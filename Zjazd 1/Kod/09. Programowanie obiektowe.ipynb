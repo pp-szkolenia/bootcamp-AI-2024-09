{
 "cells": [
  {
   "cell_type": "markdown",
   "id": "3ed060a9",
   "metadata": {},
   "source": [
    "# Programowanie obiektowe\n",
    "## Klasa oraz obiekt\n",
    "\n",
    "1. **Klasa** to pojęcie bardzo zbliżone do **typu**. W praktyce można je ze sobą utożsamić. Typy wbudowane takie jak `int`, `str` czy `list` są zdefiniowane poprzez klasy.\n",
    "2. Klasa jest **ogólnym** i abstrakcyjnym **opisem** własności oraz działań jakie mogą być wykonywane na przedstawicielach tej klasy.\n",
    "3. Przedstawicieli klasy nazywamy jej **instancjami** lub **obiektami**.\n",
    "4. Parametry opisujące obiekty nazywamy ich **atrybutami**. Działania, jakie możemy wykonywać na obiektach to **metody**.\n",
    "\n",
    "---\n",
    "\n",
    "Programowanie zorientowane obiektowo (*Object Oriented Programming*) to jeden z paradygmatów w programowaniu. Ze względu na swoją specifykę pozwala on na przejrzystą implementację bardziej abstrakcyjnych mechanizmów niż w podejściu proceduralnym.\n",
    "\n",
    "Proste abstrakcje możemy modelować za pomocą struktur danych - list czy słowników. Jednak bardziej zaawansowane obiekty wygodniej będzie reprezentować przy pomocy własnych klas."
   ]
  },
  {
   "cell_type": "code",
   "execution_count": 1,
   "id": "e0dc3473",
   "metadata": {},
   "outputs": [
    {
     "name": "stdout",
     "output_type": "stream",
     "text": [
      "<class 'int'>\n"
     ]
    }
   ],
   "source": [
    "print(type(1))"
   ]
  },
  {
   "cell_type": "code",
   "execution_count": 2,
   "id": "9afe8dd2",
   "metadata": {},
   "outputs": [
    {
     "name": "stdout",
     "output_type": "stream",
     "text": [
      "<class 'type'>\n"
     ]
    }
   ],
   "source": [
    "print(type(int))"
   ]
  },
  {
   "cell_type": "markdown",
   "id": "eb14a487",
   "metadata": {},
   "source": [
    "---"
   ]
  },
  {
   "cell_type": "code",
   "execution_count": null,
   "id": "0347871d",
   "metadata": {},
   "outputs": [],
   "source": [
    "str  # str class"
   ]
  },
  {
   "cell_type": "code",
   "execution_count": null,
   "id": "a8edd1ca",
   "metadata": {
    "scrolled": true
   },
   "outputs": [],
   "source": [
    "\"hello\"  #  string object (instance of str class)"
   ]
  },
  {
   "cell_type": "code",
   "execution_count": null,
   "id": "92f7ee26",
   "metadata": {},
   "outputs": [],
   "source": [
    "\"hello\".upper()  # method of str class"
   ]
  },
  {
   "cell_type": "markdown",
   "id": "33792ee6",
   "metadata": {},
   "source": [
    "Korzystanie z klas (czyli *programowanie zorientowane obiektowo*) pozwala zamknać wszystkie funkcjonalności dotyczące danego typu obiektów w jednym kawałku kodu. Od nas zależy co będziemy modelować za pomocą klas, a co nie.\n",
    "\n",
    "\n",
    "**Przykłady wykorzystania klas:**\n",
    "\n",
    "1. Software do projektowania modeli graficznych\n",
    "\n",
    "Poszczególne kształty będą definiowane jako klasy. Np. kwadrat może posiadać atrybut \"długość boku\" oraz metody \"policz pole powierzchni\" albo \"policz obwód\".\n",
    "\n",
    "W razie potrzeby można dodać kolejne funkcjonalności, np. kolor (atrybut) czy przesuwanie w przestrzeni (metoda)."
   ]
  },
  {
   "cell_type": "markdown",
   "id": "283ffbc3",
   "metadata": {},
   "source": [
    "---"
   ]
  },
  {
   "cell_type": "markdown",
   "id": "29ae48e4",
   "metadata": {},
   "source": [
    "2. Portale społecznościowe\n",
    "\n",
    "Użytkownik takiego portalu będzie instancją klasy `User`. Jego atrybutami będą: imię, nazwisko, adres e-mail, liczba znajomych itp. a metodami np. zaproś do znajomych, zmień adres e-mail czy napisz post."
   ]
  },
  {
   "cell_type": "markdown",
   "id": "cfea40f2",
   "metadata": {},
   "source": [
    "---"
   ]
  },
  {
   "cell_type": "markdown",
   "id": "c0f08014",
   "metadata": {},
   "source": [
    "3. Aplikacja okienkowa z graficznym interfejsem\n",
    "\n",
    "Okno takiej aplikacji może być instancją odpowiedniej klasy. Jego atrybuty to m.in.: wysokość, szerokość, położenie lewego górnego rogu. Metodami tej klasy będzie: minimalizacja okna, zmiana wyokości/szerokości, zamknięcie okna."
   ]
  },
  {
   "cell_type": "markdown",
   "id": "659aba08",
   "metadata": {},
   "source": [
    "**Klasa i obiekt – podsumowanie:**\n",
    "\n",
    "- Klasa jest implementacją typu danych\n",
    "- Składa się z atrybutów (parametrów opisujących obiekt) oraz metod (funkcji, które możemy wywołać na obiekcie)\n",
    "- Programowanie zorientowane obiektowo jest jednym z podstawowych paradygmatów programowania"
   ]
  },
  {
   "cell_type": "markdown",
   "id": "83d3593e",
   "metadata": {},
   "source": [
    "## Definicja klasy (konstruktor, atrybuty, metody)\n",
    "\n",
    "### Przykład 1: Kształty"
   ]
  },
  {
   "cell_type": "code",
   "execution_count": null,
   "id": "d345a853",
   "metadata": {},
   "outputs": [],
   "source": [
    "class Square:\n",
    "    def __init__(self, side_length):\n",
    "        self.side_length = side_length"
   ]
  },
  {
   "cell_type": "code",
   "execution_count": null,
   "id": "90482e03",
   "metadata": {},
   "outputs": [],
   "source": [
    "my_square = Square(5)\n",
    "\n",
    "type(my_square)"
   ]
  },
  {
   "cell_type": "code",
   "execution_count": null,
   "id": "0f09d560",
   "metadata": {},
   "outputs": [],
   "source": [
    "type(type(my_square))"
   ]
  },
  {
   "cell_type": "code",
   "execution_count": null,
   "id": "cd95dbcd",
   "metadata": {},
   "outputs": [],
   "source": [
    "my_square.side_length"
   ]
  },
  {
   "cell_type": "markdown",
   "id": "cf444bd6",
   "metadata": {},
   "source": [
    "---"
   ]
  },
  {
   "cell_type": "code",
   "execution_count": null,
   "id": "0e7e20ae",
   "metadata": {},
   "outputs": [],
   "source": [
    "class Square:\n",
    "    def __init__(self, side_length, color):\n",
    "        self.side_length = side_length\n",
    "        self.color = color\n",
    "    \n",
    "    def calculate_area(self):\n",
    "        return self.side_length ** 2\n",
    "    \n",
    "    def calculate_perimeter(self):\n",
    "        return self.side_length * 4"
   ]
  },
  {
   "cell_type": "code",
   "execution_count": null,
   "id": "d6c421ff",
   "metadata": {},
   "outputs": [],
   "source": [
    "my_square = Square(5, \"blue\")\n",
    "my_square.color"
   ]
  },
  {
   "cell_type": "code",
   "execution_count": null,
   "id": "e0760859",
   "metadata": {},
   "outputs": [],
   "source": [
    "my_square.side_length"
   ]
  },
  {
   "cell_type": "code",
   "execution_count": null,
   "id": "094520b4",
   "metadata": {},
   "outputs": [],
   "source": [
    "my_square.calculate_area()"
   ]
  },
  {
   "cell_type": "code",
   "execution_count": null,
   "id": "3498bad5",
   "metadata": {},
   "outputs": [],
   "source": [
    "my_square.calculate_perimeter()"
   ]
  },
  {
   "cell_type": "markdown",
   "id": "28cee276",
   "metadata": {},
   "source": [
    "---"
   ]
  },
  {
   "cell_type": "code",
   "execution_count": null,
   "id": "d2b2e989",
   "metadata": {},
   "outputs": [],
   "source": [
    "class Rectangle:\n",
    "    def __init__(self, a, b):\n",
    "        self.width = a\n",
    "        self.height = b\n",
    "    \n",
    "    def calculate_area(self):\n",
    "        return self.width * self.height\n",
    "    \n",
    "    def calculate_perimeter(self):\n",
    "        return 2 * (self.width + self.height)"
   ]
  },
  {
   "cell_type": "code",
   "execution_count": null,
   "id": "f6263086",
   "metadata": {},
   "outputs": [],
   "source": [
    "my_rectangle = Rectangle(3, 5)"
   ]
  },
  {
   "cell_type": "code",
   "execution_count": null,
   "id": "326492e1",
   "metadata": {},
   "outputs": [],
   "source": [
    "my_rectangle.width, my_rectangle.height"
   ]
  },
  {
   "cell_type": "code",
   "execution_count": null,
   "id": "6a349e5e",
   "metadata": {},
   "outputs": [],
   "source": [
    "my_rectangle.calculate_area()"
   ]
  },
  {
   "cell_type": "code",
   "execution_count": null,
   "id": "5ecde021",
   "metadata": {},
   "outputs": [],
   "source": [
    "my_rectangle.calculate_perimeter()"
   ]
  },
  {
   "cell_type": "markdown",
   "id": "531e4237",
   "metadata": {},
   "source": [
    "---"
   ]
  },
  {
   "cell_type": "code",
   "execution_count": null,
   "id": "c34937f3",
   "metadata": {},
   "outputs": [],
   "source": [
    "class Rectangle:\n",
    "    def __init__(self, a, b):\n",
    "        self.width = a\n",
    "        self.height = b\n",
    "    \n",
    "    def calculate_area(self):\n",
    "        return self.width * self.height\n",
    "\n",
    "    def calculate_perimeter(self):\n",
    "        return 2 * (self.width + self.height)\n",
    "\n",
    "    def modify_dimensions(self, new_width=None, new_height=None):\n",
    "        if new_width:\n",
    "            self.width = new_width\n",
    "        \n",
    "        if new_height:\n",
    "            self.height = new_height"
   ]
  },
  {
   "cell_type": "code",
   "execution_count": null,
   "id": "b2aac964",
   "metadata": {},
   "outputs": [],
   "source": [
    "my_rectangle = Rectangle(3, 5)\n",
    "\n",
    "my_rectangle.width, my_rectangle.height"
   ]
  },
  {
   "cell_type": "code",
   "execution_count": null,
   "id": "f530348b",
   "metadata": {},
   "outputs": [],
   "source": [
    "my_rectangle.modify_dimensions(new_height=2)"
   ]
  },
  {
   "cell_type": "code",
   "execution_count": null,
   "id": "20baff8a",
   "metadata": {},
   "outputs": [],
   "source": [
    "my_rectangle.width, my_rectangle.height"
   ]
  },
  {
   "cell_type": "markdown",
   "id": "5e35d450",
   "metadata": {},
   "source": [
    "---"
   ]
  },
  {
   "cell_type": "code",
   "execution_count": 3,
   "id": "cb12d43c",
   "metadata": {},
   "outputs": [],
   "source": [
    "class Circle:\n",
    "    PI = 3.1415926  # class attribute\n",
    "\n",
    "    def __init__(self, r):\n",
    "        self.radius = r\n",
    "\n",
    "    def calculate_area(self):\n",
    "        return self.PI * self.radius ** 2\n",
    "    \n",
    "    def calculate_circumference(self):\n",
    "        return 2 * self.PI * self.radius"
   ]
  },
  {
   "cell_type": "code",
   "execution_count": 5,
   "id": "2860b9ea",
   "metadata": {},
   "outputs": [
    {
     "data": {
      "text/plain": [
       "10"
      ]
     },
     "execution_count": 5,
     "metadata": {},
     "output_type": "execute_result"
    }
   ],
   "source": [
    "my_circle = Circle(10)\n",
    "my_circle.radius"
   ]
  },
  {
   "cell_type": "code",
   "execution_count": 6,
   "id": "5a4e531e",
   "metadata": {},
   "outputs": [
    {
     "data": {
      "text/plain": [
       "3.1415926"
      ]
     },
     "execution_count": 6,
     "metadata": {},
     "output_type": "execute_result"
    }
   ],
   "source": [
    "my_circle.PI"
   ]
  },
  {
   "cell_type": "code",
   "execution_count": 7,
   "id": "20aacb0a-67cc-4f0e-ab03-7c92fd701de7",
   "metadata": {},
   "outputs": [
    {
     "data": {
      "text/plain": [
       "3.1415926"
      ]
     },
     "execution_count": 7,
     "metadata": {},
     "output_type": "execute_result"
    }
   ],
   "source": [
    "Circle.PI"
   ]
  },
  {
   "cell_type": "code",
   "execution_count": null,
   "id": "9b30b3d2",
   "metadata": {},
   "outputs": [],
   "source": [
    "my_circle.calculate_area()"
   ]
  },
  {
   "cell_type": "code",
   "execution_count": null,
   "id": "cfe7b70a",
   "metadata": {},
   "outputs": [],
   "source": [
    "my_circle.calculate_circumference()"
   ]
  },
  {
   "cell_type": "markdown",
   "id": "d5f5b32d",
   "metadata": {},
   "source": [
    "> **ZADANIA**"
   ]
  },
  {
   "cell_type": "markdown",
   "id": "023d3fa8",
   "metadata": {},
   "source": [
    "### Przykład 2: task manager"
   ]
  },
  {
   "cell_type": "code",
   "execution_count": null,
   "id": "ce4660e9",
   "metadata": {},
   "outputs": [],
   "source": [
    "class Task:\n",
    "    def __init__(self, text, assignee=None, tags=[]):\n",
    "        self.description = text\n",
    "        self.assignee = assignee\n",
    "        self.tags = tags\n",
    "        self.comments = []  # why not in parameters?"
   ]
  },
  {
   "cell_type": "code",
   "execution_count": null,
   "id": "bae3616b",
   "metadata": {},
   "outputs": [],
   "source": [
    "task_description = \"Learn Python\"\n",
    "task_assignee = \"Andrzej\"\n",
    "\n",
    "task = Task(task_description, task_assignee)"
   ]
  },
  {
   "cell_type": "code",
   "execution_count": null,
   "id": "be70b54b",
   "metadata": {},
   "outputs": [],
   "source": [
    "task.description"
   ]
  },
  {
   "cell_type": "code",
   "execution_count": null,
   "id": "6a470667",
   "metadata": {},
   "outputs": [],
   "source": [
    "task.assignee"
   ]
  },
  {
   "cell_type": "code",
   "execution_count": null,
   "id": "eb52cd69",
   "metadata": {},
   "outputs": [],
   "source": [
    "task.tags"
   ]
  },
  {
   "cell_type": "code",
   "execution_count": null,
   "id": "4036fde7",
   "metadata": {},
   "outputs": [],
   "source": [
    "task.comments"
   ]
  },
  {
   "cell_type": "markdown",
   "id": "7183a37b",
   "metadata": {},
   "source": [
    "---"
   ]
  },
  {
   "cell_type": "code",
   "execution_count": null,
   "id": "dd8a21ac",
   "metadata": {},
   "outputs": [],
   "source": [
    "class Task:\n",
    "    def __init__(self, text, assignee=None, tags=[]):\n",
    "        self.description = text\n",
    "        self.assignee = assignee\n",
    "        self.tags = tags\n",
    "        self.comments = []\n",
    "        \n",
    "    def modify_description(self, new_description):\n",
    "        self.description = new_description\n",
    "        \n",
    "    def add_comment(self, comment):\n",
    "        self.comments.append(comment)"
   ]
  },
  {
   "cell_type": "code",
   "execution_count": null,
   "id": "8ed412ad",
   "metadata": {},
   "outputs": [],
   "source": [
    "task_text = \"Learn Python\"\n",
    "task_assignee = \"Andrzej\"\n",
    "\n",
    "task = Task(task_text, task_assignee)"
   ]
  },
  {
   "cell_type": "code",
   "execution_count": null,
   "id": "01a11879",
   "metadata": {},
   "outputs": [],
   "source": [
    "task.description"
   ]
  },
  {
   "cell_type": "code",
   "execution_count": null,
   "id": "31c0ce65",
   "metadata": {},
   "outputs": [],
   "source": [
    "task.modify_description(\"Practice Python\")\n",
    "task.description"
   ]
  },
  {
   "cell_type": "code",
   "execution_count": null,
   "id": "7dae51af",
   "metadata": {},
   "outputs": [],
   "source": [
    "task.comments"
   ]
  },
  {
   "cell_type": "code",
   "execution_count": null,
   "id": "d2d64665",
   "metadata": {},
   "outputs": [],
   "source": [
    "my_comment = {\n",
    "    \"author\": \"Andżela\",\n",
    "    \"text\": \"Good luck!\"\n",
    "}\n",
    "\n",
    "\n",
    "task.add_comment(my_comment)"
   ]
  },
  {
   "cell_type": "code",
   "execution_count": null,
   "id": "a5de4c21",
   "metadata": {},
   "outputs": [],
   "source": [
    "task.comments"
   ]
  },
  {
   "cell_type": "markdown",
   "id": "9d6fbe4a",
   "metadata": {},
   "source": [
    "**Definicja klasy – podsumowanie:**\n",
    "\n",
    "- Nazwa klasy powinna zaczynać się od wielkiej litery\n",
    "- Klasy prawie zawsze posiadają metodę inicjalizacyjną, która zawiera zestaw instrukcji, jakie zostają wykonane po utworzeniu obiektu. Przede wszystkim są tam przypisywane wartości do atrybutów\n",
    "- Aby odwołać się do atrybutu lub metody obiektu poza klasą, należy użyć zapisu `<object_name>.<attr_or_method_name>`\n",
    "- Aby odwołać się do atrybutu lub metody obiektu wewnątrz klasy, należy użyć zapisu `self.<attr_or_method_name>`"
   ]
  },
  {
   "cell_type": "markdown",
   "id": "fcd4e69e",
   "metadata": {},
   "source": [
    "> **ZADANIA**"
   ]
  },
  {
   "cell_type": "markdown",
   "id": "51ab2718",
   "metadata": {},
   "source": [
    "## Dziedziczenie\n",
    "\n",
    "Jeżeli chcemy stworzyć wiele klas, które mają pewną część wspólną, możemy wykorzystać **mechanizm dziedziczenia**.\n",
    "\n",
    "Jest to szczególnie przydatne kiedy pewna klasa rozszerza funkcjonalności innej. Przykład - `User` i `Admin`. Każdy admin jest userem, ale ma pewne dodatkowe możliwości. W takim wypadku możemy stworzyć klasę `User`, a następnie `Admin`, który będzie dziedziczyć po `User`."
   ]
  },
  {
   "cell_type": "code",
   "execution_count": 23,
   "id": "a41c31eb-105d-40e8-9e06-f3b0c3212e20",
   "metadata": {},
   "outputs": [],
   "source": [
    "class BaseA:\n",
    "    def __init__(self):\n",
    "        pass\n",
    "\n",
    "    def method(self):\n",
    "        print(\"Base A method\")\n",
    "\n",
    "\n",
    "class BaseB:\n",
    "    def __init__(self):\n",
    "        pass\n",
    "\n",
    "    def method(self):\n",
    "        print(\"Base B method\")"
   ]
  },
  {
   "cell_type": "code",
   "execution_count": 24,
   "id": "d9504ce3-f9a5-4d6a-ace0-6a33e4cbe3c9",
   "metadata": {},
   "outputs": [],
   "source": [
    "class C(BaseA, BaseB):\n",
    "    def __init__(self):\n",
    "        BaseA.__init__(self)\n",
    "        BaseB.__init__(self)"
   ]
  },
  {
   "cell_type": "code",
   "execution_count": 25,
   "id": "ac8742b3-d5be-451d-97a4-0dab342ca482",
   "metadata": {},
   "outputs": [],
   "source": [
    "obj = C()"
   ]
  },
  {
   "cell_type": "code",
   "execution_count": 26,
   "id": "a763370a-8517-4a57-9b8d-7282e3a7aeed",
   "metadata": {},
   "outputs": [
    {
     "name": "stdout",
     "output_type": "stream",
     "text": [
      "Base A method\n"
     ]
    }
   ],
   "source": [
    "obj.method()"
   ]
  },
  {
   "cell_type": "code",
   "execution_count": null,
   "id": "3db81005-a3c1-437b-8116-c8d08331d21e",
   "metadata": {},
   "outputs": [],
   "source": []
  },
  {
   "cell_type": "code",
   "execution_count": null,
   "id": "3e433711-5ddd-41cd-b23a-8036ddc8918d",
   "metadata": {},
   "outputs": [],
   "source": []
  },
  {
   "cell_type": "code",
   "execution_count": 8,
   "id": "d998ae28",
   "metadata": {},
   "outputs": [],
   "source": [
    "class Vehicle:\n",
    "    def __init__(self, color, weight, mileage):\n",
    "        self.color = color\n",
    "        self.weight = weight\n",
    "        self.mileage = mileage\n",
    "        \n",
    "    def ride(self, distance):\n",
    "        self.mileage += distance"
   ]
  },
  {
   "cell_type": "code",
   "execution_count": 9,
   "id": "388dddcf",
   "metadata": {},
   "outputs": [
    {
     "data": {
      "text/plain": [
       "<__main__.Vehicle at 0x75f24420e090>"
      ]
     },
     "execution_count": 9,
     "metadata": {},
     "output_type": "execute_result"
    }
   ],
   "source": [
    "v = Vehicle(\"red\", 100, 0)\n",
    "v"
   ]
  },
  {
   "cell_type": "code",
   "execution_count": 10,
   "id": "1940e566",
   "metadata": {},
   "outputs": [
    {
     "name": "stdout",
     "output_type": "stream",
     "text": [
      "red\n",
      "100\n"
     ]
    }
   ],
   "source": [
    "print(v.color)\n",
    "print(v.weight)"
   ]
  },
  {
   "cell_type": "code",
   "execution_count": 11,
   "id": "f211f7a6",
   "metadata": {},
   "outputs": [
    {
     "name": "stdout",
     "output_type": "stream",
     "text": [
      "0\n",
      "100\n"
     ]
    }
   ],
   "source": [
    "print(v.mileage)\n",
    "\n",
    "v.ride(100)\n",
    "\n",
    "print(v.mileage)"
   ]
  },
  {
   "cell_type": "markdown",
   "id": "dcac4d51",
   "metadata": {},
   "source": [
    "---"
   ]
  },
  {
   "cell_type": "code",
   "execution_count": 12,
   "id": "3cfb9a79",
   "metadata": {},
   "outputs": [],
   "source": [
    "class Car(Vehicle):\n",
    "    def __init__(self, color, weight, mileage):\n",
    "        super().__init__(color, weight, mileage)\n",
    "\n",
    "        # Vehicle.__init__(self, color, weight, mileage)  # another way"
   ]
  },
  {
   "cell_type": "code",
   "execution_count": 13,
   "id": "595ee2eb",
   "metadata": {},
   "outputs": [
    {
     "data": {
      "text/plain": [
       "<__main__.Car at 0x75f244214b90>"
      ]
     },
     "execution_count": 13,
     "metadata": {},
     "output_type": "execute_result"
    }
   ],
   "source": [
    "c = Car(\"blue\", 1000, 0)\n",
    "c"
   ]
  },
  {
   "cell_type": "code",
   "execution_count": 14,
   "id": "490ff5e2",
   "metadata": {},
   "outputs": [
    {
     "name": "stdout",
     "output_type": "stream",
     "text": [
      "blue\n",
      "1000\n",
      "0\n"
     ]
    }
   ],
   "source": [
    "print(c.color)\n",
    "print(c.weight)\n",
    "print(c.mileage)"
   ]
  },
  {
   "cell_type": "code",
   "execution_count": 15,
   "id": "685134ff",
   "metadata": {},
   "outputs": [
    {
     "name": "stdout",
     "output_type": "stream",
     "text": [
      "100\n"
     ]
    }
   ],
   "source": [
    "c.ride(100)\n",
    "print(c.mileage)"
   ]
  },
  {
   "cell_type": "markdown",
   "id": "81e7049c",
   "metadata": {},
   "source": [
    "---"
   ]
  },
  {
   "cell_type": "code",
   "execution_count": 16,
   "id": "4ee76aed",
   "metadata": {},
   "outputs": [],
   "source": [
    "class Car(Vehicle):\n",
    "    def __init__(self, color, weight, mileage, fuel_amount, n_of_wheels=4):\n",
    "        super().__init__(color, weight, mileage)\n",
    "        \n",
    "        self.fuel_amount = fuel_amount\n",
    "        self.n_of_wheels = n_of_wheels\n",
    "    \n",
    "    def refuel(self, amount):\n",
    "        self.fuel_amount += amount\n",
    "        \n",
    "        \n",
    "\n",
    "c = Car(\"white\", 1200, 50, 30)"
   ]
  },
  {
   "cell_type": "code",
   "execution_count": 17,
   "id": "d935cd48",
   "metadata": {},
   "outputs": [
    {
     "name": "stdout",
     "output_type": "stream",
     "text": [
      "white\n",
      "1200\n",
      "50\n",
      "30\n",
      "4\n"
     ]
    }
   ],
   "source": [
    "print(c.color)\n",
    "print(c.weight)\n",
    "print(c.mileage)\n",
    "print(c.fuel_amount)\n",
    "print(c.n_of_wheels)"
   ]
  },
  {
   "cell_type": "code",
   "execution_count": 18,
   "id": "c2302c67",
   "metadata": {},
   "outputs": [
    {
     "name": "stdout",
     "output_type": "stream",
     "text": [
      "70\n"
     ]
    }
   ],
   "source": [
    "c.refuel(40)\n",
    "print(c.fuel_amount)"
   ]
  },
  {
   "cell_type": "markdown",
   "id": "dfe20f22",
   "metadata": {},
   "source": [
    "**Dziedziczenie – podsumowanie:**\n",
    "\n",
    "- Jeśli tworzymy kilka klas, które współdzielą część atrybutów albo metod, możemy utworzyć klasę bazową oraz jedną lub więcej klas dziedziczących po niej\n",
    "- Klasy dziedziczące przejmują wszystkie atrybuty oraz metody klasy bazowej, a także mogą posiadać własne"
   ]
  },
  {
   "cell_type": "markdown",
   "id": "f4786298",
   "metadata": {},
   "source": [
    "> **ZADANIA**"
   ]
  },
  {
   "cell_type": "markdown",
   "id": "48927261",
   "metadata": {},
   "source": [
    "## Hermetyzacja - metody (atrybuty) publiczne vs. chronione vs. prywatne\n",
    "\n",
    "\n",
    "Nie wszystkie atrybuty czy metody mogą (powinny) być używane na zewnątrz klasy. Niektóre z nich są dozwolone do użytku tylko w obrębie definicji klasy. Nazywamy to **hermetyzacją**.\n",
    "\n",
    "W Pythonie jednak **nie występuje** prawdziwa hermetyzacja. W rzeczywistości poza klasą mamy dostęp do wszystkich atrybutów i metod.\n",
    "\n",
    "---\n",
    "Istnieje jednak reguła mówiąca, że **nazwy zaczynające się od _** są chronione, czyli mogą być używane wyłącznie **wewnątrz klasy** i w **klasach dziedziczących**.\n",
    "\n",
    "**Nazwy zaczynające się od __** są prywatne, czyli mogą być używane **wyłącznie wewnątrz klasy.**"
   ]
  },
  {
   "cell_type": "code",
   "execution_count": 27,
   "id": "c73fd78a",
   "metadata": {},
   "outputs": [],
   "source": [
    "class Task:\n",
    "    def __init__(self, text, assignee=None, tags=[]):\n",
    "        self.description = text\n",
    "        self.assignee = assignee\n",
    "        self.tags = tags\n",
    "        self._comments = []  # 'comments' attribute is protected\n",
    "        \n",
    "    def modify_description(self, new_description):\n",
    "        self.description = new_description\n",
    "        \n",
    "    def add_comment(self, comment):\n",
    "        self._comments.append(comment)"
   ]
  },
  {
   "cell_type": "code",
   "execution_count": 28,
   "id": "dc3380c0",
   "metadata": {},
   "outputs": [
    {
     "data": {
      "text/plain": [
       "<__main__.Task at 0x75f2442b7b50>"
      ]
     },
     "execution_count": 28,
     "metadata": {},
     "output_type": "execute_result"
    }
   ],
   "source": [
    "task = Task(\"Learn Python\")\n",
    "task"
   ]
  },
  {
   "cell_type": "code",
   "execution_count": 29,
   "id": "b25de4f6",
   "metadata": {},
   "outputs": [],
   "source": [
    "task.add_comment(\"Good luck!\")  # good"
   ]
  },
  {
   "cell_type": "code",
   "execution_count": 30,
   "id": "2b8cbec2",
   "metadata": {},
   "outputs": [],
   "source": [
    "task._comments.append(\"Good luck!\")  # wrong"
   ]
  },
  {
   "cell_type": "code",
   "execution_count": 31,
   "id": "cf9efcd0-fe96-44cd-ad9f-f7742c0ed3ae",
   "metadata": {},
   "outputs": [
    {
     "data": {
      "text/plain": [
       "['Good luck!', 'Good luck!']"
      ]
     },
     "execution_count": 31,
     "metadata": {},
     "output_type": "execute_result"
    }
   ],
   "source": [
    "task._comments"
   ]
  },
  {
   "cell_type": "markdown",
   "id": "868a1f96-46de-4be3-acb1-c15d94a4563c",
   "metadata": {},
   "source": [
    "dunder - **d**ouble **under**score"
   ]
  },
  {
   "cell_type": "markdown",
   "id": "02bfa7cd",
   "metadata": {},
   "source": [
    "**Hermetyzacja – podsumowanie:**\n",
    "\n",
    "Wyróżniamy następujące poziomy dostępu:\n",
    "- publiczny (*public*) - do atrybutu/metody można dostać się z dowolnego miejsca\n",
    "- chroniony (*protected*) - do atrybutu/metody można dostać się tylko w danej klasie oraz klasach dziedziczących. Używamy przedrostka \"_\"\n",
    "- prywatny (*private*) - do atrybutu/metody można dostać się tylko w danej klasie. Używamy przedrostka \"__\""
   ]
  },
  {
   "cell_type": "markdown",
   "id": "608df57d",
   "metadata": {},
   "source": [
    "## `staticmethod`, `classmethod`, `property`\n",
    "### `staticmethod`\n",
    "\n",
    "Metoda statyczna to taka, która nie używa `self`. Skoro go nie używa, to nie ma sensu umieszczać go wśród parametrów. \n",
    "\n",
    "Taką metodę należy oznaczyć dekoratorem `@staticmethod`."
   ]
  },
  {
   "cell_type": "code",
   "execution_count": 45,
   "id": "040d7dd1",
   "metadata": {},
   "outputs": [],
   "source": [
    "class Task:\n",
    "    def __init__(self, text, assignee=None, tags=[]):\n",
    "        self.description = text\n",
    "        self.assignee = assignee\n",
    "        self.tags = tags\n",
    "        self.comments = []\n",
    "        \n",
    "    def modify_description(self, new_description):\n",
    "        if self.validate_description(new_description):\n",
    "            self.description = new_description\n",
    "        else:\n",
    "            raise TypeError(\"Task description should be a string\")\n",
    "            \n",
    "    @staticmethod\n",
    "    def validate_description(text):\n",
    "        if isinstance(text, str):\n",
    "            return True\n",
    "        else:\n",
    "            return False"
   ]
  },
  {
   "cell_type": "code",
   "execution_count": 46,
   "id": "03b46fca-26a9-4758-af77-c66c782465f0",
   "metadata": {},
   "outputs": [
    {
     "data": {
      "text/plain": [
       "True"
      ]
     },
     "execution_count": 46,
     "metadata": {},
     "output_type": "execute_result"
    }
   ],
   "source": [
    "Task.validate_description(\"test\")"
   ]
  },
  {
   "cell_type": "code",
   "execution_count": 33,
   "id": "6009ae4c",
   "metadata": {},
   "outputs": [],
   "source": [
    "task = Task(\"Learn Python\")"
   ]
  },
  {
   "cell_type": "code",
   "execution_count": 34,
   "id": "37a54665",
   "metadata": {},
   "outputs": [
    {
     "data": {
      "text/plain": [
       "'Learn Python'"
      ]
     },
     "execution_count": 34,
     "metadata": {},
     "output_type": "execute_result"
    }
   ],
   "source": [
    "task.description"
   ]
  },
  {
   "cell_type": "code",
   "execution_count": 35,
   "id": "99d721dc",
   "metadata": {},
   "outputs": [],
   "source": [
    "task.modify_description(\"Practice Python\")"
   ]
  },
  {
   "cell_type": "code",
   "execution_count": 36,
   "id": "1ecce76b",
   "metadata": {},
   "outputs": [
    {
     "data": {
      "text/plain": [
       "'Practice Python'"
      ]
     },
     "execution_count": 36,
     "metadata": {},
     "output_type": "execute_result"
    }
   ],
   "source": [
    "task.description"
   ]
  },
  {
   "cell_type": "code",
   "execution_count": 37,
   "id": "bb819d4a",
   "metadata": {},
   "outputs": [
    {
     "ename": "TypeError",
     "evalue": "Task description should be a string",
     "output_type": "error",
     "traceback": [
      "\u001b[0;31m---------------------------------------------------------------------------\u001b[0m",
      "\u001b[0;31mTypeError\u001b[0m                                 Traceback (most recent call last)",
      "Cell \u001b[0;32mIn[37], line 1\u001b[0m\n\u001b[0;32m----> 1\u001b[0m task\u001b[38;5;241m.\u001b[39mmodify_description(\u001b[38;5;241m123\u001b[39m)\n",
      "Cell \u001b[0;32mIn[32], line 12\u001b[0m, in \u001b[0;36mTask.modify_description\u001b[0;34m(self, new_description)\u001b[0m\n\u001b[1;32m     10\u001b[0m     \u001b[38;5;28mself\u001b[39m\u001b[38;5;241m.\u001b[39mdescription \u001b[38;5;241m=\u001b[39m new_description\n\u001b[1;32m     11\u001b[0m \u001b[38;5;28;01melse\u001b[39;00m:\n\u001b[0;32m---> 12\u001b[0m     \u001b[38;5;28;01mraise\u001b[39;00m \u001b[38;5;167;01mTypeError\u001b[39;00m(\u001b[38;5;124m\"\u001b[39m\u001b[38;5;124mTask description should be a string\u001b[39m\u001b[38;5;124m\"\u001b[39m)\n",
      "\u001b[0;31mTypeError\u001b[0m: Task description should be a string"
     ]
    }
   ],
   "source": [
    "task.modify_description(123)"
   ]
  },
  {
   "cell_type": "markdown",
   "id": "67bd52b9",
   "metadata": {},
   "source": [
    "### `classmethod`\n",
    "\n",
    "*Classmethod* to taka metoda, która zamiast *self*, czyli referencji do obiektu używa *cls*, czyli referencji do klasy.\n",
    "\n",
    "W praktyce zwykle używamy *classmethod* jako alternatywny sposób utworzenia instancji klasy.\n",
    "\n",
    "Taką metodę należy oznaczyć dekoratorem `@classmethod`."
   ]
  },
  {
   "cell_type": "code",
   "execution_count": 38,
   "id": "638b4e49-7e69-410d-bc80-def631c3e47b",
   "metadata": {},
   "outputs": [],
   "source": [
    "from datetime import datetime"
   ]
  },
  {
   "cell_type": "code",
   "execution_count": 42,
   "id": "eaa69cd7-a2eb-4a20-b75b-e1aec7325d08",
   "metadata": {},
   "outputs": [
    {
     "data": {
      "text/plain": [
       "datetime.datetime(2014, 1, 2, 14, 0)"
      ]
     },
     "execution_count": 42,
     "metadata": {},
     "output_type": "execute_result"
    }
   ],
   "source": [
    "datetime(2014, 1, 2, 14)"
   ]
  },
  {
   "cell_type": "code",
   "execution_count": 43,
   "id": "92741544-999b-495c-a63d-1c0bb54843fd",
   "metadata": {},
   "outputs": [
    {
     "data": {
      "text/plain": [
       "datetime.datetime(2024, 9, 8, 12, 13, 22, 854919)"
      ]
     },
     "execution_count": 43,
     "metadata": {},
     "output_type": "execute_result"
    }
   ],
   "source": [
    "datetime.now()"
   ]
  },
  {
   "cell_type": "code",
   "execution_count": 48,
   "id": "7470ba44",
   "metadata": {},
   "outputs": [],
   "source": [
    "class Task:\n",
    "    def __init__(self, text, assignee=None, tags=[]):\n",
    "        self.description = text\n",
    "        self.assignee = assignee\n",
    "        self.tags = tags\n",
    "        self.comments = []\n",
    "\n",
    "    @classmethod\n",
    "    def from_dict(cls, task_dict):\n",
    "        text = task_dict.get(\"description\")\n",
    "        assignee = task_dict.get(\"assignee\")\n",
    "        tags = task_dict.get(\"tags\")\n",
    "        \n",
    "        return cls(text, assignee, tags)"
   ]
  },
  {
   "cell_type": "code",
   "execution_count": 47,
   "id": "79aeb1b6-792e-439f-aa0f-c950b9d976c0",
   "metadata": {},
   "outputs": [],
   "source": [
    "# Task(\"tekst zadania\", \"Andrzej\", ...)"
   ]
  },
  {
   "cell_type": "code",
   "execution_count": 49,
   "id": "e37ead83",
   "metadata": {},
   "outputs": [],
   "source": [
    "task_dict = {\"description\": \"Learn Python from dict\", \"assignee\": \"Andrzej\", \"tags\": []}\n",
    "\n",
    "task_from_dict = Task.from_dict(task_dict)"
   ]
  },
  {
   "cell_type": "code",
   "execution_count": 50,
   "id": "b33069ff-2e1f-4ec9-8b27-ba2befcf9fdc",
   "metadata": {},
   "outputs": [
    {
     "data": {
      "text/plain": [
       "<__main__.Task at 0x75f236bbaa10>"
      ]
     },
     "execution_count": 50,
     "metadata": {},
     "output_type": "execute_result"
    }
   ],
   "source": [
    "task_from_dict"
   ]
  },
  {
   "cell_type": "code",
   "execution_count": 51,
   "id": "7640ac06",
   "metadata": {},
   "outputs": [
    {
     "data": {
      "text/plain": [
       "'Learn Python from dict'"
      ]
     },
     "execution_count": 51,
     "metadata": {},
     "output_type": "execute_result"
    }
   ],
   "source": [
    "task_from_dict.description"
   ]
  },
  {
   "cell_type": "code",
   "execution_count": 52,
   "id": "2b8c126e",
   "metadata": {},
   "outputs": [
    {
     "data": {
      "text/plain": [
       "('Andrzej', [], [])"
      ]
     },
     "execution_count": 52,
     "metadata": {},
     "output_type": "execute_result"
    }
   ],
   "source": [
    "task_from_dict.assignee, task_from_dict.tags, task_from_dict.comments"
   ]
  },
  {
   "cell_type": "markdown",
   "id": "a50b11fd-866b-41ec-a93f-3e1189c865b6",
   "metadata": {},
   "source": [
    "### `property`\n",
    "\n",
    "Metoda, której używamy jak atrybutu."
   ]
  },
  {
   "cell_type": "code",
   "execution_count": 53,
   "id": "a2a7e377-d236-4ddb-8790-d249b5254dfc",
   "metadata": {},
   "outputs": [],
   "source": [
    "import pandas as pd"
   ]
  },
  {
   "cell_type": "code",
   "execution_count": 56,
   "id": "577296b0-8355-4b3b-a71f-8581ef1be16a",
   "metadata": {},
   "outputs": [
    {
     "data": {
      "text/html": [
       "<div>\n",
       "<style scoped>\n",
       "    .dataframe tbody tr th:only-of-type {\n",
       "        vertical-align: middle;\n",
       "    }\n",
       "\n",
       "    .dataframe tbody tr th {\n",
       "        vertical-align: top;\n",
       "    }\n",
       "\n",
       "    .dataframe thead th {\n",
       "        text-align: right;\n",
       "    }\n",
       "</style>\n",
       "<table border=\"1\" class=\"dataframe\">\n",
       "  <thead>\n",
       "    <tr style=\"text-align: right;\">\n",
       "      <th></th>\n",
       "      <th>a</th>\n",
       "      <th>b</th>\n",
       "    </tr>\n",
       "  </thead>\n",
       "  <tbody>\n",
       "    <tr>\n",
       "      <th>0</th>\n",
       "      <td>1</td>\n",
       "      <td>2</td>\n",
       "    </tr>\n",
       "    <tr>\n",
       "      <th>1</th>\n",
       "      <td>2</td>\n",
       "      <td>3</td>\n",
       "    </tr>\n",
       "  </tbody>\n",
       "</table>\n",
       "</div>"
      ],
      "text/plain": [
       "   a  b\n",
       "0  1  2\n",
       "1  2  3"
      ]
     },
     "execution_count": 56,
     "metadata": {},
     "output_type": "execute_result"
    }
   ],
   "source": [
    "df = pd.DataFrame({\"a\": [1, 2], \"b\": [2, 3]})\n",
    "df"
   ]
  },
  {
   "cell_type": "code",
   "execution_count": 57,
   "id": "1a0cd171-8857-45ee-b04f-66e0a04ef530",
   "metadata": {},
   "outputs": [
    {
     "data": {
      "text/plain": [
       "(2, 2)"
      ]
     },
     "execution_count": 57,
     "metadata": {},
     "output_type": "execute_result"
    }
   ],
   "source": [
    "df.shape"
   ]
  },
  {
   "cell_type": "code",
   "execution_count": null,
   "id": "f9f4890e-4536-4460-8e65-56f85dcb6207",
   "metadata": {},
   "outputs": [],
   "source": []
  },
  {
   "cell_type": "code",
   "execution_count": 65,
   "id": "87fa4f3d-19b0-48f4-8826-ab1a8de6909d",
   "metadata": {},
   "outputs": [],
   "source": [
    "import time"
   ]
  },
  {
   "cell_type": "code",
   "execution_count": 66,
   "id": "f5f18554-2123-4747-aaa2-b3c414903903",
   "metadata": {},
   "outputs": [],
   "source": [
    "class Task:\n",
    "    def __init__(self, text):\n",
    "        self.description = text\n",
    "        self.comments = []\n",
    "\n",
    "    def add_comment(self, comment):\n",
    "        self.comments.append(comment)\n",
    "    \n",
    "    @property\n",
    "    def pinned_comments(self):\n",
    "        print(\"teraz sleep\")\n",
    "        time.sleep(5)\n",
    "        return [comment for comment in self.comments if comment[\"pinned\"]]"
   ]
  },
  {
   "cell_type": "code",
   "execution_count": 67,
   "id": "67c72084-895e-47bf-b638-13541efd0d60",
   "metadata": {},
   "outputs": [],
   "source": [
    "task = Task(\"Description\")"
   ]
  },
  {
   "cell_type": "code",
   "execution_count": 68,
   "id": "290775d7-f545-44b0-9632-dfdb5979206f",
   "metadata": {},
   "outputs": [],
   "source": [
    "task.add_comment({\"text\": \"Comment 1\", \"pinned\": False})\n",
    "task.add_comment({\"text\": \"Comment 2\", \"pinned\": True})\n",
    "task.add_comment({\"text\": \"Comment 3\", \"pinned\": False})\n",
    "task.add_comment({\"text\": \"Comment 4\", \"pinned\": True})"
   ]
  },
  {
   "cell_type": "code",
   "execution_count": 69,
   "id": "008d2e08-e770-43e5-9b97-980d1200c785",
   "metadata": {},
   "outputs": [
    {
     "data": {
      "text/plain": [
       "[{'text': 'Comment 1', 'pinned': False},\n",
       " {'text': 'Comment 2', 'pinned': True},\n",
       " {'text': 'Comment 3', 'pinned': False},\n",
       " {'text': 'Comment 4', 'pinned': True}]"
      ]
     },
     "execution_count": 69,
     "metadata": {},
     "output_type": "execute_result"
    }
   ],
   "source": [
    "task.comments"
   ]
  },
  {
   "cell_type": "code",
   "execution_count": 70,
   "id": "6e5049f4-2c02-41f2-9ba6-04cf7aa7f18a",
   "metadata": {},
   "outputs": [
    {
     "name": "stdout",
     "output_type": "stream",
     "text": [
      "teraz sleep\n"
     ]
    },
    {
     "data": {
      "text/plain": [
       "[{'text': 'Comment 2', 'pinned': True}, {'text': 'Comment 4', 'pinned': True}]"
      ]
     },
     "execution_count": 70,
     "metadata": {},
     "output_type": "execute_result"
    }
   ],
   "source": [
    "task.pinned_comments"
   ]
  },
  {
   "cell_type": "markdown",
   "id": "78ab2f6a-1487-4794-a2d3-cc0ab6c20175",
   "metadata": {},
   "source": [
    "**`staticmethod`, `classmethod`, `property` – podsumowanie:**\n",
    "\n",
    "- Jeżeli metoda nie odnosi się do *self* powinna być oznaczona jako metoda statyczna. Odwołujemy się do niej tak samo jak do zwykłej metody, ale dodajemy nad jej definicją dekorator `@staticmethod`\n",
    "- Jeżeli metoda odnosi się do klasy, np. w celu utworzenia jej instancji, jest to *classmethod*. Jej pierwszym parametrem powinno być `cls`\n",
    "- `property` to metoda (w ramach klasy), która działa jak atrybut (poza klasą)"
   ]
  },
  {
   "cell_type": "markdown",
   "id": "fe74cbce",
   "metadata": {},
   "source": [
    "> **ZADANIA**"
   ]
  },
  {
   "cell_type": "markdown",
   "id": "e39a1143",
   "metadata": {},
   "source": [
    "## Stringifikacja i reprezentacja\n",
    "\n",
    "Są to sposoby na tekstowe przedstawienie/zobrazowanie obiektu. \n",
    "\n",
    "**Reprezentacja** to schematyczne zarysowanie z jakim obiektem mamy do czynienia i jakie są wartości jego atrybutów. Powinna być zrozumiała dla programisty. Widzimy ją głównie w outpucie konsoli / Jupyter Notebooka.\n",
    "\n",
    "**Stringifikacja** to wersja *user-friendly*, którą powinni rozumieć również nie-programiści. Widzimy ją podczas wyprintowania lub kiedy rzutujemy na stringa.\n",
    "\n",
    "W praktyce różnica między nimi jest subtelna, umowna i często stringifikacja oraz reprezentacja wyglądają tak samo."
   ]
  },
  {
   "cell_type": "code",
   "execution_count": null,
   "id": "b551ecbc",
   "metadata": {},
   "outputs": [],
   "source": [
    "type(123)  # representation"
   ]
  },
  {
   "cell_type": "code",
   "execution_count": null,
   "id": "8ddf708d",
   "metadata": {},
   "outputs": [],
   "source": [
    "print(type(123))  # stringification"
   ]
  },
  {
   "cell_type": "code",
   "execution_count": null,
   "id": "b12434cd",
   "metadata": {},
   "outputs": [],
   "source": [
    "str(type(123))  # stringification"
   ]
  },
  {
   "cell_type": "markdown",
   "id": "075b1bc3",
   "metadata": {},
   "source": [
    "---"
   ]
  },
  {
   "cell_type": "code",
   "execution_count": null,
   "id": "fbfaf1ed",
   "metadata": {},
   "outputs": [],
   "source": [
    "class List:\n",
    "    def __init__(self, *args):\n",
    "        self.values = list(args)\n",
    "    \n",
    "    def append(self, new_item):\n",
    "        self.values += [new_item]"
   ]
  },
  {
   "cell_type": "code",
   "execution_count": null,
   "id": "0bc73afd",
   "metadata": {},
   "outputs": [],
   "source": [
    "my_list = List(3, 2, 5, 3)"
   ]
  },
  {
   "cell_type": "code",
   "execution_count": null,
   "id": "5d84243f",
   "metadata": {},
   "outputs": [],
   "source": [
    "my_list  # default representation"
   ]
  },
  {
   "cell_type": "code",
   "execution_count": null,
   "id": "3d4d97f2",
   "metadata": {},
   "outputs": [],
   "source": [
    "print(my_list)  # default stringification"
   ]
  },
  {
   "cell_type": "code",
   "execution_count": null,
   "id": "a7ce874a",
   "metadata": {},
   "outputs": [],
   "source": [
    "str(my_list)"
   ]
  },
  {
   "cell_type": "code",
   "execution_count": null,
   "id": "a4e773da",
   "metadata": {},
   "outputs": [],
   "source": [
    "my_list.values"
   ]
  },
  {
   "cell_type": "markdown",
   "id": "8c51a401",
   "metadata": {},
   "source": [
    "---"
   ]
  },
  {
   "cell_type": "code",
   "execution_count": null,
   "id": "802d57a8",
   "metadata": {},
   "outputs": [],
   "source": [
    "class List:\n",
    "    def __init__(self, *args):\n",
    "        self.values = list(args)\n",
    "    \n",
    "    def __repr__(self):\n",
    "        return \"list-repr\"\n",
    "\n",
    "    def __str__(self):\n",
    "        return \"list-str\"\n",
    "    \n",
    "    def append(self, new_item):\n",
    "        self.values += [new_item]"
   ]
  },
  {
   "cell_type": "code",
   "execution_count": null,
   "id": "ce0f47f4",
   "metadata": {},
   "outputs": [],
   "source": [
    "my_list = List(3, 2, 5, 3)"
   ]
  },
  {
   "cell_type": "code",
   "execution_count": null,
   "id": "6c4ea599",
   "metadata": {},
   "outputs": [],
   "source": [
    "my_list"
   ]
  },
  {
   "cell_type": "code",
   "execution_count": null,
   "id": "3c767948",
   "metadata": {},
   "outputs": [],
   "source": [
    "print(my_list)"
   ]
  },
  {
   "cell_type": "code",
   "execution_count": null,
   "id": "b681f491",
   "metadata": {},
   "outputs": [],
   "source": [
    "str(my_list)"
   ]
  },
  {
   "cell_type": "code",
   "execution_count": null,
   "id": "3edc6149",
   "metadata": {},
   "outputs": [],
   "source": [
    "class List:\n",
    "    def __init__(self, *args):\n",
    "        self.values = [item for item in args]\n",
    "    \n",
    "    def __repr__(self):\n",
    "        return f\"List({self.values})\"\n",
    "\n",
    "    def __str__(self):\n",
    "        return f\"{self.values}\"\n",
    "    \n",
    "    def append(self, new_item):\n",
    "        self.values += [new_item]"
   ]
  },
  {
   "cell_type": "code",
   "execution_count": null,
   "id": "b5c894da",
   "metadata": {},
   "outputs": [],
   "source": [
    "my_list = List(3, 2, 5, 3)"
   ]
  },
  {
   "cell_type": "code",
   "execution_count": null,
   "id": "7d89c592",
   "metadata": {},
   "outputs": [],
   "source": [
    "my_list"
   ]
  },
  {
   "cell_type": "code",
   "execution_count": null,
   "id": "afde03fa",
   "metadata": {},
   "outputs": [],
   "source": [
    "print(my_list)"
   ]
  },
  {
   "cell_type": "code",
   "execution_count": null,
   "id": "84f7136f",
   "metadata": {},
   "outputs": [],
   "source": [
    "str(my_list)"
   ]
  },
  {
   "cell_type": "code",
   "execution_count": null,
   "id": "2da21892",
   "metadata": {},
   "outputs": [],
   "source": [
    "str([1, 2, 3])"
   ]
  },
  {
   "cell_type": "markdown",
   "id": "0852dc5f",
   "metadata": {},
   "source": [
    "**Stringifikacja i reprezentacja – podsumowanie:**\n",
    "\n",
    "- Aby zmodyfikować domyślny sposób w jaki reprezentowane są obiekty możemy dodać do klasy metody specjalne  `__repr()__` oraz `__str()__`\n",
    "- Reprezentacja jest widoczna podczas odwołania się do obiektu w konsoli. Przedstawia ona zawartość obiektu w sposób schematyczny, często zawierając kod, który mógłby być użyty do stworzenia obiektu. Powinna być zrozumiała dla programisty\n",
    "- Stringifikacja jest widoczna podczas printowania obiektu lub rzutowania go na string. Powinna przedstawiać zawartość obiektu w sposób przyjazny dla odbiorcy końcowego"
   ]
  },
  {
   "cell_type": "markdown",
   "id": "f034b660",
   "metadata": {},
   "source": [
    "> **ZADANIA**"
   ]
  }
 ],
 "metadata": {
  "kernelspec": {
   "display_name": "Python 3 (ipykernel)",
   "language": "python",
   "name": "python3"
  },
  "language_info": {
   "codemirror_mode": {
    "name": "ipython",
    "version": 3
   },
   "file_extension": ".py",
   "mimetype": "text/x-python",
   "name": "python",
   "nbconvert_exporter": "python",
   "pygments_lexer": "ipython3",
   "version": "3.11.5"
  },
  "toc": {
   "base_numbering": 1,
   "nav_menu": {},
   "number_sections": true,
   "sideBar": true,
   "skip_h1_title": true,
   "title_cell": "Table of Contents",
   "title_sidebar": "Contents",
   "toc_cell": false,
   "toc_position": {},
   "toc_section_display": true,
   "toc_window_display": false
  },
  "varInspector": {
   "cols": {
    "lenName": 16,
    "lenType": 16,
    "lenVar": 40
   },
   "kernels_config": {
    "python": {
     "delete_cmd_postfix": "",
     "delete_cmd_prefix": "del ",
     "library": "var_list.py",
     "varRefreshCmd": "print(var_dic_list())"
    },
    "r": {
     "delete_cmd_postfix": ") ",
     "delete_cmd_prefix": "rm(",
     "library": "var_list.r",
     "varRefreshCmd": "cat(var_dic_list()) "
    }
   },
   "types_to_exclude": [
    "module",
    "function",
    "builtin_function_or_method",
    "instance",
    "_Feature"
   ],
   "window_display": false
  }
 },
 "nbformat": 4,
 "nbformat_minor": 5
}
