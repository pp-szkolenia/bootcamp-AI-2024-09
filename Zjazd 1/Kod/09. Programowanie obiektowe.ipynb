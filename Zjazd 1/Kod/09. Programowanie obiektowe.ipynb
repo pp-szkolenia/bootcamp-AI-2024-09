{
 "cells": [
  {
   "cell_type": "markdown",
   "id": "3ed060a9",
   "metadata": {},
   "source": [
    "# Programowanie obiektowe\n",
    "## Klasa oraz obiekt\n",
    "\n",
    "1. **Klasa** to pojęcie bardzo zbliżone do **typu**. W praktyce można je ze sobą utożsamić. Typy wbudowane takie jak `int`, `str` czy `list` są zdefiniowane poprzez klasy.\n",
    "2. Klasa jest **ogólnym** i abstrakcyjnym **opisem** własności oraz działań jakie mogą być wykonywane na przedstawicielach tej klasy.\n",
    "3. Przedstawicieli klasy nazywamy jej **instancjami** lub **obiektami**.\n",
    "4. Parametry opisujące obiekty nazywamy ich **atrybutami**. Działania, jakie możemy wykonywać na obiektach to **metody**.\n",
    "\n",
    "---\n",
    "\n",
    "Programowanie zorientowane obiektowo (*Object Oriented Programming*) to jeden z paradygmatów w programowaniu. Ze względu na swoją specifykę pozwala on na przejrzystą implementację bardziej abstrakcyjnych mechanizmów niż w podejściu proceduralnym.\n",
    "\n",
    "Proste abstrakcje możemy modelować za pomocą struktur danych - list czy słowników. Jednak bardziej zaawansowane obiekty wygodniej będzie reprezentować przy pomocy własnych klas."
   ]
  },
  {
   "cell_type": "code",
   "execution_count": null,
   "id": "e0dc3473",
   "metadata": {},
   "outputs": [],
   "source": [
    "print(type(1))"
   ]
  },
  {
   "cell_type": "code",
   "execution_count": null,
   "id": "9afe8dd2",
   "metadata": {},
   "outputs": [],
   "source": [
    "print(type(int))"
   ]
  },
  {
   "cell_type": "markdown",
   "id": "eb14a487",
   "metadata": {},
   "source": [
    "---"
   ]
  },
  {
   "cell_type": "code",
   "execution_count": null,
   "id": "0347871d",
   "metadata": {},
   "outputs": [],
   "source": [
    "str  # str class"
   ]
  },
  {
   "cell_type": "code",
   "execution_count": null,
   "id": "a8edd1ca",
   "metadata": {
    "scrolled": true
   },
   "outputs": [],
   "source": [
    "\"hello\"  #  string object (instance of str class)"
   ]
  },
  {
   "cell_type": "code",
   "execution_count": null,
   "id": "92f7ee26",
   "metadata": {},
   "outputs": [],
   "source": [
    "\"hello\".upper()  # method of str class"
   ]
  },
  {
   "cell_type": "markdown",
   "id": "33792ee6",
   "metadata": {},
   "source": [
    "Korzystanie z klas (czyli *programowanie zorientowane obiektowo*) pozwala zamknać wszystkie funkcjonalności dotyczące danego typu obiektów w jednym kawałku kodu. Od nas zależy co będziemy modelować za pomocą klas, a co nie.\n",
    "\n",
    "\n",
    "**Przykłady wykorzystania klas:**\n",
    "\n",
    "1. Software do projektowania modeli graficznych\n",
    "\n",
    "Poszczególne kształty będą definiowane jako klasy. Np. kwadrat może posiadać atrybut \"długość boku\" oraz metody \"policz pole powierzchni\" albo \"policz obwód\".\n",
    "\n",
    "W razie potrzeby można dodać kolejne funkcjonalności, np. kolor (atrybut) czy przesuwanie w przestrzeni (metoda)."
   ]
  },
  {
   "cell_type": "markdown",
   "id": "283ffbc3",
   "metadata": {},
   "source": [
    "---"
   ]
  },
  {
   "cell_type": "markdown",
   "id": "29ae48e4",
   "metadata": {},
   "source": [
    "2. Portale społecznościowe\n",
    "\n",
    "Użytkownik takiego portalu będzie instancją klasy `User`. Jego atrybutami będą: imię, nazwisko, adres e-mail, liczba znajomych itp. a metodami np. zaproś do znajomych, zmień adres e-mail czy napisz post."
   ]
  },
  {
   "cell_type": "markdown",
   "id": "cfea40f2",
   "metadata": {},
   "source": [
    "---"
   ]
  },
  {
   "cell_type": "markdown",
   "id": "c0f08014",
   "metadata": {},
   "source": [
    "3. Aplikacja okienkowa z graficznym interfejsem\n",
    "\n",
    "Okno takiej aplikacji może być instancją odpowiedniej klasy. Jego atrybuty to m.in.: wysokość, szerokość, położenie lewego górnego rogu. Metodami tej klasy będzie: minimalizacja okna, zmiana wyokości/szerokości, zamknięcie okna."
   ]
  },
  {
   "cell_type": "markdown",
   "id": "659aba08",
   "metadata": {},
   "source": [
    "**Klasa i obiekt – podsumowanie:**\n",
    "\n",
    "- Klasa jest implementacją typu danych\n",
    "- Składa się z atrybutów (parametrów opisujących obiekt) oraz metod (funkcji, które możemy wywołać na obiekcie)\n",
    "- Programowanie zorientowane obiektowo jest jednym z podstawowych paradygmatów programowania"
   ]
  },
  {
   "cell_type": "markdown",
   "id": "83d3593e",
   "metadata": {},
   "source": [
    "## Definicja klasy (konstruktor, atrybuty, metody)\n",
    "\n",
    "### Przykład 1: Kształty"
   ]
  },
  {
   "cell_type": "code",
   "execution_count": null,
   "id": "d345a853",
   "metadata": {},
   "outputs": [],
   "source": [
    "class Square:\n",
    "    def __init__(self, side_length):\n",
    "        self.side_length = side_length"
   ]
  },
  {
   "cell_type": "code",
   "execution_count": null,
   "id": "90482e03",
   "metadata": {},
   "outputs": [],
   "source": [
    "my_square = Square(5)\n",
    "\n",
    "type(my_square)"
   ]
  },
  {
   "cell_type": "code",
   "execution_count": null,
   "id": "0f09d560",
   "metadata": {},
   "outputs": [],
   "source": [
    "type(type(my_square))"
   ]
  },
  {
   "cell_type": "code",
   "execution_count": null,
   "id": "cd95dbcd",
   "metadata": {},
   "outputs": [],
   "source": [
    "my_square.side_length"
   ]
  },
  {
   "cell_type": "markdown",
   "id": "cf444bd6",
   "metadata": {},
   "source": [
    "---"
   ]
  },
  {
   "cell_type": "code",
   "execution_count": null,
   "id": "0e7e20ae",
   "metadata": {},
   "outputs": [],
   "source": [
    "class Square:\n",
    "    def __init__(self, side_length, color):\n",
    "        self.side_length = side_length\n",
    "        self.color = color\n",
    "    \n",
    "    def calculate_area(self):\n",
    "        return self.side_length ** 2\n",
    "    \n",
    "    def calculate_perimeter(self):\n",
    "        return self.side_length * 4"
   ]
  },
  {
   "cell_type": "code",
   "execution_count": null,
   "id": "d6c421ff",
   "metadata": {},
   "outputs": [],
   "source": [
    "my_square = Square(5, \"blue\")\n",
    "my_square.color"
   ]
  },
  {
   "cell_type": "code",
   "execution_count": null,
   "id": "e0760859",
   "metadata": {},
   "outputs": [],
   "source": [
    "my_square.side_length"
   ]
  },
  {
   "cell_type": "code",
   "execution_count": null,
   "id": "094520b4",
   "metadata": {},
   "outputs": [],
   "source": [
    "my_square.calculate_area()"
   ]
  },
  {
   "cell_type": "code",
   "execution_count": null,
   "id": "3498bad5",
   "metadata": {},
   "outputs": [],
   "source": [
    "my_square.calculate_perimeter()"
   ]
  },
  {
   "cell_type": "markdown",
   "id": "28cee276",
   "metadata": {},
   "source": [
    "---"
   ]
  },
  {
   "cell_type": "code",
   "execution_count": null,
   "id": "d2b2e989",
   "metadata": {},
   "outputs": [],
   "source": [
    "class Rectangle:\n",
    "    def __init__(self, a, b):\n",
    "        self.width = a\n",
    "        self.height = b\n",
    "    \n",
    "    def calculate_area(self):\n",
    "        return self.width * self.height\n",
    "    \n",
    "    def calculate_perimeter(self):\n",
    "        return 2 * (self.width + self.height)"
   ]
  },
  {
   "cell_type": "code",
   "execution_count": null,
   "id": "f6263086",
   "metadata": {},
   "outputs": [],
   "source": [
    "my_rectangle = Rectangle(3, 5)"
   ]
  },
  {
   "cell_type": "code",
   "execution_count": null,
   "id": "326492e1",
   "metadata": {},
   "outputs": [],
   "source": [
    "my_rectangle.width, my_rectangle.height"
   ]
  },
  {
   "cell_type": "code",
   "execution_count": null,
   "id": "6a349e5e",
   "metadata": {},
   "outputs": [],
   "source": [
    "my_rectangle.calculate_area()"
   ]
  },
  {
   "cell_type": "code",
   "execution_count": null,
   "id": "5ecde021",
   "metadata": {},
   "outputs": [],
   "source": [
    "my_rectangle.calculate_perimeter()"
   ]
  },
  {
   "cell_type": "markdown",
   "id": "531e4237",
   "metadata": {},
   "source": [
    "---"
   ]
  },
  {
   "cell_type": "code",
   "execution_count": null,
   "id": "c34937f3",
   "metadata": {},
   "outputs": [],
   "source": [
    "class Rectangle:\n",
    "    def __init__(self, a, b):\n",
    "        self.width = a\n",
    "        self.height = b\n",
    "    \n",
    "    def calculate_area(self):\n",
    "        return self.width * self.height\n",
    "\n",
    "    def calculate_perimeter(self):\n",
    "        return 2 * (self.width + self.height)\n",
    "\n",
    "    def modify_dimensions(self, new_width=None, new_height=None):\n",
    "        if new_width:\n",
    "            self.width = new_width\n",
    "        \n",
    "        if new_height:\n",
    "            self.height = new_height"
   ]
  },
  {
   "cell_type": "code",
   "execution_count": null,
   "id": "b2aac964",
   "metadata": {},
   "outputs": [],
   "source": [
    "my_rectangle = Rectangle(3, 5)\n",
    "\n",
    "my_rectangle.width, my_rectangle.height"
   ]
  },
  {
   "cell_type": "code",
   "execution_count": null,
   "id": "f530348b",
   "metadata": {},
   "outputs": [],
   "source": [
    "my_rectangle.modify_dimensions(new_height=2)"
   ]
  },
  {
   "cell_type": "code",
   "execution_count": null,
   "id": "20baff8a",
   "metadata": {},
   "outputs": [],
   "source": [
    "my_rectangle.width, my_rectangle.height"
   ]
  },
  {
   "cell_type": "markdown",
   "id": "5e35d450",
   "metadata": {},
   "source": [
    "---"
   ]
  },
  {
   "cell_type": "code",
   "execution_count": null,
   "id": "cb12d43c",
   "metadata": {},
   "outputs": [],
   "source": [
    "class Circle:\n",
    "    PI = 3.1415926  # class attribute\n",
    "\n",
    "    def __init__(self, r):\n",
    "        self.radius = r\n",
    "        \n",
    "    def calculate_area(self):\n",
    "        return self.PI * self.radius ** 2\n",
    "    \n",
    "    def calculate_circumference(self):\n",
    "        return 2 * self.PI * self.radius"
   ]
  },
  {
   "cell_type": "code",
   "execution_count": null,
   "id": "2860b9ea",
   "metadata": {},
   "outputs": [],
   "source": [
    "my_circle = Circle(10)\n",
    "my_circle.radius"
   ]
  },
  {
   "cell_type": "code",
   "execution_count": null,
   "id": "5a4e531e",
   "metadata": {},
   "outputs": [],
   "source": [
    "my_circle.PI"
   ]
  },
  {
   "cell_type": "code",
   "execution_count": null,
   "id": "9b30b3d2",
   "metadata": {},
   "outputs": [],
   "source": [
    "my_circle.calculate_area()"
   ]
  },
  {
   "cell_type": "code",
   "execution_count": null,
   "id": "cfe7b70a",
   "metadata": {},
   "outputs": [],
   "source": [
    "my_circle.calculate_circumference()"
   ]
  },
  {
   "cell_type": "markdown",
   "id": "d5f5b32d",
   "metadata": {},
   "source": [
    "> **ZADANIA**"
   ]
  },
  {
   "cell_type": "markdown",
   "id": "023d3fa8",
   "metadata": {},
   "source": [
    "### Przykład 2: task manager"
   ]
  },
  {
   "cell_type": "code",
   "execution_count": null,
   "id": "ce4660e9",
   "metadata": {},
   "outputs": [],
   "source": [
    "class Task:\n",
    "    def __init__(self, text, assignee=None, tags=[]):\n",
    "        self.description = text\n",
    "        self.assignee = assignee\n",
    "        self.tags = tags\n",
    "        self.comments = []  # why not in parameters?"
   ]
  },
  {
   "cell_type": "code",
   "execution_count": null,
   "id": "bae3616b",
   "metadata": {},
   "outputs": [],
   "source": [
    "task_description = \"Learn Python\"\n",
    "task_assignee = \"Andrzej\"\n",
    "\n",
    "task = Task(task_description, task_assignee)"
   ]
  },
  {
   "cell_type": "code",
   "execution_count": null,
   "id": "be70b54b",
   "metadata": {},
   "outputs": [],
   "source": [
    "task.description"
   ]
  },
  {
   "cell_type": "code",
   "execution_count": null,
   "id": "6a470667",
   "metadata": {},
   "outputs": [],
   "source": [
    "task.assignee"
   ]
  },
  {
   "cell_type": "code",
   "execution_count": null,
   "id": "eb52cd69",
   "metadata": {},
   "outputs": [],
   "source": [
    "task.tags"
   ]
  },
  {
   "cell_type": "code",
   "execution_count": null,
   "id": "4036fde7",
   "metadata": {},
   "outputs": [],
   "source": [
    "task.comments"
   ]
  },
  {
   "cell_type": "markdown",
   "id": "7183a37b",
   "metadata": {},
   "source": [
    "---"
   ]
  },
  {
   "cell_type": "code",
   "execution_count": null,
   "id": "dd8a21ac",
   "metadata": {},
   "outputs": [],
   "source": [
    "class Task:\n",
    "    def __init__(self, text, assignee=None, tags=[]):\n",
    "        self.description = text\n",
    "        self.assignee = assignee\n",
    "        self.tags = tags\n",
    "        self.comments = []\n",
    "        \n",
    "    def modify_description(self, new_description):\n",
    "        self.description = new_description\n",
    "        \n",
    "    def add_comment(self, comment):\n",
    "        self.comments.append(comment)"
   ]
  },
  {
   "cell_type": "code",
   "execution_count": null,
   "id": "8ed412ad",
   "metadata": {},
   "outputs": [],
   "source": [
    "task_text = \"Learn Python\"\n",
    "task_assignee = \"Andrzej\"\n",
    "\n",
    "task = Task(task_text, task_assignee)"
   ]
  },
  {
   "cell_type": "code",
   "execution_count": null,
   "id": "01a11879",
   "metadata": {},
   "outputs": [],
   "source": [
    "task.description"
   ]
  },
  {
   "cell_type": "code",
   "execution_count": null,
   "id": "31c0ce65",
   "metadata": {},
   "outputs": [],
   "source": [
    "task.modify_description(\"Practice Python\")\n",
    "task.description"
   ]
  },
  {
   "cell_type": "code",
   "execution_count": null,
   "id": "7dae51af",
   "metadata": {},
   "outputs": [],
   "source": [
    "task.comments"
   ]
  },
  {
   "cell_type": "code",
   "execution_count": null,
   "id": "d2d64665",
   "metadata": {},
   "outputs": [],
   "source": [
    "my_comment = {\n",
    "    \"author\": \"Andżela\",\n",
    "    \"text\": \"Good luck!\"\n",
    "}\n",
    "\n",
    "\n",
    "task.add_comment(my_comment)"
   ]
  },
  {
   "cell_type": "code",
   "execution_count": null,
   "id": "a5de4c21",
   "metadata": {},
   "outputs": [],
   "source": [
    "task.comments"
   ]
  },
  {
   "cell_type": "markdown",
   "id": "9d6fbe4a",
   "metadata": {},
   "source": [
    "**Definicja klasy – podsumowanie:**\n",
    "\n",
    "- Nazwa klasy powinna zaczynać się od wielkiej litery\n",
    "- Klasy prawie zawsze posiadają metodę inicjalizacyjną, która zawiera zestaw instrukcji, jakie zostają wykonane po utworzeniu obiektu. Przede wszystkim są tam przypisywane wartości do atrybutów\n",
    "- Aby odwołać się do atrybutu lub metody obiektu poza klasą, należy użyć zapisu `<object_name>.<attr_or_method_name>`\n",
    "- Aby odwołać się do atrybutu lub metody obiektu wewnątrz klasy, należy użyć zapisu `self.<attr_or_method_name>`"
   ]
  },
  {
   "cell_type": "markdown",
   "id": "fcd4e69e",
   "metadata": {},
   "source": [
    "> **ZADANIA**"
   ]
  },
  {
   "cell_type": "markdown",
   "id": "51ab2718",
   "metadata": {},
   "source": [
    "## Dziedziczenie\n",
    "\n",
    "Jeżeli chcemy stworzyć wiele klas, które mają pewną część wspólną, możemy wykorzystać **mechanizm dziedziczenia**.\n",
    "\n",
    "Jest to szczególnie przydatne kiedy pewna klasa rozszerza funkcjonalności innej. Przykład - `User` i `Admin`. Każdy admin jest userem, ale ma pewne dodatkowe możliwości. W takim wypadku możemy stworzyć klasę `User`, a następnie `Admin`, który będzie dziedziczyć po `User`."
   ]
  },
  {
   "cell_type": "code",
   "execution_count": null,
   "id": "d998ae28",
   "metadata": {},
   "outputs": [],
   "source": [
    "class Vehicle:\n",
    "    def __init__(self, color, weight, mileage):\n",
    "        self.color = color\n",
    "        self.weight = weight\n",
    "        self.mileage = mileage\n",
    "        \n",
    "    def ride(self, distance):\n",
    "        self.mileage += distance"
   ]
  },
  {
   "cell_type": "code",
   "execution_count": null,
   "id": "388dddcf",
   "metadata": {},
   "outputs": [],
   "source": [
    "v = Vehicle(\"red\", 100, 0)\n",
    "v"
   ]
  },
  {
   "cell_type": "code",
   "execution_count": null,
   "id": "1940e566",
   "metadata": {},
   "outputs": [],
   "source": [
    "print(v.color)\n",
    "print(v.weight)"
   ]
  },
  {
   "cell_type": "code",
   "execution_count": null,
   "id": "f211f7a6",
   "metadata": {},
   "outputs": [],
   "source": [
    "print(v.mileage)\n",
    "\n",
    "v.ride(100)\n",
    "\n",
    "print(v.mileage)"
   ]
  },
  {
   "cell_type": "markdown",
   "id": "dcac4d51",
   "metadata": {},
   "source": [
    "---"
   ]
  },
  {
   "cell_type": "code",
   "execution_count": null,
   "id": "3cfb9a79",
   "metadata": {},
   "outputs": [],
   "source": [
    "class Car(Vehicle):\n",
    "    def __init__(self, color, weight, mileage):\n",
    "        super().__init__(color, weight, mileage)\n",
    "\n",
    "        # Vehicle.__init__(self, color, weight, mileage)  # another way"
   ]
  },
  {
   "cell_type": "code",
   "execution_count": null,
   "id": "595ee2eb",
   "metadata": {},
   "outputs": [],
   "source": [
    "c = Car(\"blue\", 1000, 0)\n",
    "c"
   ]
  },
  {
   "cell_type": "code",
   "execution_count": null,
   "id": "490ff5e2",
   "metadata": {},
   "outputs": [],
   "source": [
    "print(c.color)\n",
    "print(c.weight)\n",
    "print(c.mileage)"
   ]
  },
  {
   "cell_type": "code",
   "execution_count": null,
   "id": "685134ff",
   "metadata": {},
   "outputs": [],
   "source": [
    "c.ride(100)\n",
    "print(c.mileage)"
   ]
  },
  {
   "cell_type": "markdown",
   "id": "81e7049c",
   "metadata": {},
   "source": [
    "---"
   ]
  },
  {
   "cell_type": "code",
   "execution_count": null,
   "id": "4ee76aed",
   "metadata": {},
   "outputs": [],
   "source": [
    "class Car(Vehicle):\n",
    "    def __init__(self, color, weight, mileage, fuel_amount, n_of_wheels=4):\n",
    "        super().__init__(color, weight, mileage)\n",
    "        self.fuel_amount = fuel_amount\n",
    "        self.n_of_wheels = n_of_wheels\n",
    "    \n",
    "    def refuel(self, amount):\n",
    "        self.fuel_amount += amount\n",
    "        \n",
    "        \n",
    "\n",
    "c = Car(\"white\", 1200, 50, 30)"
   ]
  },
  {
   "cell_type": "code",
   "execution_count": null,
   "id": "d935cd48",
   "metadata": {},
   "outputs": [],
   "source": [
    "print(c.color)\n",
    "print(c.weight)\n",
    "print(c.mileage)\n",
    "print(c.fuel_amount)\n",
    "print(c.n_of_wheels)"
   ]
  },
  {
   "cell_type": "code",
   "execution_count": null,
   "id": "c2302c67",
   "metadata": {},
   "outputs": [],
   "source": [
    "c.refuel(40)\n",
    "print(c.fuel_amount)"
   ]
  },
  {
   "cell_type": "markdown",
   "id": "dfe20f22",
   "metadata": {},
   "source": [
    "**Dziedziczenie – podsumowanie:**\n",
    "\n",
    "- Jeśli tworzymy kilka klas, które współdzielą część atrybutów albo metod, możemy utworzyć klasę bazową oraz jedną lub więcej klas dziedziczących po niej\n",
    "- Klasy dziedziczące przejmują wszystkie atrybuty oraz metody klasy bazowej, a także mogą posiadać własne"
   ]
  },
  {
   "cell_type": "markdown",
   "id": "f4786298",
   "metadata": {},
   "source": [
    "> **ZADANIA**"
   ]
  },
  {
   "cell_type": "markdown",
   "id": "48927261",
   "metadata": {},
   "source": [
    "## Hermetyzacja - metody (atrybuty) publiczne vs. chronione vs. prywatne\n",
    "\n",
    "\n",
    "Nie wszystkie atrybuty czy metody mogą (powinny) być używane na zewnątrz klasy. Niektóre z nich są dozwolone do użytku tylko w obrębie definicji klasy. Nazywamy to **hermetyzacją**.\n",
    "\n",
    "W Pythonie jednak **nie występuje** prawdziwa hermetyzacja. W rzeczywistości poza klasą mamy dostęp do wszystkich atrybutów i metod.\n",
    "\n",
    "---\n",
    "Istnieje jednak reguła mówiąca, że **nazwy zaczynające się od _** są chronione, czyli mogą być używane wyłącznie **wewnątrz klasy** i w **klasach dziedziczących**.\n",
    "\n",
    "**Nazwy zaczynające się od __** są prywatne, czyli mogą być używane **wyłącznie wewnątrz klasy.**"
   ]
  },
  {
   "cell_type": "code",
   "execution_count": null,
   "id": "c73fd78a",
   "metadata": {},
   "outputs": [],
   "source": [
    "class Task:\n",
    "    def __init__(self, text, assignee=None, tags=[]):\n",
    "        self.description = text\n",
    "        self.assignee = assignee\n",
    "        self.tags = tags\n",
    "        self._comments = []  # 'comments' attribute is protected\n",
    "        \n",
    "    def modify_description(self, new_description):\n",
    "        self.description = new_description\n",
    "        \n",
    "    def add_comment(self, comment):\n",
    "        self._comments.append(comment)"
   ]
  },
  {
   "cell_type": "code",
   "execution_count": null,
   "id": "dc3380c0",
   "metadata": {},
   "outputs": [],
   "source": [
    "task = Task(\"Learn Python\")\n",
    "task"
   ]
  },
  {
   "cell_type": "code",
   "execution_count": null,
   "id": "b25de4f6",
   "metadata": {},
   "outputs": [],
   "source": [
    "task.add_comment(\"Good luck!\")  # good"
   ]
  },
  {
   "cell_type": "code",
   "execution_count": null,
   "id": "2b8cbec2",
   "metadata": {},
   "outputs": [],
   "source": [
    "task._comments.append(\"Good luck!\")  # wrong"
   ]
  },
  {
   "cell_type": "markdown",
   "id": "02bfa7cd",
   "metadata": {},
   "source": [
    "**Hermetyzacja – podsumowanie:**\n",
    "\n",
    "Wyróżniamy następujące poziomy dostępu:\n",
    "- publiczny (*public*) - do atrybutu/metody można dostać się z dowolnego miejsca\n",
    "- chroniony (*protected*) - do atrybutu/metody można dostać się tylko w danej klasie oraz klasach dziedziczących. Używamy przedrostka \"_\"\n",
    "- prywatny (*private*) - do atrybutu/metody można dostać się tylko w danej klasie. Używamy przedrostka \"__\""
   ]
  },
  {
   "cell_type": "markdown",
   "id": "608df57d",
   "metadata": {},
   "source": [
    "## `staticmethod`, `classmethod`, `property`\n",
    "### `staticmethod`\n",
    "\n",
    "Metoda statyczna to taka, która nie używa `self`. Skoro go nie używa, to nie ma sensu umieszczać go wśród parametrów. \n",
    "\n",
    "Taką metodę należy oznaczyć dekoratorem `@staticmethod`."
   ]
  },
  {
   "cell_type": "code",
   "execution_count": null,
   "id": "040d7dd1",
   "metadata": {},
   "outputs": [],
   "source": [
    "class Task:\n",
    "    def __init__(self, text, assignee=None, tags=[]):\n",
    "        self.description = text\n",
    "        self.assignee = assignee\n",
    "        self.tags = tags\n",
    "        self.comments = []\n",
    "        \n",
    "    def modify_description(self, new_description):\n",
    "        if self.validate_description(new_description):\n",
    "            self.description = new_description\n",
    "        else:\n",
    "            raise TypeError(\"Task description should be a string\")\n",
    "            \n",
    "    @staticmethod\n",
    "    def validate_description(text):\n",
    "        if isinstance(text, str):\n",
    "            return True\n",
    "        else:\n",
    "            return False"
   ]
  },
  {
   "cell_type": "code",
   "execution_count": null,
   "id": "6009ae4c",
   "metadata": {},
   "outputs": [],
   "source": [
    "task = Task(\"Learn Python\")"
   ]
  },
  {
   "cell_type": "code",
   "execution_count": null,
   "id": "37a54665",
   "metadata": {},
   "outputs": [],
   "source": [
    "task.description"
   ]
  },
  {
   "cell_type": "code",
   "execution_count": null,
   "id": "99d721dc",
   "metadata": {},
   "outputs": [],
   "source": [
    "task.modify_description(\"Practice Python\")"
   ]
  },
  {
   "cell_type": "code",
   "execution_count": null,
   "id": "1ecce76b",
   "metadata": {},
   "outputs": [],
   "source": [
    "task.description"
   ]
  },
  {
   "cell_type": "code",
   "execution_count": null,
   "id": "bb819d4a",
   "metadata": {},
   "outputs": [],
   "source": [
    "task.modify_description(123)"
   ]
  },
  {
   "cell_type": "markdown",
   "id": "67bd52b9",
   "metadata": {},
   "source": [
    "### `classmethod`\n",
    "\n",
    "*Classmethod* to taka metoda, która zamiast *self*, czyli referencji do obiektu używa *cls*, czyli referencji do klasy.\n",
    "\n",
    "W praktyce zwykle używamy *classmethod* jako alternatywny sposób utworzenia instancji klasy.\n",
    "\n",
    "Taką metodę należy oznaczyć dekoratorem `@classmethod`."
   ]
  },
  {
   "cell_type": "code",
   "execution_count": null,
   "id": "7470ba44",
   "metadata": {},
   "outputs": [],
   "source": [
    "class Task:\n",
    "    def __init__(self, text, assignee=None, tags=[]):\n",
    "        self.description = text\n",
    "        self.assignee = assignee\n",
    "        self.tags = tags\n",
    "        self.comments = []\n",
    "    \n",
    "    @classmethod\n",
    "    def from_dict(cls, task_dict):\n",
    "        text = task_dict.get(\"description\")\n",
    "        assignee = task_dict.get(\"assignee\")\n",
    "        tags = task_dict.get(\"tags\")\n",
    "        \n",
    "        return cls(text, assignee, tags)"
   ]
  },
  {
   "cell_type": "code",
   "execution_count": null,
   "id": "e37ead83",
   "metadata": {},
   "outputs": [],
   "source": [
    "task_dict = {\"description\": \"Learn Python from dict\", \"assignee\": \"Andrzej\", \"tags\": []}\n",
    "\n",
    "task_from_dict = Task.from_dict(task_dict)"
   ]
  },
  {
   "cell_type": "code",
   "execution_count": null,
   "id": "7640ac06",
   "metadata": {},
   "outputs": [],
   "source": [
    "task_from_dict.description"
   ]
  },
  {
   "cell_type": "code",
   "execution_count": null,
   "id": "2b8c126e",
   "metadata": {},
   "outputs": [],
   "source": [
    "task_from_dict.assignee, task_from_dict.tags, task_from_dict.comments"
   ]
  },
  {
   "cell_type": "markdown",
   "id": "a50b11fd-866b-41ec-a93f-3e1189c865b6",
   "metadata": {},
   "source": [
    "### `property`\n",
    "\n",
    "Metoda, której używamy jak atrybutu."
   ]
  },
  {
   "cell_type": "code",
   "execution_count": null,
   "id": "f5f18554-2123-4747-aaa2-b3c414903903",
   "metadata": {},
   "outputs": [],
   "source": [
    "class Task:\n",
    "    def __init__(self, text):\n",
    "        self.description = text\n",
    "        self.comments = []\n",
    "\n",
    "    def add_comment(self, comment):\n",
    "        self.comments.append(comment)\n",
    "    \n",
    "    @property\n",
    "    def pinned_comments(self):\n",
    "        return [comment for comment in self.comments if comment[\"pinned\"]]"
   ]
  },
  {
   "cell_type": "code",
   "execution_count": null,
   "id": "67c72084-895e-47bf-b638-13541efd0d60",
   "metadata": {},
   "outputs": [],
   "source": [
    "task = Task(\"Description\")"
   ]
  },
  {
   "cell_type": "code",
   "execution_count": null,
   "id": "290775d7-f545-44b0-9632-dfdb5979206f",
   "metadata": {},
   "outputs": [],
   "source": [
    "task.add_comment({\"text\": \"Comment 1\", \"pinned\": False})\n",
    "task.add_comment({\"text\": \"Comment 2\", \"pinned\": True})\n",
    "task.add_comment({\"text\": \"Comment 3\", \"pinned\": False})\n",
    "task.add_comment({\"text\": \"Comment 4\", \"pinned\": True})"
   ]
  },
  {
   "cell_type": "code",
   "execution_count": null,
   "id": "008d2e08-e770-43e5-9b97-980d1200c785",
   "metadata": {},
   "outputs": [],
   "source": [
    "task.comments"
   ]
  },
  {
   "cell_type": "code",
   "execution_count": null,
   "id": "6e5049f4-2c02-41f2-9ba6-04cf7aa7f18a",
   "metadata": {},
   "outputs": [],
   "source": [
    "task.pinned_comments"
   ]
  },
  {
   "cell_type": "markdown",
   "id": "78ab2f6a-1487-4794-a2d3-cc0ab6c20175",
   "metadata": {},
   "source": [
    "**`staticmethod`, `classmethod`, `property` – podsumowanie:**\n",
    "\n",
    "- Jeżeli metoda nie odnosi się do *self* powinna być oznaczona jako metoda statyczna. Odwołujemy się do niej tak samo jak do zwykłej metody, ale dodajemy nad jej definicją dekorator `@staticmethod`\n",
    "- Jeżeli metoda odnosi się do klasy, np. w celu utworzenia jej instancji, jest to *classmethod*. Jej pierwszym parametrem powinno być `cls`\n",
    "- `property` to metoda (w ramach klasy), która działa jak atrybut (poza klasą)"
   ]
  },
  {
   "cell_type": "markdown",
   "id": "fe74cbce",
   "metadata": {},
   "source": [
    "> **ZADANIA**"
   ]
  },
  {
   "cell_type": "markdown",
   "id": "e39a1143",
   "metadata": {},
   "source": [
    "## Stringifikacja i reprezentacja\n",
    "\n",
    "Są to sposoby na tekstowe przedstawienie/zobrazowanie obiektu. \n",
    "\n",
    "**Reprezentacja** to schematyczne zarysowanie z jakim obiektem mamy do czynienia i jakie są wartości jego atrybutów. Powinna być zrozumiała dla programisty. Widzimy ją głównie w outpucie konsoli / Jupyter Notebooka.\n",
    "\n",
    "**Stringifikacja** to wersja *user-friendly*, którą powinni rozumieć również nie-programiści. Widzimy ją podczas wyprintowania lub kiedy rzutujemy na stringa.\n",
    "\n",
    "W praktyce różnica między nimi jest subtelna, umowna i często stringifikacja oraz reprezentacja wyglądają tak samo."
   ]
  },
  {
   "cell_type": "code",
   "execution_count": null,
   "id": "b551ecbc",
   "metadata": {},
   "outputs": [],
   "source": [
    "type(123)  # representation"
   ]
  },
  {
   "cell_type": "code",
   "execution_count": null,
   "id": "8ddf708d",
   "metadata": {},
   "outputs": [],
   "source": [
    "print(type(123))  # stringification"
   ]
  },
  {
   "cell_type": "code",
   "execution_count": null,
   "id": "b12434cd",
   "metadata": {},
   "outputs": [],
   "source": [
    "str(type(123))  # stringification"
   ]
  },
  {
   "cell_type": "markdown",
   "id": "075b1bc3",
   "metadata": {},
   "source": [
    "---"
   ]
  },
  {
   "cell_type": "code",
   "execution_count": null,
   "id": "fbfaf1ed",
   "metadata": {},
   "outputs": [],
   "source": [
    "class List:\n",
    "    def __init__(self, *args):\n",
    "        self.values = list(args)\n",
    "    \n",
    "    def append(self, new_item):\n",
    "        self.values += [new_item]"
   ]
  },
  {
   "cell_type": "code",
   "execution_count": null,
   "id": "0bc73afd",
   "metadata": {},
   "outputs": [],
   "source": [
    "my_list = List(3, 2, 5, 3)"
   ]
  },
  {
   "cell_type": "code",
   "execution_count": null,
   "id": "5d84243f",
   "metadata": {},
   "outputs": [],
   "source": [
    "my_list  # default representation"
   ]
  },
  {
   "cell_type": "code",
   "execution_count": null,
   "id": "3d4d97f2",
   "metadata": {},
   "outputs": [],
   "source": [
    "print(my_list)  # default stringification"
   ]
  },
  {
   "cell_type": "code",
   "execution_count": null,
   "id": "a7ce874a",
   "metadata": {},
   "outputs": [],
   "source": [
    "str(my_list)"
   ]
  },
  {
   "cell_type": "code",
   "execution_count": null,
   "id": "a4e773da",
   "metadata": {},
   "outputs": [],
   "source": [
    "my_list.values"
   ]
  },
  {
   "cell_type": "markdown",
   "id": "8c51a401",
   "metadata": {},
   "source": [
    "---"
   ]
  },
  {
   "cell_type": "code",
   "execution_count": null,
   "id": "802d57a8",
   "metadata": {},
   "outputs": [],
   "source": [
    "class List:\n",
    "    def __init__(self, *args):\n",
    "        self.values = list(args)\n",
    "    \n",
    "    def __repr__(self):\n",
    "        return \"list-repr\"\n",
    "\n",
    "    def __str__(self):\n",
    "        return \"list-str\"\n",
    "    \n",
    "    def append(self, new_item):\n",
    "        self.values += [new_item]"
   ]
  },
  {
   "cell_type": "code",
   "execution_count": null,
   "id": "ce0f47f4",
   "metadata": {},
   "outputs": [],
   "source": [
    "my_list = List(3, 2, 5, 3)"
   ]
  },
  {
   "cell_type": "code",
   "execution_count": null,
   "id": "6c4ea599",
   "metadata": {},
   "outputs": [],
   "source": [
    "my_list"
   ]
  },
  {
   "cell_type": "code",
   "execution_count": null,
   "id": "3c767948",
   "metadata": {},
   "outputs": [],
   "source": [
    "print(my_list)"
   ]
  },
  {
   "cell_type": "code",
   "execution_count": null,
   "id": "b681f491",
   "metadata": {},
   "outputs": [],
   "source": [
    "str(my_list)"
   ]
  },
  {
   "cell_type": "code",
   "execution_count": null,
   "id": "3edc6149",
   "metadata": {},
   "outputs": [],
   "source": [
    "class List:\n",
    "    def __init__(self, *args):\n",
    "        self.values = [item for item in args]\n",
    "    \n",
    "    def __repr__(self):\n",
    "        return f\"List({self.values})\"\n",
    "\n",
    "    def __str__(self):\n",
    "        return f\"{self.values}\"\n",
    "    \n",
    "    def append(self, new_item):\n",
    "        self.values += [new_item]"
   ]
  },
  {
   "cell_type": "code",
   "execution_count": null,
   "id": "b5c894da",
   "metadata": {},
   "outputs": [],
   "source": [
    "my_list = List(3, 2, 5, 3)"
   ]
  },
  {
   "cell_type": "code",
   "execution_count": null,
   "id": "7d89c592",
   "metadata": {},
   "outputs": [],
   "source": [
    "my_list"
   ]
  },
  {
   "cell_type": "code",
   "execution_count": null,
   "id": "afde03fa",
   "metadata": {},
   "outputs": [],
   "source": [
    "print(my_list)"
   ]
  },
  {
   "cell_type": "code",
   "execution_count": null,
   "id": "84f7136f",
   "metadata": {},
   "outputs": [],
   "source": [
    "str(my_list)"
   ]
  },
  {
   "cell_type": "code",
   "execution_count": null,
   "id": "2da21892",
   "metadata": {},
   "outputs": [],
   "source": [
    "str([1, 2, 3])"
   ]
  },
  {
   "cell_type": "markdown",
   "id": "0852dc5f",
   "metadata": {},
   "source": [
    "**Stringifikacja i reprezentacja – podsumowanie:**\n",
    "\n",
    "- Aby zmodyfikować domyślny sposób w jaki reprezentowane są obiekty możemy dodać do klasy metody specjalne  `__repr()__` oraz `__str()__`\n",
    "- Reprezentacja jest widoczna podczas odwołania się do obiektu w konsoli. Przedstawia ona zawartość obiektu w sposób schematyczny, często zawierając kod, który mógłby być użyty do stworzenia obiektu. Powinna być zrozumiała dla programisty\n",
    "- Stringifikacja jest widoczna podczas printowania obiektu lub rzutowania go na string. Powinna przedstawiać zawartość obiektu w sposób przyjazny dla odbiorcy końcowego"
   ]
  },
  {
   "cell_type": "markdown",
   "id": "f034b660",
   "metadata": {},
   "source": [
    "> **ZADANIA**"
   ]
  }
 ],
 "metadata": {
  "kernelspec": {
   "display_name": "Python 3 (ipykernel)",
   "language": "python",
   "name": "python3"
  },
  "language_info": {
   "codemirror_mode": {
    "name": "ipython",
    "version": 3
   },
   "file_extension": ".py",
   "mimetype": "text/x-python",
   "name": "python",
   "nbconvert_exporter": "python",
   "pygments_lexer": "ipython3",
   "version": "3.11.5"
  },
  "toc": {
   "base_numbering": 1,
   "nav_menu": {},
   "number_sections": true,
   "sideBar": true,
   "skip_h1_title": true,
   "title_cell": "Table of Contents",
   "title_sidebar": "Contents",
   "toc_cell": false,
   "toc_position": {},
   "toc_section_display": true,
   "toc_window_display": false
  },
  "varInspector": {
   "cols": {
    "lenName": 16,
    "lenType": 16,
    "lenVar": 40
   },
   "kernels_config": {
    "python": {
     "delete_cmd_postfix": "",
     "delete_cmd_prefix": "del ",
     "library": "var_list.py",
     "varRefreshCmd": "print(var_dic_list())"
    },
    "r": {
     "delete_cmd_postfix": ") ",
     "delete_cmd_prefix": "rm(",
     "library": "var_list.r",
     "varRefreshCmd": "cat(var_dic_list()) "
    }
   },
   "types_to_exclude": [
    "module",
    "function",
    "builtin_function_or_method",
    "instance",
    "_Feature"
   ],
   "window_display": false
  }
 },
 "nbformat": 4,
 "nbformat_minor": 5
}
