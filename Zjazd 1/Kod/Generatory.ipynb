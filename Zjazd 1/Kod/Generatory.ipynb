{
 "cells": [
  {
   "cell_type": "markdown",
   "id": "4d591dbf",
   "metadata": {},
   "source": [
    "# Teoria"
   ]
  },
  {
   "cell_type": "markdown",
   "id": "0c1643ac",
   "metadata": {},
   "source": [
    "## yield, next"
   ]
  },
  {
   "cell_type": "markdown",
   "id": "27091883",
   "metadata": {},
   "source": [
    "**Funkcja**"
   ]
  },
  {
   "cell_type": "code",
   "execution_count": null,
   "id": "5509f27c",
   "metadata": {},
   "outputs": [],
   "source": [
    "def calculate_squares_func(x):\n",
    "    output = []\n",
    "    for i in range(x):\n",
    "        output.append(i ** 2)\n",
    "    return output"
   ]
  },
  {
   "cell_type": "code",
   "execution_count": null,
   "id": "d4feb066",
   "metadata": {},
   "outputs": [],
   "source": [
    "calculate_squares_func(10)"
   ]
  },
  {
   "cell_type": "code",
   "execution_count": null,
   "id": "1392e8d9",
   "metadata": {},
   "outputs": [],
   "source": [
    "%%timeit -n 1000 -r 1000\n",
    "calculate_squares_func(100)"
   ]
  },
  {
   "cell_type": "code",
   "execution_count": null,
   "id": "42869dae",
   "metadata": {},
   "outputs": [],
   "source": [
    "func_output = calculate_squares_func(10)  # 100, 1000"
   ]
  },
  {
   "cell_type": "code",
   "execution_count": null,
   "id": "64625b11",
   "metadata": {},
   "outputs": [],
   "source": [
    "import sys\n",
    "\n",
    "sys.getsizeof(func_output)"
   ]
  },
  {
   "cell_type": "markdown",
   "id": "66486caa",
   "metadata": {},
   "source": [
    "**Generator**"
   ]
  },
  {
   "cell_type": "code",
   "execution_count": null,
   "id": "97c05b8f",
   "metadata": {},
   "outputs": [],
   "source": [
    "def calculate_squares_gen(x):\n",
    "    for i in range(x):\n",
    "        yield i ** 2"
   ]
  },
  {
   "cell_type": "code",
   "execution_count": null,
   "id": "b8fa369c",
   "metadata": {},
   "outputs": [],
   "source": [
    "generator_object = calculate_squares_gen(10)\n",
    "generator_object"
   ]
  },
  {
   "cell_type": "code",
   "execution_count": null,
   "id": "311b0e48",
   "metadata": {},
   "outputs": [],
   "source": [
    "next(generator_object)"
   ]
  },
  {
   "cell_type": "code",
   "execution_count": null,
   "id": "ba7bb231",
   "metadata": {},
   "outputs": [],
   "source": [
    "list(generator_object)"
   ]
  },
  {
   "cell_type": "code",
   "execution_count": null,
   "id": "90856668",
   "metadata": {},
   "outputs": [],
   "source": [
    "for i in calculate_squares_gen(10):\n",
    "    print(i)"
   ]
  },
  {
   "cell_type": "code",
   "execution_count": null,
   "id": "8a8b7c2a",
   "metadata": {},
   "outputs": [],
   "source": [
    "%%timeit -n 1000  -r 1000\n",
    "calculate_squares_gen(10)"
   ]
  },
  {
   "cell_type": "code",
   "execution_count": null,
   "id": "bf12fe97",
   "metadata": {},
   "outputs": [],
   "source": [
    "gen_output = calculate_squares_gen(10)  # 100, 1000"
   ]
  },
  {
   "cell_type": "code",
   "execution_count": null,
   "id": "18dd5b1d",
   "metadata": {},
   "outputs": [],
   "source": [
    "sys.getsizeof(gen_output)"
   ]
  },
  {
   "cell_type": "markdown",
   "id": "a0b8b704",
   "metadata": {},
   "source": [
    "- lazy evaluation\n",
    "- oszczędza pamięć\n",
    "- jest szybszy\n",
    "- nie mylić `generator` i `generator_object`\n",
    "\n",
    "---\n",
    "---"
   ]
  },
  {
   "cell_type": "code",
   "execution_count": null,
   "id": "0616e6da",
   "metadata": {},
   "outputs": [],
   "source": [
    "def numbers_generator():\n",
    "    numbers = [1, 2, 3, 4, 5]\n",
    "    for number in numbers:\n",
    "        yield number"
   ]
  },
  {
   "cell_type": "code",
   "execution_count": null,
   "id": "0041c065",
   "metadata": {},
   "outputs": [],
   "source": [
    "numbers = numbers_generator()\n",
    "numbers"
   ]
  },
  {
   "cell_type": "code",
   "execution_count": null,
   "id": "8bb8aad9",
   "metadata": {},
   "outputs": [],
   "source": [
    "for n in numbers:\n",
    "    print(n)"
   ]
  },
  {
   "cell_type": "code",
   "execution_count": null,
   "id": "2e921d66",
   "metadata": {},
   "outputs": [],
   "source": [
    "next(numbers)"
   ]
  },
  {
   "cell_type": "markdown",
   "id": "bba9f9d8",
   "metadata": {},
   "source": [
    "> **ZADANIA**"
   ]
  },
  {
   "cell_type": "markdown",
   "id": "2d315735",
   "metadata": {},
   "source": [
    "## Generator expression, generator nieskończony"
   ]
  },
  {
   "cell_type": "code",
   "execution_count": null,
   "id": "25904c58",
   "metadata": {
    "scrolled": true
   },
   "outputs": [],
   "source": [
    "[i for i in range(4)]"
   ]
  },
  {
   "cell_type": "code",
   "execution_count": null,
   "id": "fe766211",
   "metadata": {},
   "outputs": [],
   "source": [
    "(i for i in range(4))"
   ]
  },
  {
   "cell_type": "markdown",
   "id": "2a3788c5",
   "metadata": {},
   "source": [
    "---"
   ]
  },
  {
   "cell_type": "code",
   "execution_count": null,
   "id": "7105617b",
   "metadata": {},
   "outputs": [],
   "source": [
    "def infinite_generator():\n",
    "    \"\"\"\n",
    "    E.g. for generating id numbers\n",
    "    \"\"\"\n",
    "    i = 0\n",
    "    while True:\n",
    "        yield i\n",
    "        i += 1"
   ]
  },
  {
   "cell_type": "code",
   "execution_count": null,
   "id": "840bb2a2",
   "metadata": {},
   "outputs": [],
   "source": [
    "gen = infinite_generator()"
   ]
  },
  {
   "cell_type": "code",
   "execution_count": null,
   "id": "313e010c",
   "metadata": {},
   "outputs": [],
   "source": [
    "next(gen)"
   ]
  },
  {
   "cell_type": "markdown",
   "id": "ae604765",
   "metadata": {},
   "source": [
    "> **ZADANIA**"
   ]
  }
 ],
 "metadata": {
  "kernelspec": {
   "display_name": "Python 3 (ipykernel)",
   "language": "python",
   "name": "python3"
  },
  "language_info": {
   "codemirror_mode": {
    "name": "ipython",
    "version": 3
   },
   "file_extension": ".py",
   "mimetype": "text/x-python",
   "name": "python",
   "nbconvert_exporter": "python",
   "pygments_lexer": "ipython3",
   "version": "3.11.5"
  },
  "toc": {
   "base_numbering": 1,
   "nav_menu": {},
   "number_sections": true,
   "sideBar": true,
   "skip_h1_title": true,
   "title_cell": "Table of Contents",
   "title_sidebar": "Contents",
   "toc_cell": false,
   "toc_position": {},
   "toc_section_display": true,
   "toc_window_display": false
  },
  "varInspector": {
   "cols": {
    "lenName": 16,
    "lenType": 16,
    "lenVar": 40
   },
   "kernels_config": {
    "python": {
     "delete_cmd_postfix": "",
     "delete_cmd_prefix": "del ",
     "library": "var_list.py",
     "varRefreshCmd": "print(var_dic_list())"
    },
    "r": {
     "delete_cmd_postfix": ") ",
     "delete_cmd_prefix": "rm(",
     "library": "var_list.r",
     "varRefreshCmd": "cat(var_dic_list()) "
    }
   },
   "types_to_exclude": [
    "module",
    "function",
    "builtin_function_or_method",
    "instance",
    "_Feature"
   ],
   "window_display": false
  }
 },
 "nbformat": 4,
 "nbformat_minor": 5
}
