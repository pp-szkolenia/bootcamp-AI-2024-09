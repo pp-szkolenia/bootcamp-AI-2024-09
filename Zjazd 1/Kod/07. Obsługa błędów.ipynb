{
 "cells": [
  {
   "cell_type": "markdown",
   "id": "e7aa1ad5",
   "metadata": {},
   "source": [
    "# Obsługa błędów"
   ]
  },
  {
   "cell_type": "markdown",
   "id": "b4a6766d",
   "metadata": {},
   "source": [
    "## Stack Overflow\n",
    "\n",
    "Google -> how to find unique items in a list python -> https://stackoverflow.com/questions/12897374/get-unique-values-from-a-list-in-python\n",
    "\n",
    "Google -> IndexError: list index out of range -> https://stackoverflow.com/questions/1098643/does-indexerror-list-index-out-of-range-when-trying-to-access-the-nth-item-m\n",
    "\n",
    "\n",
    "Dobrze sprawdza się również ChatGPT."
   ]
  },
  {
   "cell_type": "markdown",
   "id": "5671ffa0",
   "metadata": {},
   "source": [
    "**Stack Overflow – podsumowanie:**\n",
    "\n",
    "- Podczas programowania często napotykamy problemy, które zostały już rozwiązane przez kogoś innego\n",
    "- Wiele z nich zostało opisanych na Stack Overflow - serwisie dla programistów, którego celem jest opisywanie i rozwiązywanie tego typu problemów "
   ]
  },
  {
   "cell_type": "markdown",
   "id": "3df35ef0",
   "metadata": {},
   "source": [
    "## Debugowanie\n",
    "### Analiza tracebacku"
   ]
  },
  {
   "cell_type": "code",
   "execution_count": null,
   "id": "cd0847fe",
   "metadata": {},
   "outputs": [],
   "source": [
    "def create_task():\n",
    "    description = input(\"Enter description: \")\n",
    "    assignee = int(input(\"Enter assignee: \"))\n",
    "    \n",
    "    return {\"description\": description, \"assignee\": assignee}"
   ]
  },
  {
   "cell_type": "code",
   "execution_count": null,
   "id": "73846286",
   "metadata": {},
   "outputs": [],
   "source": [
    "def create_space(name):\n",
    "    list_of_tasks = []\n",
    "    for _ in range(3):\n",
    "        task = create_task()\n",
    "        list_of_tasks.append(task)\n",
    "    \n",
    "    space = {\n",
    "        \"name\": name,\n",
    "        \"tasks\": list_of_tasks\n",
    "    }\n",
    "    \n",
    "    return space"
   ]
  },
  {
   "cell_type": "code",
   "execution_count": null,
   "id": "3e047e1a",
   "metadata": {},
   "outputs": [],
   "source": [
    "space = create_space(\"Dev\")\n",
    "print(space)"
   ]
  },
  {
   "cell_type": "markdown",
   "id": "99d36f69",
   "metadata": {},
   "source": [
    "### Debugger PyCharma\n",
    "\n",
    "PyCharm\n",
    "\n",
    "\n",
    "**Debugowanie – podsumowanie:**\n",
    "\n",
    "- Proces lokalizacji oraz eliminacji błędów w kodzie nazywa się *debugowaniem*\n",
    "- Jednym ze sposób debugowania jest analiza *tracebacku* czyli komunikatu, który pojawia się na outpucie po wystąpieniu błędu\n",
    "- Przydatnym narzędziem podczas szukania błędów jest debuger, który pozwala zatrzymać wykonywanie programu w dowolnym miejscu"
   ]
  },
  {
   "cell_type": "markdown",
   "id": "dc1c9f0f",
   "metadata": {},
   "source": [
    "## Wyjątki\n",
    "\n",
    "### Rodzaje błędów / wyjątków"
   ]
  },
  {
   "cell_type": "code",
   "execution_count": 1,
   "id": "b6bc480b",
   "metadata": {},
   "outputs": [
    {
     "ename": "SyntaxError",
     "evalue": "unterminated string literal (detected at line 1) (3000360182.py, line 1)",
     "output_type": "error",
     "traceback": [
      "\u001b[0;36m  Cell \u001b[0;32mIn[1], line 1\u001b[0;36m\u001b[0m\n\u001b[0;31m    2 + '\u001b[0m\n\u001b[0m        ^\u001b[0m\n\u001b[0;31mSyntaxError\u001b[0m\u001b[0;31m:\u001b[0m unterminated string literal (detected at line 1)\n"
     ]
    }
   ],
   "source": [
    "2 + '"
   ]
  },
  {
   "cell_type": "code",
   "execution_count": 2,
   "id": "004249aa",
   "metadata": {},
   "outputs": [
    {
     "ename": "TypeError",
     "evalue": "can't multiply sequence by non-int of type 'str'",
     "output_type": "error",
     "traceback": [
      "\u001b[0;31m---------------------------------------------------------------------------\u001b[0m",
      "\u001b[0;31mTypeError\u001b[0m                                 Traceback (most recent call last)",
      "Cell \u001b[0;32mIn[2], line 1\u001b[0m\n\u001b[0;32m----> 1\u001b[0m \u001b[38;5;124m\"\u001b[39m\u001b[38;5;124ma\u001b[39m\u001b[38;5;124m\"\u001b[39m \u001b[38;5;241m*\u001b[39m \u001b[38;5;124m\"\u001b[39m\u001b[38;5;124mb\u001b[39m\u001b[38;5;124m\"\u001b[39m\n",
      "\u001b[0;31mTypeError\u001b[0m: can't multiply sequence by non-int of type 'str'"
     ]
    }
   ],
   "source": [
    "\"a\" * \"b\""
   ]
  },
  {
   "cell_type": "code",
   "execution_count": 3,
   "id": "025214fe",
   "metadata": {},
   "outputs": [
    {
     "ename": "AttributeError",
     "evalue": "'list' object has no attribute 'add'",
     "output_type": "error",
     "traceback": [
      "\u001b[0;31m---------------------------------------------------------------------------\u001b[0m",
      "\u001b[0;31mAttributeError\u001b[0m                            Traceback (most recent call last)",
      "Cell \u001b[0;32mIn[3], line 1\u001b[0m\n\u001b[0;32m----> 1\u001b[0m [\u001b[38;5;241m1\u001b[39m, \u001b[38;5;241m2\u001b[39m, \u001b[38;5;241m3\u001b[39m]\u001b[38;5;241m.\u001b[39madd([\u001b[38;5;241m3\u001b[39m, \u001b[38;5;241m4\u001b[39m])\n",
      "\u001b[0;31mAttributeError\u001b[0m: 'list' object has no attribute 'add'"
     ]
    }
   ],
   "source": [
    "[1, 2, 3].add([3, 4])"
   ]
  },
  {
   "cell_type": "code",
   "execution_count": 4,
   "id": "9344d660",
   "metadata": {},
   "outputs": [
    {
     "ename": "ZeroDivisionError",
     "evalue": "division by zero",
     "output_type": "error",
     "traceback": [
      "\u001b[0;31m---------------------------------------------------------------------------\u001b[0m",
      "\u001b[0;31mZeroDivisionError\u001b[0m                         Traceback (most recent call last)",
      "Cell \u001b[0;32mIn[4], line 1\u001b[0m\n\u001b[0;32m----> 1\u001b[0m \u001b[38;5;241m2\u001b[39m \u001b[38;5;241m/\u001b[39m \u001b[38;5;241m0\u001b[39m\n",
      "\u001b[0;31mZeroDivisionError\u001b[0m: division by zero"
     ]
    }
   ],
   "source": [
    "2 / 0"
   ]
  },
  {
   "cell_type": "code",
   "execution_count": 5,
   "id": "3bede92f",
   "metadata": {},
   "outputs": [
    {
     "ename": "NameError",
     "evalue": "name 'xyz' is not defined",
     "output_type": "error",
     "traceback": [
      "\u001b[0;31m---------------------------------------------------------------------------\u001b[0m",
      "\u001b[0;31mNameError\u001b[0m                                 Traceback (most recent call last)",
      "Cell \u001b[0;32mIn[5], line 1\u001b[0m\n\u001b[0;32m----> 1\u001b[0m xyz\n",
      "\u001b[0;31mNameError\u001b[0m: name 'xyz' is not defined"
     ]
    }
   ],
   "source": [
    "xyz"
   ]
  },
  {
   "cell_type": "code",
   "execution_count": 6,
   "id": "02af9c26",
   "metadata": {},
   "outputs": [
    {
     "ename": "ValueError",
     "evalue": "invalid literal for int() with base 10: 'a'",
     "output_type": "error",
     "traceback": [
      "\u001b[0;31m---------------------------------------------------------------------------\u001b[0m",
      "\u001b[0;31mValueError\u001b[0m                                Traceback (most recent call last)",
      "Cell \u001b[0;32mIn[6], line 1\u001b[0m\n\u001b[0;32m----> 1\u001b[0m \u001b[38;5;28mint\u001b[39m(\u001b[38;5;124m\"\u001b[39m\u001b[38;5;124ma\u001b[39m\u001b[38;5;124m\"\u001b[39m)\n",
      "\u001b[0;31mValueError\u001b[0m: invalid literal for int() with base 10: 'a'"
     ]
    }
   ],
   "source": [
    "int(\"a\")"
   ]
  },
  {
   "cell_type": "markdown",
   "id": "7dc0a77d",
   "metadata": {},
   "source": [
    "itd..."
   ]
  },
  {
   "cell_type": "markdown",
   "id": "80136dfd",
   "metadata": {},
   "source": [
    "### Obsługa wyjątków"
   ]
  },
  {
   "cell_type": "markdown",
   "id": "58dc9f30-33d1-4f81-80ab-7141fdf45d9c",
   "metadata": {},
   "source": [
    "**`try-except`**"
   ]
  },
  {
   "cell_type": "code",
   "execution_count": 7,
   "id": "312e4f02",
   "metadata": {},
   "outputs": [],
   "source": [
    "def divide(a, b):\n",
    "    return a / b"
   ]
  },
  {
   "cell_type": "code",
   "execution_count": 9,
   "id": "8b59d73b",
   "metadata": {},
   "outputs": [],
   "source": [
    "def divide(a, b):\n",
    "    try:\n",
    "        return a / b\n",
    "    except ZeroDivisionError:\n",
    "        return None"
   ]
  },
  {
   "cell_type": "code",
   "execution_count": 11,
   "id": "5ac4845d",
   "metadata": {},
   "outputs": [
    {
     "data": {
      "text/plain": [
       "True"
      ]
     },
     "execution_count": 11,
     "metadata": {},
     "output_type": "execute_result"
    }
   ],
   "source": [
    "divide(2, 0) is None"
   ]
  },
  {
   "cell_type": "code",
   "execution_count": 13,
   "id": "68b531b0",
   "metadata": {},
   "outputs": [],
   "source": [
    "def divide(a, b):\n",
    "    try:\n",
    "        return a / b\n",
    "    except Exception as e:\n",
    "        print(e)\n",
    "        return None"
   ]
  },
  {
   "cell_type": "code",
   "execution_count": 14,
   "id": "89d07c59",
   "metadata": {},
   "outputs": [
    {
     "name": "stdout",
     "output_type": "stream",
     "text": [
      "division by zero\n"
     ]
    }
   ],
   "source": [
    "divide(2, 0)  # is None"
   ]
  },
  {
   "cell_type": "markdown",
   "id": "54d3074c-2bd0-464d-bd00-53601fcdbd8d",
   "metadata": {},
   "source": [
    "**Przechwytywanie kilku różnych wyjątków**"
   ]
  },
  {
   "cell_type": "code",
   "execution_count": 16,
   "id": "67054f89-3e2b-4797-af62-d2da8bec5beb",
   "metadata": {},
   "outputs": [],
   "source": [
    "y = 1"
   ]
  },
  {
   "cell_type": "code",
   "execution_count": 27,
   "id": "f55da132-d446-40aa-90e9-6c6dee152155",
   "metadata": {},
   "outputs": [
    {
     "data": {
      "text/plain": [
       "NameError()"
      ]
     },
     "execution_count": 27,
     "metadata": {},
     "output_type": "execute_result"
    }
   ],
   "source": [
    "NameError()"
   ]
  },
  {
   "cell_type": "code",
   "execution_count": 20,
   "id": "8a21f3a2-b067-47ed-9e4d-065e4de7fec2",
   "metadata": {},
   "outputs": [
    {
     "name": "stdout",
     "output_type": "stream",
     "text": [
      "Wystąpił błąd:  <class 'TypeError'>  |  unsupported operand type(s) for +: 'int' and 'str'\n"
     ]
    }
   ],
   "source": [
    "try:\n",
    "    x = 1\n",
    "    z = y + \".\"\n",
    "except (NameError, TypeError) as e:\n",
    "    print(\"Wystąpił błąd: \", type(e), \" | \", e)"
   ]
  },
  {
   "cell_type": "code",
   "execution_count": 19,
   "id": "50a8d623-556c-404b-82d3-0dc6e0fc3781",
   "metadata": {},
   "outputs": [
    {
     "name": "stdout",
     "output_type": "stream",
     "text": [
      "Wystąpił TypeError\n"
     ]
    }
   ],
   "source": [
    "try:\n",
    "    x = 1\n",
    "    z = y + \".\"\n",
    "except NameError:\n",
    "    print(\"Wystąpił NameError\")\n",
    "except TypeError:\n",
    "    print(\"Wystąpił TypeError\")"
   ]
  },
  {
   "cell_type": "markdown",
   "id": "b454f43c-0a19-42db-84be-9121af3b6f91",
   "metadata": {},
   "source": [
    "**`try-except-else`**\n",
    "\n",
    "`else` wykonuje się jeżeli nie wystąpił wyjątek w bloku `try`."
   ]
  },
  {
   "cell_type": "code",
   "execution_count": 43,
   "id": "ceb053f6-aeba-4210-90cc-9057c399aae0",
   "metadata": {},
   "outputs": [
    {
     "name": "stdout",
     "output_type": "stream",
     "text": [
      "Wystąpił błąd:  <class 'TypeError'>  |  TypeError\n"
     ]
    }
   ],
   "source": [
    "try:\n",
    "    x = 1\n",
    "    z = y + \".\"\n",
    "except (NameError, TypeError) as e:\n",
    "    print(\"Wystąpił błąd: \", type(e), \" | \", type(e).__name__)\n",
    "else:\n",
    "    print(\"Nie było błędu\")"
   ]
  },
  {
   "cell_type": "markdown",
   "id": "e989235b-d887-44cb-ace5-ab012dff4ff3",
   "metadata": {},
   "source": [
    "**`try-except-finally`**\n",
    "\n",
    "Kod w bloku `finally` wykona się zawsze, niezależnie czy był wyjątek, czy go nie było."
   ]
  },
  {
   "cell_type": "code",
   "execution_count": 42,
   "id": "13003fb9-fd3e-4db0-8f72-56ec7a0704db",
   "metadata": {},
   "outputs": [
    {
     "data": {
      "text/plain": [
       "'NameError'"
      ]
     },
     "execution_count": 42,
     "metadata": {},
     "output_type": "execute_result"
    }
   ],
   "source": [
    "NameError.__name__"
   ]
  },
  {
   "cell_type": "code",
   "execution_count": 30,
   "id": "1a825ee5-fcae-42a6-af90-ce6c5d75f9ee",
   "metadata": {},
   "outputs": [],
   "source": [
    "import sys"
   ]
  },
  {
   "cell_type": "code",
   "execution_count": 32,
   "id": "e2f7b445-2434-49f2-bfad-865d4bc129f5",
   "metadata": {},
   "outputs": [
    {
     "ename": "SystemExit",
     "evalue": "",
     "output_type": "error",
     "traceback": [
      "An exception has occurred, use %tb to see the full traceback.\n",
      "\u001b[0;31mSystemExit\u001b[0m\n"
     ]
    },
    {
     "name": "stderr",
     "output_type": "stream",
     "text": [
      "/home/patryk/anaconda3/lib/python3.11/site-packages/IPython/core/interactiveshell.py:3561: UserWarning: To exit: use 'exit', 'quit', or Ctrl-D.\n",
      "  warn(\"To exit: use 'exit', 'quit', or Ctrl-D.\", stacklevel=1)\n"
     ]
    }
   ],
   "source": [
    "sys.exit()"
   ]
  },
  {
   "cell_type": "code",
   "execution_count": 31,
   "id": "84646e23-d559-4411-97bf-614d8d0d7bd8",
   "metadata": {},
   "outputs": [
    {
     "name": "stdout",
     "output_type": "stream",
     "text": [
      "test\n"
     ]
    }
   ],
   "source": [
    "try:\n",
    "    sys.exit()\n",
    "except:\n",
    "    x = 2\n",
    "finally:\n",
    "    print(\"test\")"
   ]
  },
  {
   "cell_type": "code",
   "execution_count": null,
   "id": "eaf0a19f-5276-4a6e-b874-df4a2d90e0bf",
   "metadata": {},
   "outputs": [],
   "source": [
    "connection = open_db_connection()\n",
    "\n",
    "try:\n",
    "    connection.save_to_database(data)\n",
    "except Exception as e:\n",
    "    connection.rollback()\n",
    "finally:\n",
    "    connection.close()"
   ]
  },
  {
   "cell_type": "code",
   "execution_count": 52,
   "id": "15f41624-17b2-4217-9197-b9eb557dc1c5",
   "metadata": {},
   "outputs": [],
   "source": [
    "def get_positive_integer(message):\n",
    "    value = input(message)\n",
    "    try:\n",
    "        value = int(value)\n",
    "    except ValueError:\n",
    "        return False\n",
    "\n",
    "    if value > 0:\n",
    "        return value\n",
    "    else:\n",
    "        return False\n",
    "\n",
    "\n",
    "def get_age():\n",
    "    message = \"Podaj wiek: \"\n",
    "    output_value = get_positive_integer(message)\n",
    "    if not output_value:\n",
    "        get_age()\n",
    "    return output_value"
   ]
  },
  {
   "cell_type": "code",
   "execution_count": 53,
   "id": "696ef965-f52f-4a5d-a736-67a23510b3a0",
   "metadata": {},
   "outputs": [
    {
     "name": "stdin",
     "output_type": "stream",
     "text": [
      "Podaj wiek:  -12\n",
      "Podaj wiek:  0\n",
      "Podaj wiek:  sfsdfd\n",
      "Podaj wiek:  12\n"
     ]
    },
    {
     "data": {
      "text/plain": [
       "False"
      ]
     },
     "execution_count": 53,
     "metadata": {},
     "output_type": "execute_result"
    }
   ],
   "source": [
    "get_age()"
   ]
  },
  {
   "cell_type": "code",
   "execution_count": null,
   "id": "e96e5d88-23d6-4ada-b3af-18b181d4cfa7",
   "metadata": {},
   "outputs": [],
   "source": []
  },
  {
   "cell_type": "markdown",
   "id": "0197c274",
   "metadata": {},
   "source": [
    "### Generowanie wyjątków"
   ]
  },
  {
   "cell_type": "code",
   "execution_count": 35,
   "id": "01078011-9e91-494c-b677-7d6a6cd0b742",
   "metadata": {},
   "outputs": [
    {
     "data": {
      "text/plain": [
       "TypeError"
      ]
     },
     "execution_count": 35,
     "metadata": {},
     "output_type": "execute_result"
    }
   ],
   "source": [
    "TypeError"
   ]
  },
  {
   "cell_type": "code",
   "execution_count": 36,
   "id": "a2a5c561-ba25-4e25-869c-2bfe0bed3379",
   "metadata": {},
   "outputs": [],
   "source": [
    "class CustomError(Exception):\n",
    "    pass"
   ]
  },
  {
   "cell_type": "code",
   "execution_count": 37,
   "id": "e731c527-0281-49f5-b62a-480fad8f68cb",
   "metadata": {},
   "outputs": [
    {
     "ename": "CustomError",
     "evalue": "",
     "output_type": "error",
     "traceback": [
      "\u001b[0;31m---------------------------------------------------------------------------\u001b[0m",
      "\u001b[0;31mCustomError\u001b[0m                               Traceback (most recent call last)",
      "Cell \u001b[0;32mIn[37], line 1\u001b[0m\n\u001b[0;32m----> 1\u001b[0m \u001b[38;5;28;01mraise\u001b[39;00m CustomError\n",
      "\u001b[0;31mCustomError\u001b[0m: "
     ]
    }
   ],
   "source": [
    "raise CustomError"
   ]
  },
  {
   "cell_type": "code",
   "execution_count": 33,
   "id": "487c2bed",
   "metadata": {},
   "outputs": [
    {
     "ename": "TypeError",
     "evalue": "Błędny typ",
     "output_type": "error",
     "traceback": [
      "\u001b[0;31m---------------------------------------------------------------------------\u001b[0m",
      "\u001b[0;31mTypeError\u001b[0m                                 Traceback (most recent call last)",
      "Cell \u001b[0;32mIn[33], line 1\u001b[0m\n\u001b[0;32m----> 1\u001b[0m \u001b[38;5;28;01mraise\u001b[39;00m \u001b[38;5;167;01mTypeError\u001b[39;00m(\u001b[38;5;124m\"\u001b[39m\u001b[38;5;124mBłędny typ\u001b[39m\u001b[38;5;124m\"\u001b[39m)\n",
      "\u001b[0;31mTypeError\u001b[0m: Błędny typ"
     ]
    }
   ],
   "source": [
    "raise TypeError(\"Błędny typ\")"
   ]
  },
  {
   "cell_type": "code",
   "execution_count": null,
   "id": "7b610068",
   "metadata": {
    "scrolled": true
   },
   "outputs": [],
   "source": [
    "numbers = [1, 2, 0, 3]\n",
    "for number in numbers:\n",
    "    if number == 0:\n",
    "        raise Exception(\"Wartość jest równa 0!\")\n",
    "    \n",
    "    print(1 / number)"
   ]
  },
  {
   "cell_type": "markdown",
   "id": "350cec70",
   "metadata": {},
   "source": [
    "---"
   ]
  },
  {
   "cell_type": "code",
   "execution_count": null,
   "id": "c3ec1c51",
   "metadata": {},
   "outputs": [],
   "source": [
    "existing_users = [\"Admin\", \"Andrzej\", \"Andżela\"]\n",
    "\n",
    "assignee = input(\"Enter assignee: \")\n",
    "\n",
    "if assignee not in existing_users:\n",
    "    raise Exception(\"User doesn't exist\")"
   ]
  },
  {
   "cell_type": "markdown",
   "id": "ba1fdb31",
   "metadata": {},
   "source": [
    "### `assert`"
   ]
  },
  {
   "cell_type": "code",
   "execution_count": null,
   "id": "c8dd66db",
   "metadata": {},
   "outputs": [],
   "source": [
    "def multiply_by_two(x):\n",
    "    return x * 2\n",
    "\n",
    "def test_multiply_by_two():\n",
    "    test_x = 10\n",
    "    assert multiply_by_two(test_x) == 20"
   ]
  },
  {
   "cell_type": "code",
   "execution_count": null,
   "id": "ebfb8727",
   "metadata": {},
   "outputs": [],
   "source": [
    "test_multiply_by_two()"
   ]
  },
  {
   "cell_type": "markdown",
   "id": "04e0a360",
   "metadata": {},
   "source": [
    "**Wyjątki – podsumowanie:**\n",
    "\n",
    "- Różne rodzaje błędów wykonywania programu zwracają różne wyjątki. Zwrócenie wyjątku przerywa działanie programu\n",
    "- Aby pojawienie się błędu nie przerwało pracy programu używamy konstrukcji `try-except`, która pozwala przechwycić dowolny wyjątek\n",
    "- Możemy podnieść wyjątek za pomocą słowa kluczowego `raise`\n",
    "- Aby upewnić się, że pewien warunek jest spełniony, używamy słowa kluczowego `assert`. Niespełnienie warunku spowoduje wyrzucenie błędu"
   ]
  },
  {
   "cell_type": "markdown",
   "id": "48017eba",
   "metadata": {},
   "source": [
    "> **ZADANIA**"
   ]
  }
 ],
 "metadata": {
  "kernelspec": {
   "display_name": "Python 3 (ipykernel)",
   "language": "python",
   "name": "python3"
  },
  "language_info": {
   "codemirror_mode": {
    "name": "ipython",
    "version": 3
   },
   "file_extension": ".py",
   "mimetype": "text/x-python",
   "name": "python",
   "nbconvert_exporter": "python",
   "pygments_lexer": "ipython3",
   "version": "3.11.5"
  },
  "toc": {
   "base_numbering": 1,
   "nav_menu": {},
   "number_sections": true,
   "sideBar": true,
   "skip_h1_title": true,
   "title_cell": "Table of Contents",
   "title_sidebar": "Contents",
   "toc_cell": false,
   "toc_position": {},
   "toc_section_display": true,
   "toc_window_display": false
  },
  "varInspector": {
   "cols": {
    "lenName": 16,
    "lenType": 16,
    "lenVar": 40
   },
   "kernels_config": {
    "python": {
     "delete_cmd_postfix": "",
     "delete_cmd_prefix": "del ",
     "library": "var_list.py",
     "varRefreshCmd": "print(var_dic_list())"
    },
    "r": {
     "delete_cmd_postfix": ") ",
     "delete_cmd_prefix": "rm(",
     "library": "var_list.r",
     "varRefreshCmd": "cat(var_dic_list()) "
    }
   },
   "types_to_exclude": [
    "module",
    "function",
    "builtin_function_or_method",
    "instance",
    "_Feature"
   ],
   "window_display": false
  }
 },
 "nbformat": 4,
 "nbformat_minor": 5
}
