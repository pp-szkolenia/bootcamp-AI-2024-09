{
 "cells": [
  {
   "cell_type": "markdown",
   "id": "e7aa1ad5",
   "metadata": {},
   "source": [
    "# Obsługa błędów"
   ]
  },
  {
   "cell_type": "markdown",
   "id": "b4a6766d",
   "metadata": {},
   "source": [
    "## Stack Overflow\n",
    "\n",
    "Google -> how to find unique items in a list python -> https://stackoverflow.com/questions/12897374/get-unique-values-from-a-list-in-python\n",
    "\n",
    "Google -> IndexError: list index out of range -> https://stackoverflow.com/questions/1098643/does-indexerror-list-index-out-of-range-when-trying-to-access-the-nth-item-m\n",
    "\n",
    "\n",
    "Dobrze sprawdza się również ChatGPT."
   ]
  },
  {
   "cell_type": "markdown",
   "id": "5671ffa0",
   "metadata": {},
   "source": [
    "**Stack Overflow – podsumowanie:**\n",
    "\n",
    "- Podczas programowania często napotykamy problemy, które zostały już rozwiązane przez kogoś innego\n",
    "- Wiele z nich zostało opisanych na Stack Overflow - serwisie dla programistów, którego celem jest opisywanie i rozwiązywanie tego typu problemów "
   ]
  },
  {
   "cell_type": "markdown",
   "id": "3df35ef0",
   "metadata": {},
   "source": [
    "## Debugowanie\n",
    "### Analiza tracebacku"
   ]
  },
  {
   "cell_type": "code",
   "execution_count": null,
   "id": "cd0847fe",
   "metadata": {},
   "outputs": [],
   "source": [
    "def create_task():\n",
    "    description = input(\"Enter description: \")\n",
    "    assignee = int(input(\"Enter assignee: \"))\n",
    "    \n",
    "    return {\"description\": description, \"assignee\": assignee}"
   ]
  },
  {
   "cell_type": "code",
   "execution_count": null,
   "id": "73846286",
   "metadata": {},
   "outputs": [],
   "source": [
    "def create_space(name):\n",
    "    list_of_tasks = []\n",
    "    for _ in range(3):\n",
    "        task = create_task()\n",
    "        list_of_tasks.append(task)\n",
    "    \n",
    "    space = {\n",
    "        \"name\": name,\n",
    "        \"tasks\": list_of_tasks\n",
    "    }\n",
    "    \n",
    "    return space"
   ]
  },
  {
   "cell_type": "code",
   "execution_count": null,
   "id": "3e047e1a",
   "metadata": {},
   "outputs": [],
   "source": [
    "space = create_space(\"Dev\")\n",
    "print(space)"
   ]
  },
  {
   "cell_type": "markdown",
   "id": "99d36f69",
   "metadata": {},
   "source": [
    "### Debugger PyCharma\n",
    "\n",
    "PyCharm\n",
    "\n",
    "\n",
    "**Debugowanie – podsumowanie:**\n",
    "\n",
    "- Proces lokalizacji oraz eliminacji błędów w kodzie nazywa się *debugowaniem*\n",
    "- Jednym ze sposób debugowania jest analiza *tracebacku* czyli komunikatu, który pojawia się na outpucie po wystąpieniu błędu\n",
    "- Przydatnym narzędziem podczas szukania błędów jest debuger, który pozwala zatrzymać wykonywanie programu w dowolnym miejscu"
   ]
  },
  {
   "cell_type": "markdown",
   "id": "dc1c9f0f",
   "metadata": {},
   "source": [
    "## Wyjątki\n",
    "\n",
    "### Rodzaje błędów / wyjątków"
   ]
  },
  {
   "cell_type": "code",
   "execution_count": null,
   "id": "b6bc480b",
   "metadata": {},
   "outputs": [],
   "source": [
    "2 + '"
   ]
  },
  {
   "cell_type": "code",
   "execution_count": null,
   "id": "004249aa",
   "metadata": {},
   "outputs": [],
   "source": [
    "\"a\" * \"b\""
   ]
  },
  {
   "cell_type": "code",
   "execution_count": null,
   "id": "025214fe",
   "metadata": {},
   "outputs": [],
   "source": [
    "[1, 2, 3].add([3, 4])"
   ]
  },
  {
   "cell_type": "code",
   "execution_count": null,
   "id": "9344d660",
   "metadata": {},
   "outputs": [],
   "source": [
    "2 / 0"
   ]
  },
  {
   "cell_type": "code",
   "execution_count": null,
   "id": "3bede92f",
   "metadata": {},
   "outputs": [],
   "source": [
    "xyz"
   ]
  },
  {
   "cell_type": "code",
   "execution_count": null,
   "id": "02af9c26",
   "metadata": {},
   "outputs": [],
   "source": [
    "int(\"a\")"
   ]
  },
  {
   "cell_type": "markdown",
   "id": "7dc0a77d",
   "metadata": {},
   "source": [
    "itd..."
   ]
  },
  {
   "cell_type": "markdown",
   "id": "80136dfd",
   "metadata": {},
   "source": [
    "### Obsługa wyjątków"
   ]
  },
  {
   "cell_type": "markdown",
   "id": "58dc9f30-33d1-4f81-80ab-7141fdf45d9c",
   "metadata": {},
   "source": [
    "**`try-except`**"
   ]
  },
  {
   "cell_type": "code",
   "execution_count": null,
   "id": "312e4f02",
   "metadata": {},
   "outputs": [],
   "source": [
    "def divide(a, b):\n",
    "    return a / b"
   ]
  },
  {
   "cell_type": "code",
   "execution_count": null,
   "id": "8b59d73b",
   "metadata": {},
   "outputs": [],
   "source": [
    "def divide(a, b):\n",
    "    try:\n",
    "        return a / b\n",
    "    except ZeroDivisionError:\n",
    "        return None"
   ]
  },
  {
   "cell_type": "code",
   "execution_count": null,
   "id": "5ac4845d",
   "metadata": {},
   "outputs": [],
   "source": [
    "divide(2, 0)  # is None"
   ]
  },
  {
   "cell_type": "code",
   "execution_count": null,
   "id": "68b531b0",
   "metadata": {},
   "outputs": [],
   "source": [
    "def divide(a, b):\n",
    "    try:\n",
    "        return a / b\n",
    "    except Exception as e:\n",
    "        print(e)\n",
    "        return None"
   ]
  },
  {
   "cell_type": "code",
   "execution_count": null,
   "id": "89d07c59",
   "metadata": {},
   "outputs": [],
   "source": [
    "divide(2, 0)  # is None"
   ]
  },
  {
   "cell_type": "markdown",
   "id": "54d3074c-2bd0-464d-bd00-53601fcdbd8d",
   "metadata": {},
   "source": [
    "**Przechwytywanie kilku różnych wyjątków**"
   ]
  },
  {
   "cell_type": "code",
   "execution_count": null,
   "id": "67054f89-3e2b-4797-af62-d2da8bec5beb",
   "metadata": {},
   "outputs": [],
   "source": [
    "# y = 1"
   ]
  },
  {
   "cell_type": "code",
   "execution_count": null,
   "id": "8a21f3a2-b067-47ed-9e4d-065e4de7fec2",
   "metadata": {},
   "outputs": [],
   "source": [
    "try:\n",
    "    x = 1\n",
    "    z = y + \".\"\n",
    "except (NameError, TypeError) as e:\n",
    "    print(\"Wystąpił błąd: \", type(e), \" | \", e)"
   ]
  },
  {
   "cell_type": "code",
   "execution_count": null,
   "id": "50a8d623-556c-404b-82d3-0dc6e0fc3781",
   "metadata": {},
   "outputs": [],
   "source": [
    "try:\n",
    "    x = 1\n",
    "    z = y + \".\"\n",
    "except NameError:\n",
    "    print(\"Wystąpił NameError\")\n",
    "except TypeError:\n",
    "    print(\"Wystąpił TypeError\")"
   ]
  },
  {
   "cell_type": "markdown",
   "id": "b454f43c-0a19-42db-84be-9121af3b6f91",
   "metadata": {},
   "source": [
    "**`try-except-else`**\n",
    "\n",
    "`else` wykonuje się jeżeli nie wystąpił wyjątek w bloku `try`."
   ]
  },
  {
   "cell_type": "code",
   "execution_count": null,
   "id": "ceb053f6-aeba-4210-90cc-9057c399aae0",
   "metadata": {},
   "outputs": [],
   "source": [
    "try:\n",
    "    x = 1\n",
    "    # z = y + \".\"\n",
    "except (NameError, TypeError) as e:\n",
    "    print(\"Wystąpił błąd: \", type(e), \" | \", e)\n",
    "else:\n",
    "    print(\"Nie było błędu\")"
   ]
  },
  {
   "cell_type": "markdown",
   "id": "e989235b-d887-44cb-ace5-ab012dff4ff3",
   "metadata": {},
   "source": [
    "**`try-except-finally`**\n",
    "\n",
    "Kod w bloku `finally` wykona się zawsze, niezależnie czy był wyjątek, czy go nie było."
   ]
  },
  {
   "cell_type": "code",
   "execution_count": null,
   "id": "eaf0a19f-5276-4a6e-b874-df4a2d90e0bf",
   "metadata": {},
   "outputs": [],
   "source": [
    "connection = open_db_connection()\n",
    "\n",
    "try:\n",
    "    connection.save_to_database(data)\n",
    "except Exception as e:\n",
    "    connection.rollback()\n",
    "finally:\n",
    "    connection.close()"
   ]
  },
  {
   "cell_type": "markdown",
   "id": "0197c274",
   "metadata": {},
   "source": [
    "### Generowanie wyjątków"
   ]
  },
  {
   "cell_type": "code",
   "execution_count": null,
   "id": "487c2bed",
   "metadata": {},
   "outputs": [],
   "source": [
    "raise TypeError(\"Błędny typ\")"
   ]
  },
  {
   "cell_type": "code",
   "execution_count": null,
   "id": "7b610068",
   "metadata": {
    "scrolled": true
   },
   "outputs": [],
   "source": [
    "numbers = [1, 2, 0, 3]\n",
    "for number in numbers:\n",
    "    if number == 0:\n",
    "        raise Exception(\"Wartość jest równa 0!\")\n",
    "    \n",
    "    print(1 / number)"
   ]
  },
  {
   "cell_type": "markdown",
   "id": "350cec70",
   "metadata": {},
   "source": [
    "---"
   ]
  },
  {
   "cell_type": "code",
   "execution_count": null,
   "id": "c3ec1c51",
   "metadata": {},
   "outputs": [],
   "source": [
    "existing_users = [\"Admin\", \"Andrzej\", \"Andżela\"]\n",
    "\n",
    "assignee = input(\"Enter assignee: \")\n",
    "\n",
    "if assignee not in existing_users:\n",
    "    raise Exception(\"User doesn't exist\")"
   ]
  },
  {
   "cell_type": "markdown",
   "id": "ba1fdb31",
   "metadata": {},
   "source": [
    "### `assert`"
   ]
  },
  {
   "cell_type": "code",
   "execution_count": null,
   "id": "c8dd66db",
   "metadata": {},
   "outputs": [],
   "source": [
    "def multiply_by_two(x):\n",
    "    return x * 2\n",
    "\n",
    "def test_multiply_by_two():\n",
    "    test_x = 10\n",
    "    assert multiply_by_two(test_x) == 20"
   ]
  },
  {
   "cell_type": "code",
   "execution_count": null,
   "id": "ebfb8727",
   "metadata": {},
   "outputs": [],
   "source": [
    "test_multiply_by_two()"
   ]
  },
  {
   "cell_type": "markdown",
   "id": "04e0a360",
   "metadata": {},
   "source": [
    "**Wyjątki – podsumowanie:**\n",
    "\n",
    "- Różne rodzaje błędów wykonywania programu zwracają różne wyjątki. Zwrócenie wyjątku przerywa działanie programu\n",
    "- Aby pojawienie się błędu nie przerwało pracy programu używamy konstrukcji `try-except`, która pozwala przechwycić dowolny wyjątek\n",
    "- Możemy podnieść wyjątek za pomocą słowa kluczowego `raise`\n",
    "- Aby upewnić się, że pewien warunek jest spełniony, używamy słowa kluczowego `assert`. Niespełnienie warunku spowoduje wyrzucenie błędu"
   ]
  },
  {
   "cell_type": "markdown",
   "id": "48017eba",
   "metadata": {},
   "source": [
    "> **ZADANIA**"
   ]
  }
 ],
 "metadata": {
  "kernelspec": {
   "display_name": "Python 3 (ipykernel)",
   "language": "python",
   "name": "python3"
  },
  "language_info": {
   "codemirror_mode": {
    "name": "ipython",
    "version": 3
   },
   "file_extension": ".py",
   "mimetype": "text/x-python",
   "name": "python",
   "nbconvert_exporter": "python",
   "pygments_lexer": "ipython3",
   "version": "3.11.5"
  },
  "toc": {
   "base_numbering": 1,
   "nav_menu": {},
   "number_sections": true,
   "sideBar": true,
   "skip_h1_title": true,
   "title_cell": "Table of Contents",
   "title_sidebar": "Contents",
   "toc_cell": false,
   "toc_position": {},
   "toc_section_display": true,
   "toc_window_display": false
  },
  "varInspector": {
   "cols": {
    "lenName": 16,
    "lenType": 16,
    "lenVar": 40
   },
   "kernels_config": {
    "python": {
     "delete_cmd_postfix": "",
     "delete_cmd_prefix": "del ",
     "library": "var_list.py",
     "varRefreshCmd": "print(var_dic_list())"
    },
    "r": {
     "delete_cmd_postfix": ") ",
     "delete_cmd_prefix": "rm(",
     "library": "var_list.r",
     "varRefreshCmd": "cat(var_dic_list()) "
    }
   },
   "types_to_exclude": [
    "module",
    "function",
    "builtin_function_or_method",
    "instance",
    "_Feature"
   ],
   "window_display": false
  }
 },
 "nbformat": 4,
 "nbformat_minor": 5
}
