{
 "cells": [
  {
   "cell_type": "markdown",
   "id": "43fa13ef",
   "metadata": {},
   "source": [
    "# Pętle\n",
    "## Pętla `for`\n",
    "\n",
    "### Funkcja `range`\n",
    "\n",
    "Funkcja `range` zwraca zakres wartości od-do z określonym krokiem. Wartości te nie trafiają do pamięci jednocześnie, ale możemy dostawać się do nich po kolei (np. w pętli).\n",
    "\n",
    "Po zrzutowaniu *range'a* na listę możemy zobaczyć wszystkie jego elementy."
   ]
  },
  {
   "cell_type": "code",
   "execution_count": null,
   "id": "9d9623d4",
   "metadata": {},
   "outputs": [],
   "source": [
    "range(0, 6)"
   ]
  },
  {
   "cell_type": "code",
   "execution_count": null,
   "id": "ff7201e4",
   "metadata": {},
   "outputs": [],
   "source": [
    "range(6)"
   ]
  },
  {
   "cell_type": "code",
   "execution_count": null,
   "id": "881a7fd4",
   "metadata": {},
   "outputs": [],
   "source": [
    "range(3, 9)"
   ]
  },
  {
   "cell_type": "code",
   "execution_count": null,
   "id": "2ea0e272",
   "metadata": {},
   "outputs": [],
   "source": [
    "list(range(3, 9))"
   ]
  },
  {
   "cell_type": "code",
   "execution_count": null,
   "id": "aa089165",
   "metadata": {},
   "outputs": [],
   "source": [
    "list(range(4))"
   ]
  },
  {
   "cell_type": "code",
   "execution_count": null,
   "id": "5492b017",
   "metadata": {},
   "outputs": [],
   "source": [
    "list(range(0, 6, 2))"
   ]
  },
  {
   "cell_type": "markdown",
   "id": "777dcb21",
   "metadata": {},
   "source": [
    "### Idea pętli\n",
    "\n",
    "Pętli używamy wtedy, kiedy pewien ciąg instrukcji musi zostać powtórzony wiele razy. Zamiast powtarzać wielokrotnie fragmenty kodu, możemy je zapętlić."
   ]
  },
  {
   "cell_type": "code",
   "execution_count": null,
   "id": "e25d2968",
   "metadata": {
    "scrolled": true
   },
   "outputs": [],
   "source": [
    "# admin creates new users\n",
    "\n",
    "print(\"Create a user #1\")\n",
    "\n",
    "username_1 = input(\"Enter the username: \")\n",
    "password_1 = input(\"Enter the password: \")\n",
    "\n",
    "\n",
    "print(\"Create a user #2\")\n",
    "\n",
    "username_2 = input(\"Enter the username: \")\n",
    "password_2 = input(\"Enter the password: \")\n",
    "\n",
    "\n",
    "print(\"Create a user #3\")\n",
    "\n",
    "username_3 = input(\"Enter the username: \")\n",
    "password_3 = input(\"Enter the password: \")"
   ]
  },
  {
   "cell_type": "code",
   "execution_count": null,
   "id": "ce3b69ad",
   "metadata": {
    "scrolled": true
   },
   "outputs": [],
   "source": [
    "n_of_users_to_create = 3\n",
    "\n",
    "for i in range(n_of_users_to_create):\n",
    "    print(f\"Create a user #{i+1}\")\n",
    "\n",
    "    username = input(\"Enter the username: \")\n",
    "    password = input(\"Enter the password: \")\n",
    "    \n",
    "    # add user credentials to a data structure"
   ]
  },
  {
   "cell_type": "code",
   "execution_count": null,
   "id": "574d526e",
   "metadata": {},
   "outputs": [],
   "source": [
    "n_of_users_to_create = 3\n",
    "users = []\n",
    "\n",
    "for i in range(n_of_users_to_create):\n",
    "    username = input(\"Enter the username: \")\n",
    "    password = input(\"Enter the password: \")\n",
    "    \n",
    "    user = {\"username\": username, \"password\": password}\n",
    "    \n",
    "    users.append(user)"
   ]
  },
  {
   "cell_type": "code",
   "execution_count": null,
   "id": "f3a48e3c",
   "metadata": {},
   "outputs": [],
   "source": [
    "users"
   ]
  },
  {
   "cell_type": "markdown",
   "id": "7cd786b8",
   "metadata": {},
   "source": [
    "### Iterowanie po liście\n",
    "\n",
    "Jeżeli chcemy wykonać określone instrukcje w odniesieniu do kolejnych elementów listy, możemy przeiterować bezpośrednio po niej."
   ]
  },
  {
   "cell_type": "code",
   "execution_count": null,
   "id": "13ae1476",
   "metadata": {},
   "outputs": [],
   "source": [
    "users = [\"Admin\", \"Andrzej\", \"Andżela\"]\n",
    "\n",
    "\n",
    "for user in users:\n",
    "    print(user)"
   ]
  },
  {
   "cell_type": "markdown",
   "id": "1317418b",
   "metadata": {},
   "source": [
    "Poniższy zapis jest kalką z innych języków, takich jak C/C++ i w Pythonie nie powinien być stosowany!"
   ]
  },
  {
   "cell_type": "code",
   "execution_count": null,
   "id": "1233b6c0",
   "metadata": {},
   "outputs": [],
   "source": [
    "# for i in range(len(users)):\n",
    "#     print(users[i])"
   ]
  },
  {
   "cell_type": "code",
   "execution_count": null,
   "id": "1b975d43",
   "metadata": {},
   "outputs": [],
   "source": [
    "# i = 0\n",
    "# for user in users:\n",
    "#     print(users[i])\n",
    "#     i += 1"
   ]
  },
  {
   "cell_type": "markdown",
   "id": "71664b10",
   "metadata": {},
   "source": [
    "---"
   ]
  },
  {
   "cell_type": "code",
   "execution_count": null,
   "id": "2fe1a9f9",
   "metadata": {},
   "outputs": [],
   "source": [
    "numbers = [1, 2, 3, 4, 5, 6, 7]\n",
    "\n",
    "for number in numbers:\n",
    "    if number % 2 == 0:\n",
    "        print(f\"{number} is even\")\n",
    "    else:\n",
    "        print(f\"{number} is odd\")"
   ]
  },
  {
   "cell_type": "markdown",
   "id": "eace49d3",
   "metadata": {},
   "source": [
    "---"
   ]
  },
  {
   "cell_type": "code",
   "execution_count": null,
   "id": "edbfa068",
   "metadata": {},
   "outputs": [],
   "source": [
    "list_of_users = [\n",
    "    {\"username\": \"Admin\", \"password\": \"admin12345\"},\n",
    "    {\"username\": \"Andrzej\", \"password\": \"qwerty\"},\n",
    "    {\"username\": \"Andżela\", \"password\": \"hasło\"},\n",
    "]\n",
    "\n",
    "\n",
    "for user in list_of_users:\n",
    "    print(f\"Username: {user['username']}, password: {'*' * len(user['password'])}\")"
   ]
  },
  {
   "cell_type": "markdown",
   "id": "e8e731b7",
   "metadata": {},
   "source": [
    "Obiekt, po którym iterujemy to iterabla (ang. *iterable*). Zmienną, której wartość zmienia się w każdej iteracji pętli nazywamy **zmienną iteracyjną** lub **iteratorem**.\n",
    "\n",
    "---\n",
    "\n",
    "> *ERROR ALERT*\n",
    "\n",
    "Czasami próbujemy przeiterować po obiekcie, po którym nie jest to możliwe. Wówczas dostajemy poniższy błąd:"
   ]
  },
  {
   "cell_type": "code",
   "execution_count": null,
   "id": "fcfd25d9",
   "metadata": {},
   "outputs": [],
   "source": [
    "not_an_iterable = 3\n",
    "\n",
    "for item in not_an_iterable:\n",
    "    print(item)"
   ]
  },
  {
   "cell_type": "markdown",
   "id": "8745ee25",
   "metadata": {},
   "source": [
    "### Iterowanie po słowniku\n",
    "\n",
    "Iterowanie po słowniku przechodzi po jego kluczach.\n",
    "\n",
    "Możemy również przeiterować po kluczach i wartościach jednocześnie."
   ]
  },
  {
   "cell_type": "code",
   "execution_count": null,
   "id": "e59f076a",
   "metadata": {},
   "outputs": [],
   "source": [
    "task = {\n",
    "    \"description\": \"Learn Python\",\n",
    "    \"assignee\": \"Andrzej\",\n",
    "    \"due_date\": None,\n",
    "    \"priority\": 2,\n",
    "    \"is_complete\": False,\n",
    "    \"tags\": [\"python\", \"dev\"],\n",
    "    \"comments\": []\n",
    "}\n",
    "\n",
    "\n",
    "for param in task:\n",
    "    print(param)"
   ]
  },
  {
   "cell_type": "code",
   "execution_count": null,
   "id": "f728fd98",
   "metadata": {},
   "outputs": [],
   "source": [
    "for param in task:\n",
    "    print(f\"Key: {param}, value: {task[param]}\")\n",
    "    print('\\n')"
   ]
  },
  {
   "cell_type": "markdown",
   "id": "29439fbb",
   "metadata": {},
   "source": [
    "---"
   ]
  },
  {
   "cell_type": "code",
   "execution_count": null,
   "id": "9f27544c",
   "metadata": {},
   "outputs": [],
   "source": [
    "for param, value in task.items():\n",
    "    print(f\"Key: {param}, value: {value}\")\n",
    "    print('\\n')"
   ]
  },
  {
   "cell_type": "markdown",
   "id": "006b0f50",
   "metadata": {},
   "source": [
    "### Iterowanie po stringu\n",
    "\n",
    "Iterować możemy również po stringu."
   ]
  },
  {
   "cell_type": "code",
   "execution_count": null,
   "id": "601fb458",
   "metadata": {},
   "outputs": [],
   "source": [
    "for character in \"hello\":\n",
    "    print(character)"
   ]
  },
  {
   "cell_type": "markdown",
   "id": "90f1db0f",
   "metadata": {},
   "source": [
    "### Instrukcja `pass`\n",
    "\n",
    "Instrukcja `pass` oznacza \"nie rób nic\". Przydaje się wtedy kiedy piszemy instrukcje warunkową, pętlę, funkcję czy klasę i tymczasowo chcemy pozostawić tam puste miejsce."
   ]
  },
  {
   "cell_type": "code",
   "execution_count": null,
   "id": "e4d9065b",
   "metadata": {},
   "outputs": [],
   "source": [
    "for i in range(6):\n",
    "    pass"
   ]
  },
  {
   "cell_type": "code",
   "execution_count": null,
   "id": "e3514883",
   "metadata": {},
   "outputs": [],
   "source": [
    "# error!\n",
    "\n",
    "for i in range(6):"
   ]
  },
  {
   "cell_type": "markdown",
   "id": "8940e616",
   "metadata": {},
   "source": [
    "**Pętla `for` – podsumowanie:**\n",
    "\n",
    "- Funkcja `range` zwraca zakres wartości od-do rosnących o określoną wartość (krok)\n",
    "- Wartości zwrócone przez `range` nie trafiają do pamięci na raz, lecz jedna po drugiej – dopiero kiedy to sprowokujemy\n",
    "- Aby wykonać dany blok kodu określoną liczbę razy, należy użyć pętli `for`\n",
    "- Pętla `for` posiada **zmienną iteracyjną** czyli zmienną, która w każdej iteracji przyjmuje inną wartość. W pewnych przypadkach iteratorów może być więcej niż jeden\n",
    "- Możemy iterować po listach, słownikach czy innych strukturach danych. Obiekt, po którym możemy iterować to iterabla (ang. *iterable*)\n",
    "- Aby nie wykonywać w pętli żadnych instrukcji należy umieścić tam instrukcję `pass`"
   ]
  },
  {
   "cell_type": "markdown",
   "id": "a43eab3d",
   "metadata": {},
   "source": [
    "> **ZADANIA**"
   ]
  },
  {
   "cell_type": "markdown",
   "id": "b5696890",
   "metadata": {},
   "source": [
    "## Pętla `while`\n",
    "\n",
    "Pętli `while` używamy wtedy, kiedy nie wiemy z góry ile razy ma wykonać się wcięty kod. Wykonujemy go dopóty, dopóki spełniony będzie określony warunek logiczny."
   ]
  },
  {
   "cell_type": "code",
   "execution_count": null,
   "id": "8d9e66bc",
   "metadata": {
    "scrolled": true
   },
   "outputs": [],
   "source": [
    "i = 10\n",
    "\n",
    "while i > 0:\n",
    "    print(i)\n",
    "    i -= 1"
   ]
  },
  {
   "cell_type": "markdown",
   "id": "36d40422",
   "metadata": {},
   "source": [
    "---"
   ]
  },
  {
   "cell_type": "code",
   "execution_count": null,
   "id": "c43c6b8d",
   "metadata": {},
   "outputs": [],
   "source": [
    "list_of_tasks = [\"Learn Python\", \"Do exercises\", \"Drink coffee\", \"Finish my work\"]\n",
    "\n",
    "\n",
    "while list_of_tasks:\n",
    "    # Complete the last task\n",
    "    list_of_tasks.pop()\n",
    "    \n",
    "    print(\"To do:\", list_of_tasks, \"\\n\")"
   ]
  },
  {
   "cell_type": "markdown",
   "id": "0c663bf4",
   "metadata": {},
   "source": [
    "---"
   ]
  },
  {
   "cell_type": "code",
   "execution_count": null,
   "id": "81962ded",
   "metadata": {},
   "outputs": [],
   "source": [
    "text = \"\"\n",
    "\n",
    "while text != \"yes\":\n",
    "    text = input(\"Finish? \")"
   ]
  },
  {
   "cell_type": "markdown",
   "id": "8259e639",
   "metadata": {},
   "source": [
    "**Pętla `while` – podsumowanie:**\n",
    "\n",
    "- Pętla `while` wykonuje się tak długo, jak spełniony jest warunek w niej podany\n",
    "- Jeżeli warunek będzie zawsze prawdziwy, pętla będzie wykonywać się w nieskończoność"
   ]
  },
  {
   "cell_type": "markdown",
   "id": "276f17fe",
   "metadata": {},
   "source": [
    "## Instrukcje `break` oraz `continue`\n",
    "### `break`\n",
    "\n",
    "Instrukcja `break` natychmiastowo wychodzi z pętli, w której się znajduje.\n",
    "\n",
    "Jeżeli zagnieżdżamy jedną pętlę w drugiej, `break` wychodzi tylko z tej najbardziej wewnętrznej.\n",
    "\n",
    "`break` można używać zarówno w pętli `for` jak i `while`, ale częściej spotyka się go w pętli `while`."
   ]
  },
  {
   "cell_type": "code",
   "execution_count": null,
   "id": "a7c7c532",
   "metadata": {},
   "outputs": [],
   "source": [
    "while True:\n",
    "    break"
   ]
  },
  {
   "cell_type": "code",
   "execution_count": null,
   "id": "a86edf96",
   "metadata": {},
   "outputs": [],
   "source": [
    "i = 10\n",
    "\n",
    "while True:\n",
    "    print(i)\n",
    "    i -= 1\n",
    "    \n",
    "    if i < 0:\n",
    "        break"
   ]
  },
  {
   "cell_type": "markdown",
   "id": "902710b1",
   "metadata": {},
   "source": [
    "---"
   ]
  },
  {
   "cell_type": "code",
   "execution_count": null,
   "id": "9cc87de8",
   "metadata": {},
   "outputs": [],
   "source": [
    "list_of_tasks = [\"Learn Python\", \"Do exercises\", \"Drink coffee\", \"Finish my work\"]\n",
    "\n",
    "\n",
    "while True:\n",
    "    # Complete the last task\n",
    "    list_of_tasks.pop()\n",
    "    \n",
    "    print(\"To do:\", list_of_tasks, \"\\n\")\n",
    "    \n",
    "    if not list_of_tasks:\n",
    "        break"
   ]
  },
  {
   "cell_type": "markdown",
   "id": "0e0986f9",
   "metadata": {},
   "source": [
    "### `continue`\n",
    "\n",
    "Instrukcja `continue` natychmiastowo kończy daną iterację pętli oraz przechodzi do kolejnej.\n",
    "\n",
    "Może być stosowana w każdym rodzaju pętli."
   ]
  },
  {
   "cell_type": "code",
   "execution_count": null,
   "id": "f4c07581",
   "metadata": {},
   "outputs": [],
   "source": [
    "for number in [1, 2, 3, 4, 5, 6, 7, 8]:\n",
    "    if number % 2 == 0:\n",
    "        continue\n",
    "        \n",
    "    print(number)"
   ]
  },
  {
   "cell_type": "markdown",
   "id": "bc92dcb2",
   "metadata": {},
   "source": [
    "---"
   ]
  },
  {
   "cell_type": "code",
   "execution_count": null,
   "id": "642c8cf7",
   "metadata": {},
   "outputs": [],
   "source": [
    "list_of_tasks = [\n",
    "    {\"description\": \"Learn Python\", \"priority\": 3},\n",
    "    {\"description\": \"Do exercises\", \"priority\": 2},\n",
    "    {\"description\": \"Drink coffee\", \"priority\": 1},\n",
    "    {\"description\": \"Finish my work\", \"priority\": 2}\n",
    "]"
   ]
  },
  {
   "cell_type": "code",
   "execution_count": null,
   "id": "2dd2e09c",
   "metadata": {},
   "outputs": [],
   "source": [
    "for task in list_of_tasks:\n",
    "    if task[\"priority\"] < 2:\n",
    "        continue\n",
    "        \n",
    "    print(f\"Doing: {task['description']}\")"
   ]
  },
  {
   "cell_type": "markdown",
   "id": "ab1dacc9",
   "metadata": {},
   "source": [
    "**Instrukcje `break` oraz `continue` – podsumowanie:**\n",
    "\n",
    "- Aby wyjść z pętli w dowolnym jej miejscu używamy instrukcji `break`\n",
    "- Aby przejść do kolejnej iteracji używamy instrukcji `continue`"
   ]
  },
  {
   "cell_type": "markdown",
   "id": "8975eb43",
   "metadata": {},
   "source": [
    "> **ZADANIA**"
   ]
  },
  {
   "attachments": {
    "image.png": {
     "image/png": "[encoded data removed]"
    }
   },
   "cell_type": "markdown",
   "id": "1af628c1",
   "metadata": {},
   "source": [
    "## Zagnieżdżone pętle\n",
    "\n",
    "Zagnieżdżonych pętli używamy zwykle wtedy, kiedy mając dwie (lub więcej) listy (lub inne struktury) chcemy wykonać pewne operacje dla wszystkich par, według zasady \"każdy z każdym\".\n",
    "\n",
    "Liczba iteracji jest **iloczynem** liczb elementów w poszczególnych listach.\n",
    "\n",
    "**Przykład:** wyznaczenie tabliczki mnożenia:\n",
    "\n",
    "![image.png](attachment:image.png)"
   ]
  },
  {
   "cell_type": "code",
   "execution_count": null,
   "id": "2429ca91",
   "metadata": {},
   "outputs": [],
   "source": [
    "for i in range(1, 4):\n",
    "    for j in range(1, 6):\n",
    "        print(f\"{i} * {j} = {i * j}\")\n",
    "    \n",
    "    print(\"\\n\")"
   ]
  },
  {
   "cell_type": "markdown",
   "id": "05167366",
   "metadata": {},
   "source": [
    "---"
   ]
  },
  {
   "cell_type": "code",
   "execution_count": null,
   "id": "60d1e0e8",
   "metadata": {},
   "outputs": [],
   "source": [
    "users = [\"Admin\", \"Andrzej\", \"Andżela\"]\n",
    "tasks = [\"Learn Python\", \"Do exercises\", \"Drink coffee\"]\n",
    "\n",
    "for user in users:\n",
    "    for task in tasks:\n",
    "        print(f\"{user} does: '{task}'\")\n",
    "        \n",
    "    print(\"\\n\")"
   ]
  },
  {
   "cell_type": "markdown",
   "id": "0c73d62e",
   "metadata": {},
   "source": [
    "**Zagnieżdżone pętle – podsumowanie:**\n",
    "\n",
    "- Wewnątrz jednej pętli może znajdować się kolejna (a w niej kolejna itd.)\n",
    "- Dla każdego elementu z pierwszej listy, po której iterujemy, wykona się cała zagnieżdżona pętla"
   ]
  },
  {
   "cell_type": "markdown",
   "id": "47c4b148",
   "metadata": {},
   "source": [
    "## `zip` i `enumerate`\n",
    "### `zip`\n",
    "\n",
    "`zip` używamy wtedy, kiedy chcemy przeiterować **jednocześnie** po dwóch listach.\n",
    "\n",
    "Liczba iteracji **jest równa** liczbie elementów w zipowanych listach."
   ]
  },
  {
   "cell_type": "code",
   "execution_count": null,
   "id": "09243bfc",
   "metadata": {},
   "outputs": [],
   "source": [
    "users = [\"Admin\", \"Andrzej\", \"Andżela\"]\n",
    "tasks = [\"Learn Python\", \"Do exercises\", \"Drink coffee\"]\n",
    "\n",
    "\n",
    "for user, task in zip(users, tasks):\n",
    "    print(f\"{user} does: '{task}'\")"
   ]
  },
  {
   "cell_type": "code",
   "execution_count": null,
   "id": "60bcaa53",
   "metadata": {},
   "outputs": [],
   "source": [
    "users = [\"Admin\", \"Andrzej\", \"Andżela\"]\n",
    "tasks = [\"Learn Python\", \"Do exercises\", \"Drink coffee\"]\n",
    "priorities = [3, 2, 1]\n",
    "\n",
    "\n",
    "for user, task, priority in zip(users, tasks, priorities):\n",
    "    print(f\"{user} does: '{task}'. Priority: {priority}\")"
   ]
  },
  {
   "cell_type": "markdown",
   "id": "7c118cec",
   "metadata": {},
   "source": [
    "Jeżeli poszczególne listy mają **różną liczbę elementów**, pętla wykona się tyle razy, ile wynosi długość **najkrótszej** z nich."
   ]
  },
  {
   "cell_type": "code",
   "execution_count": null,
   "id": "6362325f",
   "metadata": {},
   "outputs": [],
   "source": [
    "users = [\"Admin\", \"Andrzej\", \"Andżela\"]\n",
    "tasks = [\"Learn Python\", \"Do exercises\", \"Drink coffee\", \"Finish my work\"]\n",
    "\n",
    "\n",
    "for user, task in zip(users, tasks):\n",
    "    print(f\"{user} does: '{task}'\")"
   ]
  },
  {
   "cell_type": "markdown",
   "id": "7c563aed",
   "metadata": {},
   "source": [
    "---"
   ]
  },
  {
   "cell_type": "code",
   "execution_count": null,
   "id": "6e4ead0e",
   "metadata": {},
   "outputs": [],
   "source": [
    "users = [\"Admin\", \"Andrzej\", \"Andżela\"]\n",
    "tasks = [\"Learn Python\", \"Do exercises\", \"Drink coffee\"]"
   ]
  },
  {
   "cell_type": "code",
   "execution_count": null,
   "id": "564fa3ef",
   "metadata": {},
   "outputs": [],
   "source": [
    "zip(users, tasks)"
   ]
  },
  {
   "cell_type": "code",
   "execution_count": null,
   "id": "9463a6bb",
   "metadata": {},
   "outputs": [],
   "source": [
    "list(zip(users, tasks))"
   ]
  },
  {
   "cell_type": "markdown",
   "id": "a282a49f",
   "metadata": {},
   "source": [
    "### `enumerate`\n",
    "\n",
    "`enumerate` używamy wtedy, kiedy chcemy przeiterować **zarówno** po elementach listy jak i jej **indeksach**.\n",
    "\n",
    "Pierwszym iteratorem jest **licznik**, a drugim **wartość**."
   ]
  },
  {
   "cell_type": "code",
   "execution_count": null,
   "id": "7db45544",
   "metadata": {},
   "outputs": [],
   "source": [
    "users"
   ]
  },
  {
   "cell_type": "code",
   "execution_count": null,
   "id": "a6ebab8c",
   "metadata": {},
   "outputs": [],
   "source": [
    "for u, user in enumerate(users):\n",
    "    print(f\"User #{u}: {user}\")"
   ]
  },
  {
   "cell_type": "code",
   "execution_count": null,
   "id": "7f4def8a",
   "metadata": {},
   "outputs": [],
   "source": [
    "enumerate(users)"
   ]
  },
  {
   "cell_type": "code",
   "execution_count": null,
   "id": "9dc2a4b2",
   "metadata": {},
   "outputs": [],
   "source": [
    "list(enumerate(users))"
   ]
  },
  {
   "cell_type": "code",
   "execution_count": null,
   "id": "7cdd0816",
   "metadata": {},
   "outputs": [],
   "source": [
    "list(enumerate(users, 1))"
   ]
  },
  {
   "cell_type": "code",
   "execution_count": null,
   "id": "d83ac170",
   "metadata": {},
   "outputs": [],
   "source": [
    "for u, user in enumerate(users, 1):\n",
    "    print(f\"User #{u}: {user}\")"
   ]
  },
  {
   "cell_type": "markdown",
   "id": "db8ca46d",
   "metadata": {},
   "source": [
    "**`zip` i `enumerate` w pętli `for` – podsumowanie:**\n",
    "\n",
    "- Aby przeiterować po kilku iterablach jednocześnie, używamy funkcji `zip`\n",
    "- Aby w pętli `for` móc korzystać z licznika iteracji należy przekazać iterablę do funkcji `enumerate`"
   ]
  },
  {
   "cell_type": "markdown",
   "id": "8c64e71b",
   "metadata": {},
   "source": [
    "> **ZADANIA**"
   ]
  },
  {
   "cell_type": "markdown",
   "id": "627a5061",
   "metadata": {},
   "source": [
    "## `list comprehension`\n",
    "\n",
    "Wyrażenie listotwórcze. \"Przepis\" na listę.\n",
    "\n",
    "Jest to skrócony sposób definiowania listy przy użyciu pętli."
   ]
  },
  {
   "cell_type": "code",
   "execution_count": 1,
   "id": "48e1a1e0",
   "metadata": {},
   "outputs": [
    {
     "data": {
      "text/plain": [
       "[{'description': 'Learn Python', 'is_complete': True, 'priority': 3},\n",
       " {'description': 'Do exercises', 'is_complete': False, 'priority': 2},\n",
       " {'description': 'Drink coffee', 'is_complete': True, 'priority': 1},\n",
       " {'description': 'Finish my work', 'is_complete': False, 'priority': 2}]"
      ]
     },
     "execution_count": 1,
     "metadata": {},
     "output_type": "execute_result"
    }
   ],
   "source": [
    "list_of_tasks = [\n",
    "    {\"description\": \"Learn Python\", \"is_complete\": True, \"priority\": 3},\n",
    "    {\"description\": \"Do exercises\", \"is_complete\": False, \"priority\": 2},\n",
    "    {\"description\": \"Drink coffee\", \"is_complete\": True, \"priority\": 1},\n",
    "    {\"description\": \"Finish my work\", \"is_complete\": False, \"priority\": 2}\n",
    "]\n",
    "\n",
    "list_of_tasks"
   ]
  },
  {
   "cell_type": "markdown",
   "id": "542430d9",
   "metadata": {},
   "source": [
    "**Zadanie:** wyciągnąć statusy kompletności do osobnej listy.\n",
    "\n",
    "wynik: `[True, False, True, False]`"
   ]
  },
  {
   "cell_type": "code",
   "execution_count": 2,
   "id": "738671b7",
   "metadata": {},
   "outputs": [
    {
     "data": {
      "text/plain": [
       "[True, False, True, False]"
      ]
     },
     "execution_count": 2,
     "metadata": {},
     "output_type": "execute_result"
    }
   ],
   "source": [
    "result = []\n",
    "\n",
    "for task in list_of_tasks:\n",
    "    result.append(task[\"is_complete\"])\n",
    "    \n",
    "result"
   ]
  },
  {
   "cell_type": "code",
   "execution_count": 3,
   "id": "7914bc17",
   "metadata": {},
   "outputs": [
    {
     "data": {
      "text/plain": [
       "[True, False, True, False]"
      ]
     },
     "execution_count": 3,
     "metadata": {},
     "output_type": "execute_result"
    }
   ],
   "source": [
    "[task[\"is_complete\"] for task in list_of_tasks]"
   ]
  },
  {
   "cell_type": "markdown",
   "id": "a32ef9fb",
   "metadata": {},
   "source": [
    "**Zadanie:** policzyć średni priorytet wszystkich zadań.\n",
    "\n",
    "1. Wyciągnąć listę wszystkich priorytetów\n",
    "2. Policzyć z nich średnią\n",
    "\n",
    "wynik: `2.0`"
   ]
  },
  {
   "cell_type": "code",
   "execution_count": 4,
   "id": "070f1157",
   "metadata": {},
   "outputs": [
    {
     "data": {
      "text/plain": [
       "[{'description': 'Learn Python', 'is_complete': True, 'priority': 3},\n",
       " {'description': 'Do exercises', 'is_complete': False, 'priority': 2},\n",
       " {'description': 'Drink coffee', 'is_complete': True, 'priority': 1},\n",
       " {'description': 'Finish my work', 'is_complete': False, 'priority': 2}]"
      ]
     },
     "execution_count": 4,
     "metadata": {},
     "output_type": "execute_result"
    }
   ],
   "source": [
    "list_of_tasks"
   ]
  },
  {
   "cell_type": "code",
   "execution_count": 5,
   "id": "8568bcf8",
   "metadata": {},
   "outputs": [
    {
     "data": {
      "text/plain": [
       "2.0"
      ]
     },
     "execution_count": 5,
     "metadata": {},
     "output_type": "execute_result"
    }
   ],
   "source": [
    "result = []\n",
    "\n",
    "for task in list_of_tasks:\n",
    "    result.append(task[\"priority\"])\n",
    "    \n",
    "sum(result) / len(result)"
   ]
  },
  {
   "cell_type": "code",
   "execution_count": 6,
   "id": "0e5f8972",
   "metadata": {},
   "outputs": [],
   "source": [
    "priorities_list = [task[\"priority\"] for task in list_of_tasks]\n",
    "\n",
    "# priorities_avg = sum(priorities_list) / len(priorities_list)\n",
    "# priorities_avg"
   ]
  },
  {
   "cell_type": "markdown",
   "id": "db6de4f8",
   "metadata": {},
   "source": [
    "**Zadanie:** sprawdzić, czy wszystkie zadania zostały ukończone\n",
    "\n",
    "Przypomnienie:\n",
    "\n",
    "```python\n",
    "all([True, True, False]) == False\n",
    "all([True, True, True]) == True\n",
    "```"
   ]
  },
  {
   "cell_type": "code",
   "execution_count": 7,
   "id": "4f39c602",
   "metadata": {},
   "outputs": [
    {
     "data": {
      "text/plain": [
       "[{'description': 'Learn Python', 'is_complete': True, 'priority': 3},\n",
       " {'description': 'Do exercises', 'is_complete': False, 'priority': 2},\n",
       " {'description': 'Drink coffee', 'is_complete': True, 'priority': 1},\n",
       " {'description': 'Finish my work', 'is_complete': False, 'priority': 2}]"
      ]
     },
     "execution_count": 7,
     "metadata": {},
     "output_type": "execute_result"
    }
   ],
   "source": [
    "list_of_tasks"
   ]
  },
  {
   "cell_type": "code",
   "execution_count": 8,
   "id": "f269aa7e",
   "metadata": {},
   "outputs": [
    {
     "data": {
      "text/plain": [
       "False"
      ]
     },
     "execution_count": 8,
     "metadata": {},
     "output_type": "execute_result"
    }
   ],
   "source": [
    "all([task[\"is_complete\"] for task in list_of_tasks])"
   ]
  },
  {
   "cell_type": "code",
   "execution_count": null,
   "id": "ce24cb69",
   "metadata": {},
   "outputs": [],
   "source": [
    "if all([task[\"is_complete\"] for task in list_of_tasks]):\n",
    "    print(\"All tasks are complete\")\n",
    "else:\n",
    "    print(\"Not all tasks are complete\")"
   ]
  },
  {
   "cell_type": "markdown",
   "id": "2e709f4f",
   "metadata": {},
   "source": [
    "---"
   ]
  },
  {
   "cell_type": "markdown",
   "id": "c8751098",
   "metadata": {},
   "source": [
    "**Zadanie:** Wyciągnąć do osobnej listy opisy zadań, ale tylko tych, które jeszcze nie zostały ukończone.\n",
    "\n",
    "wynik: `[\"Do exercises\", \"Finish my work\"]`"
   ]
  },
  {
   "cell_type": "code",
   "execution_count": null,
   "id": "fefb9d74",
   "metadata": {},
   "outputs": [],
   "source": [
    "list_of_tasks"
   ]
  },
  {
   "cell_type": "code",
   "execution_count": null,
   "id": "0bd94f18",
   "metadata": {},
   "outputs": [],
   "source": [
    "result = []\n",
    "\n",
    "for task in list_of_tasks:\n",
    "    if not task[\"is_complete\"]:\n",
    "        result.append(task[\"description\"])\n",
    "        \n",
    "result"
   ]
  },
  {
   "cell_type": "code",
   "execution_count": 9,
   "id": "1f05183c",
   "metadata": {},
   "outputs": [
    {
     "data": {
      "text/plain": [
       "['Do exercises', 'Finish my work']"
      ]
     },
     "execution_count": 9,
     "metadata": {},
     "output_type": "execute_result"
    }
   ],
   "source": [
    "[task[\"description\"] for task in list_of_tasks if not task[\"is_complete\"]]"
   ]
  },
  {
   "cell_type": "markdown",
   "id": "729a2b73",
   "metadata": {},
   "source": [
    "---"
   ]
  },
  {
   "cell_type": "markdown",
   "id": "660ff98b",
   "metadata": {},
   "source": [
    "**Zadanie:** Wyciągnąć do osobnej listy opisy zadań nieukończonych lub \"Done\" jeśli zostały ukończone.\n",
    "\n",
    "wynik: `[\"Done\", \"Do exercises\", \"Done\", \"Finish my work\"]`"
   ]
  },
  {
   "cell_type": "code",
   "execution_count": null,
   "id": "847fd205",
   "metadata": {},
   "outputs": [],
   "source": [
    "result = []\n",
    "\n",
    "for task in list_of_tasks:\n",
    "    if not task[\"is_complete\"]:\n",
    "        result.append(task[\"description\"])\n",
    "    else:\n",
    "        result.append(\"Done\")\n",
    "        \n",
    "result"
   ]
  },
  {
   "cell_type": "code",
   "execution_count": 10,
   "id": "a00d2cd3",
   "metadata": {},
   "outputs": [
    {
     "data": {
      "text/plain": [
       "['Done', 'Do exercises', 'Done', 'Finish my work']"
      ]
     },
     "execution_count": 10,
     "metadata": {},
     "output_type": "execute_result"
    }
   ],
   "source": [
    "[task[\"description\"]\n",
    " if not task[\"is_complete\"] else \"Done\"\n",
    " for task in list_of_tasks]"
   ]
  },
  {
   "cell_type": "markdown",
   "id": "538e5aa5",
   "metadata": {},
   "source": [
    "---\n",
    "---\n",
    "---"
   ]
  },
  {
   "cell_type": "code",
   "execution_count": 11,
   "id": "cbafe669",
   "metadata": {},
   "outputs": [
    {
     "data": {
      "text/plain": [
       "[1, 2, 3, 4, 5, 6, 7]"
      ]
     },
     "execution_count": 11,
     "metadata": {},
     "output_type": "execute_result"
    }
   ],
   "source": [
    "tuple_of_numbers = (1, 2, 3, 4, 5, 6, 7)\n",
    "\n",
    "[item for item in tuple_of_numbers]"
   ]
  },
  {
   "cell_type": "code",
   "execution_count": 12,
   "id": "ea97cb5a",
   "metadata": {},
   "outputs": [
    {
     "data": {
      "text/plain": [
       "[2, 4, 6, 8, 10, 12, 14]"
      ]
     },
     "execution_count": 12,
     "metadata": {},
     "output_type": "execute_result"
    }
   ],
   "source": [
    "[item * 2 for item in tuple_of_numbers]"
   ]
  },
  {
   "cell_type": "code",
   "execution_count": 13,
   "id": "d1ca3548",
   "metadata": {},
   "outputs": [
    {
     "data": {
      "text/plain": [
       "[6, 12, 18]"
      ]
     },
     "execution_count": 13,
     "metadata": {},
     "output_type": "execute_result"
    }
   ],
   "source": [
    "[item * 3 for item in tuple_of_numbers if item % 2 == 0]"
   ]
  },
  {
   "cell_type": "code",
   "execution_count": 14,
   "id": "9466eb73",
   "metadata": {},
   "outputs": [
    {
     "data": {
      "text/plain": [
       "[-1, 6, -1, 12, -1, 18, -1]"
      ]
     },
     "execution_count": 14,
     "metadata": {},
     "output_type": "execute_result"
    }
   ],
   "source": [
    "[item * 3 if item % 2 == 0 else -1 for item in tuple_of_numbers]"
   ]
  },
  {
   "cell_type": "markdown",
   "id": "bdaeb077-d05f-46a6-bb41-d90776475bc2",
   "metadata": {},
   "source": [
    "---"
   ]
  },
  {
   "cell_type": "code",
   "execution_count": 15,
   "id": "8c6d4b99-a62d-4271-b4fd-a6e6a4af490c",
   "metadata": {},
   "outputs": [
    {
     "data": {
      "text/plain": [
       "['hello', 'world', '!']"
      ]
     },
     "execution_count": 15,
     "metadata": {},
     "output_type": "execute_result"
    }
   ],
   "source": [
    "my_list = [\"hello\", \"world\", \"!\"]\n",
    "my_list"
   ]
  },
  {
   "cell_type": "code",
   "execution_count": null,
   "id": "695075ce-a58f-433d-925e-6bce3ca6eb20",
   "metadata": {},
   "outputs": [],
   "source": []
  },
  {
   "cell_type": "code",
   "execution_count": 17,
   "id": "a4f3f1ef-2fe3-42cd-a9d7-b2554cce2bec",
   "metadata": {},
   "outputs": [
    {
     "data": {
      "text/plain": [
       "{'hello': 5, 'world': 5}"
      ]
     },
     "execution_count": 17,
     "metadata": {},
     "output_type": "execute_result"
    }
   ],
   "source": [
    "{item: len(item) for item in my_list if len(item) > 1}"
   ]
  },
  {
   "cell_type": "markdown",
   "id": "f9f7113b-ce6c-4fd8-894a-1f93c2d16dc5",
   "metadata": {},
   "source": [
    "generator expression"
   ]
  },
  {
   "cell_type": "code",
   "execution_count": 20,
   "id": "39cf6753-db01-448e-bf1a-b61b158dbc58",
   "metadata": {},
   "outputs": [
    {
     "data": {
      "text/plain": [
       "<generator object <genexpr> at 0x76a7d3944a00>"
      ]
     },
     "execution_count": 20,
     "metadata": {},
     "output_type": "execute_result"
    }
   ],
   "source": [
    "(i for i in range(10))"
   ]
  },
  {
   "cell_type": "markdown",
   "id": "5ac3cac1",
   "metadata": {},
   "source": [
    "***list comprehension* – podsumowanie:**\n",
    "\n",
    "- Aby w jednej linijce utworzyć listę posługując się do tego pętlą możemy użyć *list comprehension*\n",
    "- Elementem *list comprehension* może być instrukcja warunkowa\n",
    "- Kiedy tylko jest taka możliwość, powinniśmy uzywać *list comprehension*. Dzięki nim kod jest krótszy i bardziej elegancki"
   ]
  },
  {
   "cell_type": "markdown",
   "id": "228625ef",
   "metadata": {},
   "source": [
    "> **ZADANIA**"
   ]
  },
  {
   "cell_type": "markdown",
   "id": "7e7886eb",
   "metadata": {},
   "source": [
    "**Dodatek:**\n",
    "\n",
    "Często przetwarzając złożone struktury danych piszemy wielokrotnie zagnieżdżone pętle, które przechodzą stopniowo po wszystkich ich elementach. \n",
    "\n",
    "Aby lepiej zorientować się w strukturze takiej struktury możemy użyć onlinowych viewerów, np. http://jsonviewer.stack.hu/"
   ]
  },
  {
   "cell_type": "code",
   "execution_count": null,
   "id": "7de25150",
   "metadata": {},
   "outputs": [],
   "source": [
    "nested_structure = {\n",
    "    \"users\": [\n",
    "        {\"username\": \"Admin\", \"password\": \"admin123\"},\n",
    "        {\"username\": \"Andrzej\", \"password\": \"qwerty\"},\n",
    "        {\"username\": \"Andżela\", \"password\": \"hasło\"}\n",
    "    ],\n",
    "    \n",
    "    \"tasks\": [\n",
    "        {\"description\": \"Learn Python\", \"assignee\": \"Andrzej\", \"tags\": [\"edu\", \"dev\"]},\n",
    "        {\"description\": \"Do exercises\", \"assignee\": \"Andżela\", \"tags\": [\"edu\", \"dev\"]},\n",
    "        {\"description\": \"Drink coffee\", \"assignee\": \"Admin\", \"tags\": [\"relax\"]},\n",
    "        {\"description\": \"Finish my work\", \"assignee\": \"Andrzej\", \"tags\": [\"work\", \"dev\"]}\n",
    "    ]\n",
    "}"
   ]
  },
  {
   "cell_type": "code",
   "execution_count": null,
   "id": "114c1855",
   "metadata": {},
   "outputs": [],
   "source": [
    "for key in nested_structure:\n",
    "    if key == \"tasks\":\n",
    "        for task in nested_structure[key]:\n",
    "            for tag in task[\"tags\"]:\n",
    "                print(tag)\n",
    "            \n",
    "            print(\"\\n\")"
   ]
  },
  {
   "cell_type": "markdown",
   "id": "6cd67c00",
   "metadata": {},
   "source": [
    "> **ZADANIA**"
   ]
  }
 ],
 "metadata": {
  "kernelspec": {
   "display_name": "Python 3 (ipykernel)",
   "language": "python",
   "name": "python3"
  },
  "language_info": {
   "codemirror_mode": {
    "name": "ipython",
    "version": 3
   },
   "file_extension": ".py",
   "mimetype": "text/x-python",
   "name": "python",
   "nbconvert_exporter": "python",
   "pygments_lexer": "ipython3",
   "version": "3.11.5"
  },
  "toc": {
   "base_numbering": 1,
   "nav_menu": {},
   "number_sections": true,
   "sideBar": true,
   "skip_h1_title": true,
   "title_cell": "Table of Contents",
   "title_sidebar": "Contents",
   "toc_cell": false,
   "toc_position": {},
   "toc_section_display": true,
   "toc_window_display": false
  },
  "varInspector": {
   "cols": {
    "lenName": 16,
    "lenType": 16,
    "lenVar": 40
   },
   "kernels_config": {
    "python": {
     "delete_cmd_postfix": "",
     "delete_cmd_prefix": "del ",
     "library": "var_list.py",
     "varRefreshCmd": "print(var_dic_list())"
    },
    "r": {
     "delete_cmd_postfix": ") ",
     "delete_cmd_prefix": "rm(",
     "library": "var_list.r",
     "varRefreshCmd": "cat(var_dic_list()) "
    }
   },
   "types_to_exclude": [
    "module",
    "function",
    "builtin_function_or_method",
    "instance",
    "_Feature"
   ],
   "window_display": false
  }
 },
 "nbformat": 4,
 "nbformat_minor": 5
}
