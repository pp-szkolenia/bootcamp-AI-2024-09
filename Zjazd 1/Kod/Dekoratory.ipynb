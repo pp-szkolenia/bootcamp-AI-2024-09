{
 "cells": [
  {
   "cell_type": "markdown",
   "id": "da3c8cc1",
   "metadata": {},
   "source": [
    "# Dekoratory"
   ]
  },
  {
   "cell_type": "markdown",
   "id": "ba4bc23c",
   "metadata": {},
   "source": [
    "Ogólna idea - modyfikacja działania funkcji bez ingerowania w tę funkcję. Przykłady:\n",
    "- dodanie mierzenia czasu\n",
    "- dodanie logowania do pliku\n",
    "- obsługa błędów\n",
    "\n",
    "Często nie chcemy modyfikować kodu funkcji, chociażby dlatego, żeby nie zmniejszać czytelności. Albo jeśli pewne zmiany chcemy wprowadzić do wielu funkcji to zamiast poprawiać w każdej, lepiej napisać jedną modyfikację."
   ]
  },
  {
   "cell_type": "markdown",
   "id": "df013a10",
   "metadata": {},
   "source": [
    "## Przykład 1 – dzielenie przez 0"
   ]
  },
  {
   "cell_type": "code",
   "execution_count": 2,
   "id": "13dce871",
   "metadata": {},
   "outputs": [],
   "source": [
    "def divide(a, b):\n",
    "    return a / b"
   ]
  },
  {
   "cell_type": "code",
   "execution_count": 4,
   "id": "c57f5dac",
   "metadata": {},
   "outputs": [
    {
     "ename": "ZeroDivisionError",
     "evalue": "division by zero",
     "output_type": "error",
     "traceback": [
      "\u001b[0;31m---------------------------------------------------------------------------\u001b[0m",
      "\u001b[0;31mZeroDivisionError\u001b[0m                         Traceback (most recent call last)",
      "Cell \u001b[0;32mIn[4], line 1\u001b[0m\n\u001b[0;32m----> 1\u001b[0m divide(\u001b[38;5;241m6\u001b[39m, \u001b[38;5;241m0\u001b[39m)\n",
      "Cell \u001b[0;32mIn[2], line 2\u001b[0m, in \u001b[0;36mdivide\u001b[0;34m(a, b)\u001b[0m\n\u001b[1;32m      1\u001b[0m \u001b[38;5;28;01mdef\u001b[39;00m \u001b[38;5;21mdivide\u001b[39m(a, b):\n\u001b[0;32m----> 2\u001b[0m     \u001b[38;5;28;01mreturn\u001b[39;00m a \u001b[38;5;241m/\u001b[39m b\n",
      "\u001b[0;31mZeroDivisionError\u001b[0m: division by zero"
     ]
    }
   ],
   "source": [
    "divide(6, 0)  # divide(6, 0) błąd"
   ]
  },
  {
   "cell_type": "markdown",
   "id": "e62b60ba",
   "metadata": {},
   "source": [
    "Funkcja spełnia swoje zadanie, ale nie ma obsługi błędów. W takim razie modyfikujemy jej ciało"
   ]
  },
  {
   "cell_type": "code",
   "execution_count": 10,
   "id": "e57be053",
   "metadata": {},
   "outputs": [],
   "source": [
    "def divide(a, b):\n",
    "    if b == 0:\n",
    "        return None\n",
    "    else:\n",
    "        return a / b"
   ]
  },
  {
   "cell_type": "code",
   "execution_count": 11,
   "id": "0433ae15",
   "metadata": {},
   "outputs": [
    {
     "data": {
      "text/plain": [
       "True"
      ]
     },
     "execution_count": 11,
     "metadata": {},
     "output_type": "execute_result"
    }
   ],
   "source": [
    "divide(6, 0) is None"
   ]
  },
  {
   "cell_type": "markdown",
   "id": "c03a2b71",
   "metadata": {},
   "source": [
    "Modyfikacja obsługuje błąd, ale wymaga zmiany w funkcji. Zamiast tego, obsługę błędów można obsłużyć w innej funkcji"
   ]
  },
  {
   "cell_type": "code",
   "execution_count": 12,
   "id": "badafb96",
   "metadata": {},
   "outputs": [],
   "source": [
    "def divide(a, b):\n",
    "    return a / b"
   ]
  },
  {
   "cell_type": "markdown",
   "id": "c516bec7-b43e-469c-a3cd-9f3e6938009c",
   "metadata": {},
   "source": [
    "Poniższe funkcja przyjmuje jako argument funkcję `divide` i zwraca jej zmodyfikowaną wersję."
   ]
  },
  {
   "cell_type": "code",
   "execution_count": 13,
   "id": "2930c740",
   "metadata": {},
   "outputs": [],
   "source": [
    "def modify_division_function_to_handle_division_by_zero(divide_function): \n",
    "    def wrapper(a, b):  # wrapper to zmodyfikowana wersja funkcji\n",
    "        if b == 0:\n",
    "            return None\n",
    "        else:\n",
    "            return divide_function(a, b)  # nie duplikujemy kodu z funkcji dzielącej\n",
    "    \n",
    "    # Skąd w tym miejscu wiadomo czym jest a i b?\n",
    "    # Nie wiadomo. po prostu zwracamy funkcję, która będzie miała takie parametry\n",
    "    \n",
    "    return wrapper  # zwraca ulepszoną funkcję"
   ]
  },
  {
   "cell_type": "code",
   "execution_count": 15,
   "id": "3f44c467",
   "metadata": {},
   "outputs": [
    {
     "ename": "ZeroDivisionError",
     "evalue": "division by zero",
     "output_type": "error",
     "traceback": [
      "\u001b[0;31m---------------------------------------------------------------------------\u001b[0m",
      "\u001b[0;31mZeroDivisionError\u001b[0m                         Traceback (most recent call last)",
      "Cell \u001b[0;32mIn[15], line 1\u001b[0m\n\u001b[0;32m----> 1\u001b[0m divide(\u001b[38;5;241m6\u001b[39m, \u001b[38;5;241m0\u001b[39m)\n",
      "Cell \u001b[0;32mIn[12], line 2\u001b[0m, in \u001b[0;36mdivide\u001b[0;34m(a, b)\u001b[0m\n\u001b[1;32m      1\u001b[0m \u001b[38;5;28;01mdef\u001b[39;00m \u001b[38;5;21mdivide\u001b[39m(a, b):\n\u001b[0;32m----> 2\u001b[0m     \u001b[38;5;28;01mreturn\u001b[39;00m a \u001b[38;5;241m/\u001b[39m b\n",
      "\u001b[0;31mZeroDivisionError\u001b[0m: division by zero"
     ]
    }
   ],
   "source": [
    "divide(6, 0)  # divide(6, 0) spowoduje błąd"
   ]
  },
  {
   "cell_type": "code",
   "execution_count": 16,
   "id": "bc7fa2a3",
   "metadata": {},
   "outputs": [
    {
     "data": {
      "text/plain": [
       "<function __main__.modify_division_function_to_handle_division_by_zero.<locals>.wrapper(a, b)>"
      ]
     },
     "execution_count": 16,
     "metadata": {},
     "output_type": "execute_result"
    }
   ],
   "source": [
    "modify_division_function_to_handle_division_by_zero(divide)  # to zwraca wrapper"
   ]
  },
  {
   "cell_type": "code",
   "execution_count": 17,
   "id": "fe2c3672",
   "metadata": {},
   "outputs": [
    {
     "data": {
      "text/plain": [
       "2.0"
      ]
     },
     "execution_count": 17,
     "metadata": {},
     "output_type": "execute_result"
    }
   ],
   "source": [
    "modify_division_function_to_handle_division_by_zero(divide)(6, 3)"
   ]
  },
  {
   "cell_type": "code",
   "execution_count": 19,
   "id": "96de58b4",
   "metadata": {},
   "outputs": [],
   "source": [
    "modify_division_function_to_handle_division_by_zero(divide)(6, 0)"
   ]
  },
  {
   "cell_type": "markdown",
   "id": "376a6663",
   "metadata": {},
   "source": [
    "Funkcji divide jako takiej nigdy nie chcemy wywoływać bo jest podatna na błąd"
   ]
  },
  {
   "cell_type": "markdown",
   "id": "dbc3b59f",
   "metadata": {},
   "source": [
    "---"
   ]
  },
  {
   "cell_type": "code",
   "execution_count": 32,
   "id": "a4b24218",
   "metadata": {},
   "outputs": [],
   "source": [
    "def handle_zero_division(divide_function):\n",
    "    def wrapper(a, b):\n",
    "        if b == 0:\n",
    "            return None\n",
    "        else:\n",
    "            return divide_function(a, b)    \n",
    "    \n",
    "    return wrapper\n",
    "\n",
    "\n",
    "@handle_zero_division\n",
    "def divide(a, b):\n",
    "    return a / b"
   ]
  },
  {
   "cell_type": "code",
   "execution_count": 33,
   "id": "0b28607a",
   "metadata": {},
   "outputs": [
    {
     "data": {
      "text/plain": [
       "<function __main__.handle_zero_division.<locals>.wrapper(a, b)>"
      ]
     },
     "execution_count": 33,
     "metadata": {},
     "output_type": "execute_result"
    }
   ],
   "source": [
    "divide"
   ]
  },
  {
   "cell_type": "code",
   "execution_count": 28,
   "id": "8d399cf5",
   "metadata": {},
   "outputs": [
    {
     "data": {
      "text/plain": [
       "2.0"
      ]
     },
     "execution_count": 28,
     "metadata": {},
     "output_type": "execute_result"
    }
   ],
   "source": [
    "divide(6, 3)"
   ]
  },
  {
   "cell_type": "code",
   "execution_count": 29,
   "id": "773f82fb",
   "metadata": {},
   "outputs": [],
   "source": [
    "divide(6, 0)"
   ]
  },
  {
   "cell_type": "markdown",
   "id": "f856b1de",
   "metadata": {},
   "source": [
    "Powyższy zapis jest tak naprawdę wywołaniem funkcji `handle_zero_division` do której przekazujemy `divide`. To zwraca wrapper, do którego następnie przekazujemy argumenty. To co zwróci wrapper jest finalnym wynikiem powyższej linii."
   ]
  },
  {
   "cell_type": "markdown",
   "id": "7793b939",
   "metadata": {},
   "source": [
    "Wydaje się że jest to strzelanie z armaty do wróbla, ale teraz tego walidatora możemy użyć również do innych funkcji, a nie tylko do tej jednej."
   ]
  },
  {
   "cell_type": "code",
   "execution_count": 34,
   "id": "bdb718e7",
   "metadata": {},
   "outputs": [],
   "source": [
    "def handle_zero_division(func):    # func - zwykle tak piszemy\n",
    "    def wrapper(*args, **kwargs):  # args, kwargs - jesteśmy w stanie obsłużyć sytuacje gdzie są inne argumenty\n",
    "        if args[1] == 0:\n",
    "            return None\n",
    "        else:\n",
    "            return func(*args, **kwargs)    \n",
    "    \n",
    "    return wrapper\n",
    "\n",
    "\n",
    "@handle_zero_division\n",
    "def divide(a, b):\n",
    "    return a / b\n",
    "\n",
    "\n",
    "@handle_zero_division\n",
    "def modulo(a, b):\n",
    "    return a % b"
   ]
  },
  {
   "cell_type": "code",
   "execution_count": 39,
   "id": "46ec204e",
   "metadata": {},
   "outputs": [
    {
     "ename": "IndexError",
     "evalue": "tuple index out of range",
     "output_type": "error",
     "traceback": [
      "\u001b[0;31m---------------------------------------------------------------------------\u001b[0m",
      "\u001b[0;31mIndexError\u001b[0m                                Traceback (most recent call last)",
      "Cell \u001b[0;32mIn[39], line 1\u001b[0m\n\u001b[0;32m----> 1\u001b[0m divide(a\u001b[38;5;241m=\u001b[39m\u001b[38;5;241m6\u001b[39m, b\u001b[38;5;241m=\u001b[39m\u001b[38;5;241m12\u001b[39m)\n",
      "Cell \u001b[0;32mIn[34], line 3\u001b[0m, in \u001b[0;36mhandle_zero_division.<locals>.wrapper\u001b[0;34m(*args, **kwargs)\u001b[0m\n\u001b[1;32m      2\u001b[0m \u001b[38;5;28;01mdef\u001b[39;00m \u001b[38;5;21mwrapper\u001b[39m(\u001b[38;5;241m*\u001b[39margs, \u001b[38;5;241m*\u001b[39m\u001b[38;5;241m*\u001b[39mkwargs):  \u001b[38;5;66;03m# args, kwargs - jesteśmy w stanie obsłużyć sytuacje gdzie są inne argumenty\u001b[39;00m\n\u001b[0;32m----> 3\u001b[0m     \u001b[38;5;28;01mif\u001b[39;00m args[\u001b[38;5;241m1\u001b[39m] \u001b[38;5;241m==\u001b[39m \u001b[38;5;241m0\u001b[39m:\n\u001b[1;32m      4\u001b[0m         \u001b[38;5;28;01mreturn\u001b[39;00m \u001b[38;5;28;01mNone\u001b[39;00m\n\u001b[1;32m      5\u001b[0m     \u001b[38;5;28;01melse\u001b[39;00m:\n",
      "\u001b[0;31mIndexError\u001b[0m: tuple index out of range"
     ]
    }
   ],
   "source": [
    "divide(a=6, b=12)"
   ]
  },
  {
   "cell_type": "code",
   "execution_count": 38,
   "id": "45e32974",
   "metadata": {},
   "outputs": [],
   "source": [
    "modulo(6, 0)"
   ]
  },
  {
   "cell_type": "markdown",
   "id": "5e7a9665",
   "metadata": {},
   "source": [
    "## Przykład 2 – transformacja wartości zwracanej przez funkcję"
   ]
  },
  {
   "cell_type": "code",
   "execution_count": 40,
   "id": "620c4250",
   "metadata": {},
   "outputs": [],
   "source": [
    "def return_argument(x):\n",
    "    return x"
   ]
  },
  {
   "cell_type": "code",
   "execution_count": 42,
   "id": "13b6bf50",
   "metadata": {},
   "outputs": [
    {
     "data": {
      "text/plain": [
       "10"
      ]
     },
     "execution_count": 42,
     "metadata": {},
     "output_type": "execute_result"
    }
   ],
   "source": [
    "return_argument(10)"
   ]
  },
  {
   "cell_type": "code",
   "execution_count": 43,
   "id": "2dcf776d",
   "metadata": {},
   "outputs": [],
   "source": [
    "def square(func):\n",
    "    def wrapper(*args, **kwargs):\n",
    "        result = func(*args, **kwargs)\n",
    "        return result ** 2\n",
    "\n",
    "    return wrapper"
   ]
  },
  {
   "cell_type": "code",
   "execution_count": 44,
   "id": "5d42cae3",
   "metadata": {},
   "outputs": [],
   "source": [
    "@square\n",
    "def return_argument(x):\n",
    "    return x"
   ]
  },
  {
   "cell_type": "code",
   "execution_count": 45,
   "id": "ff8638bf",
   "metadata": {},
   "outputs": [
    {
     "data": {
      "text/plain": [
       "16"
      ]
     },
     "execution_count": 45,
     "metadata": {},
     "output_type": "execute_result"
    }
   ],
   "source": [
    "return_argument(4)"
   ]
  },
  {
   "cell_type": "markdown",
   "id": "c55bf693",
   "metadata": {},
   "source": [
    "## Przykład 3 – bardziej abstrakcyjny, obrazuje ideę dekoratora"
   ]
  },
  {
   "cell_type": "code",
   "execution_count": 48,
   "id": "9d37440b-d6e4-418d-837a-c1f494ae23e0",
   "metadata": {},
   "outputs": [
    {
     "data": {
      "text/plain": [
       "<method 'upper' of 'str' objects>"
      ]
     },
     "execution_count": 48,
     "metadata": {},
     "output_type": "execute_result"
    }
   ],
   "source": [
    "str.upper"
   ]
  },
  {
   "cell_type": "code",
   "execution_count": 55,
   "id": "e2956236",
   "metadata": {},
   "outputs": [],
   "source": [
    "def my_decorator(_):\n",
    "    return str.upper\n",
    "\n",
    "\n",
    "\n",
    "@my_decorator\n",
    "def my_function(_):\n",
    "    return 1"
   ]
  },
  {
   "cell_type": "markdown",
   "id": "c822a357",
   "metadata": {},
   "source": [
    "Pytanie: co zwroci wywołanie funkcji?"
   ]
  },
  {
   "cell_type": "code",
   "execution_count": 56,
   "id": "19b2338f",
   "metadata": {},
   "outputs": [
    {
     "data": {
      "text/plain": [
       "'HELLO'"
      ]
     },
     "execution_count": 56,
     "metadata": {},
     "output_type": "execute_result"
    }
   ],
   "source": [
    "my_function(\"hello\")"
   ]
  },
  {
   "cell_type": "code",
   "execution_count": null,
   "id": "be20c0db-9113-4d68-930a-f1d680b3c359",
   "metadata": {},
   "outputs": [],
   "source": []
  },
  {
   "cell_type": "code",
   "execution_count": null,
   "id": "0e0c3fee-469d-4f19-8dd3-5dd7fec1e538",
   "metadata": {},
   "outputs": [],
   "source": []
  },
  {
   "cell_type": "code",
   "execution_count": 52,
   "id": "909320fa-9e46-4d5e-817c-41cf050f0838",
   "metadata": {},
   "outputs": [
    {
     "data": {
      "text/plain": [
       "'upper'"
      ]
     },
     "execution_count": 52,
     "metadata": {},
     "output_type": "execute_result"
    }
   ],
   "source": [
    "my_function.__name__"
   ]
  },
  {
   "cell_type": "markdown",
   "id": "1304d8e2-4778-4b39-9597-5fe4036a090a",
   "metadata": {},
   "source": [
    "> **ZADANIA**"
   ]
  },
  {
   "cell_type": "markdown",
   "id": "7b0be1c3",
   "metadata": {},
   "source": [
    "## Wiele dekoratorów – przykład 1"
   ]
  },
  {
   "cell_type": "code",
   "execution_count": 57,
   "id": "89bb2bb5-2bea-455b-ac29-1c76a5e88ce8",
   "metadata": {},
   "outputs": [],
   "source": [
    "import time"
   ]
  },
  {
   "cell_type": "code",
   "execution_count": 62,
   "id": "f48bc108-ffec-4ee3-93a4-229a1c9e84c2",
   "metadata": {},
   "outputs": [
    {
     "data": {
      "text/plain": [
       "1725783010.0341914"
      ]
     },
     "execution_count": 62,
     "metadata": {},
     "output_type": "execute_result"
    }
   ],
   "source": [
    "time.time()"
   ]
  },
  {
   "cell_type": "code",
   "execution_count": 69,
   "id": "ee4303b4-7138-44b7-a57a-6b73e9791a65",
   "metadata": {},
   "outputs": [],
   "source": [
    "start = time.perf_counter()"
   ]
  },
  {
   "cell_type": "code",
   "execution_count": 70,
   "id": "d15ee192-3bc7-4b45-a10e-0749be2b7f91",
   "metadata": {},
   "outputs": [],
   "source": [
    "end = time.perf_counter()"
   ]
  },
  {
   "cell_type": "code",
   "execution_count": 71,
   "id": "f45e2b27",
   "metadata": {},
   "outputs": [],
   "source": [
    "import time\n",
    "\n",
    "\n",
    "def validate_division(func):\n",
    "    def wrapper(*args, **kwargs):\n",
    "        if args[1] == 0:\n",
    "            return None\n",
    "        else:\n",
    "            return func(*args, **kwargs)\n",
    "    \n",
    "    return wrapper\n",
    "\n",
    "\n",
    "def measure_time(func):\n",
    "    def wrapper(*args, **kwargs):\n",
    "        start = time.perf_counter()\n",
    "        result = func(*args, **kwargs)\n",
    "        stop = time.perf_counter()\n",
    "        print(\"Czas: \", stop - start)\n",
    "        return result\n",
    "\n",
    "    return wrapper\n",
    "\n",
    "\n",
    "def pure_divide(a, b):\n",
    "    return a / b\n",
    "\n",
    "\n",
    "@measure_time\n",
    "@validate_division\n",
    "def divide(a, b):\n",
    "    return a / b"
   ]
  },
  {
   "cell_type": "code",
   "execution_count": 77,
   "id": "fec26e64-cdb8-4420-b250-259657356a87",
   "metadata": {},
   "outputs": [
    {
     "name": "stdout",
     "output_type": "stream",
     "text": [
      "Czas:  5.166002665646374e-06\n"
     ]
    }
   ],
   "source": [
    "divide(10, 0)"
   ]
  },
  {
   "cell_type": "code",
   "execution_count": 79,
   "id": "2dec83e5-e5bd-4f6a-a402-79479295944c",
   "metadata": {},
   "outputs": [
    {
     "name": "stdout",
     "output_type": "stream",
     "text": [
      "Czas:  1.5830009942874312e-06\n"
     ]
    }
   ],
   "source": [
    "measure_time(validate_division(pure_divide))(10, 0)"
   ]
  },
  {
   "cell_type": "markdown",
   "id": "a1d09d2d-89d4-4695-b1d9-6fc5709be341",
   "metadata": {},
   "source": [
    "---"
   ]
  },
  {
   "cell_type": "code",
   "execution_count": 80,
   "id": "2f82d625-1893-4f6f-90df-9dc6488594c2",
   "metadata": {},
   "outputs": [],
   "source": [
    "@validate_division\n",
    "@measure_time\n",
    "def divide(a, b):\n",
    "    return a / b"
   ]
  },
  {
   "cell_type": "code",
   "execution_count": 81,
   "id": "38122f66-fdb3-473b-b2f0-d74ee0871f92",
   "metadata": {},
   "outputs": [],
   "source": [
    "divide(10, 0)"
   ]
  },
  {
   "cell_type": "code",
   "execution_count": 82,
   "id": "237d34e5-e674-432b-8183-2e73ad03340d",
   "metadata": {},
   "outputs": [],
   "source": [
    "validate_division(measure_time(pure_divide))(10, 0)"
   ]
  },
  {
   "cell_type": "markdown",
   "id": "18b57ab3-f3a7-437a-94b7-86764aaefb28",
   "metadata": {},
   "source": [
    "Nie ma printowania czasu, ponieważ tutaj najpierw wywołujemy funkcję walidującą, a ona po sprawdzeniu czy b==0 od razu zwraca None zamiast wywoływać kolejne funkcje.\n",
    "\n",
    "Kiedy b!=0, czas będzie printowany."
   ]
  },
  {
   "cell_type": "code",
   "execution_count": 83,
   "id": "4fe310c1-57ad-44d7-8bfc-3932622596c2",
   "metadata": {},
   "outputs": [
    {
     "name": "stdout",
     "output_type": "stream",
     "text": [
      "Czas:  1.648004399612546e-06\n"
     ]
    },
    {
     "data": {
      "text/plain": [
       "10.0"
      ]
     },
     "execution_count": 83,
     "metadata": {},
     "output_type": "execute_result"
    }
   ],
   "source": [
    "divide(10, 1)"
   ]
  },
  {
   "cell_type": "markdown",
   "id": "e3ecdd81",
   "metadata": {},
   "source": [
    "## Wiele dekoratorów – przykład 2"
   ]
  },
  {
   "cell_type": "code",
   "execution_count": 86,
   "id": "81360d32",
   "metadata": {},
   "outputs": [],
   "source": [
    "def add_exclamation(func):\n",
    "    def wrapper(*args, **kwargs):\n",
    "        result = func(*args, **kwargs)\n",
    "        result += \"!\"\n",
    "        return result\n",
    "    return wrapper\n",
    "\n",
    "\n",
    "def add_quotation(func):\n",
    "    def wrapper(*args, **kwargs):\n",
    "        result = func(*args, **kwargs)\n",
    "        result += \"?\"\n",
    "        return result\n",
    "    return wrapper\n",
    "\n",
    "\n",
    "@add_exclamation\n",
    "@add_quotation\n",
    "def make_upper(text):\n",
    "    return text.upper()"
   ]
  },
  {
   "cell_type": "code",
   "execution_count": 88,
   "id": "856d35b1",
   "metadata": {},
   "outputs": [
    {
     "data": {
      "text/plain": [
       "'HELLO?!'"
      ]
     },
     "execution_count": 88,
     "metadata": {},
     "output_type": "execute_result"
    }
   ],
   "source": [
    "make_upper(\"hello\")"
   ]
  },
  {
   "cell_type": "code",
   "execution_count": 90,
   "id": "88c69324-5d4c-42ef-a56c-611771126714",
   "metadata": {},
   "outputs": [
    {
     "data": {
      "text/plain": [
       "'HELLO?!'"
      ]
     },
     "execution_count": 90,
     "metadata": {},
     "output_type": "execute_result"
    }
   ],
   "source": [
    "add_exclamation(add_quotation(str.upper))(\"hello\")"
   ]
  },
  {
   "cell_type": "markdown",
   "id": "5e8e092a",
   "metadata": {},
   "source": [
    "Wołamy add_exclamation, które woła add_quotation, które woła make_upper"
   ]
  },
  {
   "cell_type": "markdown",
   "id": "291c5b6c-2b8b-44fe-b868-b3e32f6a547d",
   "metadata": {},
   "source": [
    "> **ZADANIA**"
   ]
  },
  {
   "cell_type": "markdown",
   "id": "7acd7167",
   "metadata": {},
   "source": [
    "## Parametryzacja dekoratora"
   ]
  },
  {
   "cell_type": "code",
   "execution_count": 94,
   "id": "4d9369e1-b8a1-4ab7-b9ae-89380156797f",
   "metadata": {},
   "outputs": [
    {
     "data": {
      "text/plain": [
       "2"
      ]
     },
     "execution_count": 94,
     "metadata": {},
     "output_type": "execute_result"
    }
   ],
   "source": [
    "def round_result(func):\n",
    "    def wrapper(*args, **kwargs):\n",
    "        result = func(*args, **kwargs)\n",
    "        rounded_result = round(result)\n",
    "        return rounded_result\n",
    "\n",
    "    return wrapper\n",
    "\n",
    "\n",
    "\n",
    "@round_result\n",
    "def calculate_average(a, b):\n",
    "    return (a + b) / 2\n",
    "\n",
    "\n",
    "calculate_average(1.242342, 2.23)"
   ]
  },
  {
   "cell_type": "markdown",
   "id": "09eef7a2-16ef-457b-b53c-ba97275d8af6",
   "metadata": {},
   "source": [
    "---"
   ]
  },
  {
   "cell_type": "code",
   "execution_count": 102,
   "id": "e4bdf948",
   "metadata": {},
   "outputs": [
    {
     "ename": "NameError",
     "evalue": "name 'log' is not defined",
     "output_type": "error",
     "traceback": [
      "\u001b[0;31m---------------------------------------------------------------------------\u001b[0m",
      "\u001b[0;31mNameError\u001b[0m                                 Traceback (most recent call last)",
      "Cell \u001b[0;32mIn[102], line 7\u001b[0m\n\u001b[1;32m      3\u001b[0m         \u001b[38;5;28;01mreturn\u001b[39;00m \u001b[38;5;28;01mlambda\u001b[39;00m \u001b[38;5;241m*\u001b[39margs, \u001b[38;5;241m*\u001b[39m\u001b[38;5;241m*\u001b[39mkwargs: \u001b[38;5;28mround\u001b[39m(func(\u001b[38;5;241m*\u001b[39margs, \u001b[38;5;241m*\u001b[39m\u001b[38;5;241m*\u001b[39mkwargs), param)\n\u001b[1;32m      4\u001b[0m     \u001b[38;5;28;01mreturn\u001b[39;00m round_result\n\u001b[0;32m----> 7\u001b[0m \u001b[38;5;129m@log\u001b[39m\n\u001b[1;32m      8\u001b[0m \u001b[38;5;129m@actual_rounding_decorator\u001b[39m(\u001b[38;5;241m3\u001b[39m)\n\u001b[1;32m      9\u001b[0m \u001b[38;5;28;01mdef\u001b[39;00m \u001b[38;5;21mcalculate_average\u001b[39m(a, b):\n\u001b[1;32m     10\u001b[0m     \u001b[38;5;28;01mreturn\u001b[39;00m (a \u001b[38;5;241m+\u001b[39m b) \u001b[38;5;241m/\u001b[39m \u001b[38;5;241m2\u001b[39m\n\u001b[1;32m     13\u001b[0m calculate_average(\u001b[38;5;241m1.242342\u001b[39m, \u001b[38;5;241m2.23\u001b[39m)\n",
      "\u001b[0;31mNameError\u001b[0m: name 'log' is not defined"
     ]
    }
   ],
   "source": [
    "def actual_rounding_decorator(param):\n",
    "    def round_result(func):\n",
    "        return lambda *args, **kwargs: round(func(*args, **kwargs), param)\n",
    "    return round_result\n",
    "\n",
    "\n",
    "@log\n",
    "@actual_rounding_decorator(3)\n",
    "def calculate_average(a, b):\n",
    "    return (a + b) / 2\n",
    "\n",
    "\n",
    "calculate_average(1.242342, 2.23)"
   ]
  },
  {
   "cell_type": "code",
   "execution_count": null,
   "id": "2e9e6c92-6895-4a5e-aa63-a61874538fb8",
   "metadata": {},
   "outputs": [],
   "source": []
  }
 ],
 "metadata": {
  "kernelspec": {
   "display_name": "Python 3 (ipykernel)",
   "language": "python",
   "name": "python3"
  },
  "language_info": {
   "codemirror_mode": {
    "name": "ipython",
    "version": 3
   },
   "file_extension": ".py",
   "mimetype": "text/x-python",
   "name": "python",
   "nbconvert_exporter": "python",
   "pygments_lexer": "ipython3",
   "version": "3.11.5"
  },
  "toc": {
   "base_numbering": 1,
   "nav_menu": {},
   "number_sections": true,
   "sideBar": true,
   "skip_h1_title": true,
   "title_cell": "Table of Contents",
   "title_sidebar": "Contents",
   "toc_cell": false,
   "toc_position": {},
   "toc_section_display": true,
   "toc_window_display": false
  },
  "varInspector": {
   "cols": {
    "lenName": 16,
    "lenType": 16,
    "lenVar": 40
   },
   "kernels_config": {
    "python": {
     "delete_cmd_postfix": "",
     "delete_cmd_prefix": "del ",
     "library": "var_list.py",
     "varRefreshCmd": "print(var_dic_list())"
    },
    "r": {
     "delete_cmd_postfix": ") ",
     "delete_cmd_prefix": "rm(",
     "library": "var_list.r",
     "varRefreshCmd": "cat(var_dic_list()) "
    }
   },
   "types_to_exclude": [
    "module",
    "function",
    "builtin_function_or_method",
    "instance",
    "_Feature"
   ],
   "window_display": false
  }
 },
 "nbformat": 4,
 "nbformat_minor": 5
}
