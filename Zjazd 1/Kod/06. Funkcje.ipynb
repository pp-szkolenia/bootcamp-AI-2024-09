{
 "cells": [
  {
   "cell_type": "markdown",
   "id": "27a31713",
   "metadata": {},
   "source": [
    "# Funkcje\n",
    "\n",
    "## Procedura\n",
    "Procedura - funkcja, która niczego nie zwraca, ale wykonuje pewne operacje.\n",
    "\n",
    "Za każdym razem, kiedy wywołamy funkcję, zostaną wykonane instrukcje w niej zawarte."
   ]
  },
  {
   "cell_type": "code",
   "execution_count": null,
   "id": "46242a0c",
   "metadata": {},
   "outputs": [],
   "source": [
    "def create_task_from_input():\n",
    "    description = input(\"Enter description: \")\n",
    "    assignee = input(\"Enter assignee: \")\n",
    "\n",
    "    task_dict = {\n",
    "        \"description\": description,\n",
    "        \"assignee\": assignee,\n",
    "        \"time_logged\": 0,\n",
    "        \"is_complete\": False,\n",
    "        \"comments\": []\n",
    "    }\n",
    "    \n",
    "    print(task_dict)"
   ]
  },
  {
   "cell_type": "code",
   "execution_count": null,
   "id": "3883edd8",
   "metadata": {
    "scrolled": true
   },
   "outputs": [],
   "source": [
    "create_task_from_input"
   ]
  },
  {
   "cell_type": "code",
   "execution_count": null,
   "id": "64da3a3f",
   "metadata": {},
   "outputs": [],
   "source": [
    "create_task_from_input()"
   ]
  },
  {
   "cell_type": "markdown",
   "id": "6c1e03ca",
   "metadata": {},
   "source": [
    "---\n",
    "\n",
    "**Zmienne lokalne** to te widoczne tylko **wewnątrz funkcji**.\n",
    "\n",
    "**Zmienne globalne** to ten widoczne w **całym pliku** (module)."
   ]
  },
  {
   "cell_type": "markdown",
   "id": "67c691e2",
   "metadata": {},
   "source": [
    "Pytanie - co się wydarzy po uruchomieniu poniższej komórki?"
   ]
  },
  {
   "cell_type": "code",
   "execution_count": null,
   "id": "8c33c699",
   "metadata": {},
   "outputs": [],
   "source": [
    "a = 1  # global variable\n",
    "\n",
    "\n",
    "def func():\n",
    "    print(a)\n",
    "    b = 2  # local variable\n",
    "    \n",
    "\n",
    "print(\"Function defined\")"
   ]
  },
  {
   "cell_type": "code",
   "execution_count": null,
   "id": "8cadbf61",
   "metadata": {},
   "outputs": [],
   "source": [
    "func()"
   ]
  },
  {
   "cell_type": "code",
   "execution_count": null,
   "id": "6c4c8c6b",
   "metadata": {},
   "outputs": [],
   "source": [
    "b"
   ]
  },
  {
   "cell_type": "markdown",
   "id": "1ddba7a1",
   "metadata": {},
   "source": [
    "---"
   ]
  },
  {
   "cell_type": "code",
   "execution_count": null,
   "id": "936a1355",
   "metadata": {},
   "outputs": [],
   "source": [
    "def create_dev_space():\n",
    "    space_name = \"Dev\"\n",
    "    \n",
    "    space_dict = {\n",
    "        \"name\": space_name,\n",
    "        \"tasks\": []\n",
    "    }\n",
    "    \n",
    "    print(space_dict)"
   ]
  },
  {
   "cell_type": "code",
   "execution_count": null,
   "id": "84c7f679",
   "metadata": {},
   "outputs": [],
   "source": [
    "create_dev_space()"
   ]
  },
  {
   "cell_type": "markdown",
   "id": "e2cb9db1",
   "metadata": {},
   "source": [
    "Powyższa funkcja stworzy space o nazwie \"Dev\" za każdym razem, kiedy zostanie wywołana. Nie daje jednak możliwości zmiany nazwy space'a. Do tego będą potrzebne **parametry funkcji**."
   ]
  },
  {
   "cell_type": "markdown",
   "id": "dffebc2f",
   "metadata": {},
   "source": [
    "**Procedura – podsumowanie:**\n",
    "\n",
    "- Aby nie kopiować tego samego kodu za każdym razem kiedy chcemy z niego skorzystać, można zamknąć go w funkcji i wywoływać ją w różnych miejscach\n",
    "- Funkcja, która nie zwraca żadnej wartości to procedura\n",
    "- Zmienne globalne są widoczne wewnątrz funkcji, ale nie powinniśmy tego mechanizmu nadużywać"
   ]
  },
  {
   "cell_type": "markdown",
   "id": "b3a7b447",
   "metadata": {},
   "source": [
    "## Parametry funkcji\n",
    "\n",
    "Jeżeli funkcja posiada **parametry**, to możemy przekazać do niej **argumenty**. \n",
    "\n",
    "W ten sposób definiujemy tzw. **zmienne lokalne**, czyli widoczne tylko wewnątrz funkcji."
   ]
  },
  {
   "cell_type": "code",
   "execution_count": null,
   "id": "4ed3bf3e",
   "metadata": {},
   "outputs": [],
   "source": [
    "def create_space(name):\n",
    "    space_dict = {\n",
    "        \"name\": name,\n",
    "        \"tasks\": []\n",
    "    }\n",
    "    \n",
    "    print(space_dict)"
   ]
  },
  {
   "cell_type": "code",
   "execution_count": null,
   "id": "168ff36f",
   "metadata": {},
   "outputs": [],
   "source": [
    "create_space(\"Dev\")"
   ]
  },
  {
   "cell_type": "code",
   "execution_count": null,
   "id": "f2988f68",
   "metadata": {},
   "outputs": [],
   "source": [
    "create_space(\"Edu\")"
   ]
  },
  {
   "cell_type": "markdown",
   "id": "cc19fe02",
   "metadata": {},
   "source": [
    "---"
   ]
  },
  {
   "cell_type": "code",
   "execution_count": null,
   "id": "05420351",
   "metadata": {},
   "outputs": [],
   "source": [
    "def create_space(name):\n",
    "    print(\"!!!\", name)  # \"name\" exists only inside the function\n",
    "    \n",
    "    space_dict = {\n",
    "        \"name\": name,\n",
    "        \"tasks\": []\n",
    "    }\n",
    "    \n",
    "    print(space_dict)\n",
    "\n",
    "    \n",
    "print(name)  # \"name\" does not exist"
   ]
  },
  {
   "cell_type": "code",
   "execution_count": null,
   "id": "5650c7af",
   "metadata": {},
   "outputs": [],
   "source": [
    "create_space(\"test\")"
   ]
  },
  {
   "cell_type": "markdown",
   "id": "2869ab9f",
   "metadata": {},
   "source": [
    "---"
   ]
  },
  {
   "cell_type": "markdown",
   "id": "46c38c6b",
   "metadata": {},
   "source": [
    "Przypomnienie - funkcja do tworzenia zadania:"
   ]
  },
  {
   "cell_type": "markdown",
   "id": "dab08b8f",
   "metadata": {},
   "source": [
    "```python\n",
    "def create_task_from_input():\n",
    "    description = input(\"Enter description: \")\n",
    "    assignee = input(\"Enter assignee: \")\n",
    "\n",
    "    task_dict = {\n",
    "        \"description\": description,\n",
    "        \"assignee\": assignee,\n",
    "        \"time_logged\": 0,\n",
    "        \"is_complete\": False,\n",
    "        \"comments\": []\n",
    "    }\n",
    "    \n",
    "    print(task_dict)\n",
    "```"
   ]
  },
  {
   "cell_type": "markdown",
   "id": "80fdc23d",
   "metadata": {},
   "source": [
    "Pytanie - czy poniższy kod zadziała i co się wydarzy?"
   ]
  },
  {
   "cell_type": "code",
   "execution_count": null,
   "id": "c98e26cb",
   "metadata": {},
   "outputs": [],
   "source": [
    "def create_space(name):\n",
    "    space_dict = {\n",
    "        \"name\": name,\n",
    "        \"tasks\": [create_task_from_input()]\n",
    "    }\n",
    "    \n",
    "    print(space_dict)"
   ]
  },
  {
   "cell_type": "code",
   "execution_count": null,
   "id": "777bbf08",
   "metadata": {},
   "outputs": [],
   "source": [
    "create_space(\"edu\")"
   ]
  },
  {
   "cell_type": "markdown",
   "id": "7d403a9a",
   "metadata": {},
   "source": [
    "**Parametr** - to co funkcja przyjmuje (znajduje się w jej sygnaturze)\n",
    "\n",
    "**Argument** - to co przekazujemy do funkcji (znajduje się w jej wywołaniu)"
   ]
  },
  {
   "cell_type": "markdown",
   "id": "450c01ff",
   "metadata": {},
   "source": [
    "> *ERROR ALERT*\n",
    "\n",
    "Jeżeli przekażemy zbyt małą albo zbyt dużą liczbę argumentów, pojawi się błąd:"
   ]
  },
  {
   "cell_type": "code",
   "execution_count": null,
   "id": "86cdc48f",
   "metadata": {},
   "outputs": [],
   "source": [
    "len()"
   ]
  },
  {
   "cell_type": "code",
   "execution_count": null,
   "id": "0e632c38",
   "metadata": {},
   "outputs": [],
   "source": [
    "len([1, 2, 3], [4, 5, 6])"
   ]
  },
  {
   "cell_type": "markdown",
   "id": "e90effc2",
   "metadata": {},
   "source": [
    "**Parametry funkcji – podsumowanie:**\n",
    "\n",
    "- Funkcja może (ale nie musi) posiadać jeden lub więcej parametrów\n",
    "- Parametry zachowują się jak zmienne, które istnieją tylko wewnątrz funkcji (zmienne lokalne)\n",
    "- Podczas wywoływania funkcji posiadającej parametry, przekazujemy do niej argumenty"
   ]
  },
  {
   "cell_type": "markdown",
   "id": "7a595d0b",
   "metadata": {},
   "source": [
    "## Słowo kluczowe `return`\n",
    "\n",
    "Jeśli obiekty utworzone wewnątrz funkcji chcemy wyeksportować na zewnątrz, możemy je zwrócić."
   ]
  },
  {
   "cell_type": "code",
   "execution_count": null,
   "id": "b3941902",
   "metadata": {},
   "outputs": [],
   "source": [
    "def return_true():\n",
    "    return True"
   ]
  },
  {
   "cell_type": "code",
   "execution_count": null,
   "id": "61962f14",
   "metadata": {},
   "outputs": [],
   "source": [
    "x = return_true()"
   ]
  },
  {
   "cell_type": "code",
   "execution_count": null,
   "id": "7adb95de",
   "metadata": {},
   "outputs": [],
   "source": [
    "x"
   ]
  },
  {
   "cell_type": "code",
   "execution_count": null,
   "id": "73df021a",
   "metadata": {},
   "outputs": [],
   "source": [
    "def square_a_number(x):\n",
    "    result = x ** 2\n",
    "    return result\n",
    "\n",
    "    print(\"This code won't execute\")"
   ]
  },
  {
   "cell_type": "markdown",
   "id": "3e91ddfb",
   "metadata": {},
   "source": [
    "W poniższym wywołaniu wartość zwrócona przez funkcję nie została przechwycona do żadnej zmiennej."
   ]
  },
  {
   "cell_type": "code",
   "execution_count": null,
   "id": "142e8f24",
   "metadata": {},
   "outputs": [],
   "source": [
    "square_a_number(4)"
   ]
  },
  {
   "cell_type": "markdown",
   "id": "d3e4b13c",
   "metadata": {},
   "source": [
    "---"
   ]
  },
  {
   "cell_type": "code",
   "execution_count": null,
   "id": "6e7c9061",
   "metadata": {},
   "outputs": [],
   "source": [
    "def create_task_from_input():\n",
    "    description = input(\"Enter description: \")\n",
    "    assignee = input(\"Enter assignee: \")\n",
    "\n",
    "    task_dict = {\n",
    "        \"description\": description,\n",
    "        \"assignee\": assignee,\n",
    "        \"time_logged\": 0,\n",
    "        \"is_complete\": False,\n",
    "        \"comments\": []\n",
    "    }\n",
    "    \n",
    "    return task_dict"
   ]
  },
  {
   "cell_type": "code",
   "execution_count": null,
   "id": "31b55095",
   "metadata": {},
   "outputs": [],
   "source": [
    "def create_space(name):\n",
    "    space_dict = {\n",
    "        \"name\": name,\n",
    "        \"tasks\": [create_task_from_input()]\n",
    "    }\n",
    "    \n",
    "    return space_dict"
   ]
  },
  {
   "cell_type": "code",
   "execution_count": null,
   "id": "edbb1745",
   "metadata": {},
   "outputs": [],
   "source": [
    "dev_space = create_space(\"Dev\")"
   ]
  },
  {
   "cell_type": "code",
   "execution_count": null,
   "id": "781e4fb2",
   "metadata": {},
   "outputs": [],
   "source": [
    "dev_space"
   ]
  },
  {
   "cell_type": "markdown",
   "id": "607ad710",
   "metadata": {},
   "source": [
    "---"
   ]
  },
  {
   "cell_type": "code",
   "execution_count": null,
   "id": "ee74a031",
   "metadata": {},
   "outputs": [],
   "source": [
    "def return_space_info(space):\n",
    "    name = space[\"name\"]\n",
    "    n_of_tasks = len(space[\"tasks\"])\n",
    "    \n",
    "    return name, n_of_tasks"
   ]
  },
  {
   "cell_type": "code",
   "execution_count": null,
   "id": "479c7a92",
   "metadata": {},
   "outputs": [],
   "source": [
    "return_space_info(dev_space)"
   ]
  },
  {
   "cell_type": "code",
   "execution_count": null,
   "id": "7688dbcc",
   "metadata": {},
   "outputs": [],
   "source": [
    "space_info = return_space_info(dev_space)\n",
    "space_info"
   ]
  },
  {
   "cell_type": "code",
   "execution_count": null,
   "id": "d54643e5",
   "metadata": {},
   "outputs": [],
   "source": [
    "space_name, number_of_tasks = return_space_info(dev_space)"
   ]
  },
  {
   "cell_type": "code",
   "execution_count": null,
   "id": "c9199c81",
   "metadata": {},
   "outputs": [],
   "source": [
    "space_name"
   ]
  },
  {
   "cell_type": "code",
   "execution_count": null,
   "id": "8de9ac18",
   "metadata": {},
   "outputs": [],
   "source": [
    "number_of_tasks"
   ]
  },
  {
   "cell_type": "markdown",
   "id": "d87719d1",
   "metadata": {},
   "source": [
    "**Słowo kluczowe return – podsumowanie:**\n",
    "\n",
    "- Aby funkcja zwróciła jedną lub więcej wartości używamy słowa kluczowego `return`. Zwracane wartości będą mogły być użyte również poza funkcją, o ile je przechwycimy\n",
    "- Użycie `return` kończy działanie funkcji. Najczęściej dzieje się to na samym końcu ciała funkcji, ale nie zawsze\n",
    "- Aby zwrócić kilka wartości należy podać je po przecinku"
   ]
  },
  {
   "cell_type": "markdown",
   "id": "5956071f",
   "metadata": {},
   "source": [
    "> **ZADANIA**"
   ]
  },
  {
   "cell_type": "markdown",
   "id": "6d7ccf74",
   "metadata": {},
   "source": [
    "## Argumenty domyślne, pozycyjne i nazwane\n",
    "\n",
    "### Argumenty domyślne (i parametry opcjonalne)\n",
    "\n",
    "Możemy pozostawić niektóre parametry jako opcjonalne, wstawiając do nich wartość domyślną.\n",
    "\n",
    "W poniższym przykładzie `tasks` jest **parametrem opcjonalnym**, a `[]` **argumentem domyślnym**."
   ]
  },
  {
   "cell_type": "code",
   "execution_count": null,
   "id": "480c2ab8",
   "metadata": {},
   "outputs": [],
   "source": [
    "def create_new_space(name, tasks=[]):\n",
    "    space = {\n",
    "        \"name\": name,\n",
    "        \"tasks\": tasks\n",
    "    }\n",
    "    \n",
    "    return space"
   ]
  },
  {
   "cell_type": "code",
   "execution_count": null,
   "id": "fadefd37",
   "metadata": {},
   "outputs": [],
   "source": [
    "create_new_space(\"test\")"
   ]
  },
  {
   "cell_type": "code",
   "execution_count": null,
   "id": "eeb039bb",
   "metadata": {},
   "outputs": [],
   "source": [
    "create_new_space(\"test\", [\"Learn Python\", \"Do exercises\"])"
   ]
  },
  {
   "cell_type": "markdown",
   "id": "867f0fee",
   "metadata": {},
   "source": [
    "Parametry opcjonalne muszą zostać zadeklarowane **po** zwykłych."
   ]
  },
  {
   "cell_type": "markdown",
   "id": "1b824b00",
   "metadata": {},
   "source": [
    "### Argument pozycyjne vs. nazwane\n",
    "\n",
    "**Argumenty pozycyjne** (*positional arguments*) to takie, które przekazujemy bazując na **kolejności parametrów**.\n",
    "\n",
    "**Argumenty nazwane** (*keyword arguments*) to takie, które przekazujemy bazując na **nazwach parametrów**."
   ]
  },
  {
   "cell_type": "code",
   "execution_count": null,
   "id": "8b5a727a",
   "metadata": {},
   "outputs": [],
   "source": [
    "def create_new_space(name, tasks):\n",
    "    space = {\n",
    "        \"name\": name,\n",
    "        \"tasks\": tasks\n",
    "    }\n",
    "    \n",
    "    return space"
   ]
  },
  {
   "cell_type": "code",
   "execution_count": null,
   "id": "e372acc4",
   "metadata": {},
   "outputs": [],
   "source": [
    "create_new_space(\"Dev\", [\"Learn Python\", \"Learn JavaScript\"])  # positional arguments"
   ]
  },
  {
   "cell_type": "code",
   "execution_count": null,
   "id": "6450b279",
   "metadata": {},
   "outputs": [],
   "source": [
    "create_new_space(name=\"Dev\", tasks=[\"Learn Python\", \"Learn JavaScript\"])  # keyword arguments"
   ]
  },
  {
   "cell_type": "markdown",
   "id": "09c5db3f",
   "metadata": {},
   "source": [
    "Używając argumentów nazwanych, nie musimy zachowywać ich kolejności:"
   ]
  },
  {
   "cell_type": "code",
   "execution_count": null,
   "id": "705f3e60",
   "metadata": {},
   "outputs": [],
   "source": [
    "create_new_space(tasks=[\"Learn Python\", \"Learn JavaScript\"], name=\"Dev\")"
   ]
  },
  {
   "cell_type": "markdown",
   "id": "4ee480ae",
   "metadata": {},
   "source": [
    "**Argumenty domyślne, pozycyjne i nazwane – podsumowanie:**\n",
    "\n",
    "- Parametr funkcji może mieć wartość domyślną - deklarujemy ją w definicji funkcji\n",
    "- Takie parametry muszą być zadeklarowane *po* tych bez wartości domyślnej\n",
    "- Jeśli przekażemy jako argument inną wartość, zostanie ona użyta\n",
    "- Argumenty pozycyjne to takie, które przekazujemy bazując na kolejności parametrów\n",
    "- Argument nazwane to takie, które przekazujemy podając przy tym ich nazwę"
   ]
  },
  {
   "cell_type": "markdown",
   "id": "81df5068",
   "metadata": {},
   "source": [
    "## `map` i `filter`\n",
    "### `map`\n",
    "\n",
    "`map()` jest funkcją, do której przekazujemy:\n",
    "- funkcję przyjmującą i zwracającą po jednym obiekcie\n",
    "- listę/tuplę/stringa lub inną sekwencję"
   ]
  },
  {
   "cell_type": "code",
   "execution_count": null,
   "id": "982ea6ea",
   "metadata": {},
   "outputs": [],
   "source": [
    "def add_one(x):\n",
    "    return x + 1\n",
    "\n",
    "\n",
    "list_of_numbers = [1, 3, 4, 6, 6, 9]"
   ]
  },
  {
   "cell_type": "code",
   "execution_count": null,
   "id": "5c2155fa",
   "metadata": {},
   "outputs": [],
   "source": [
    "add_one(3)"
   ]
  },
  {
   "cell_type": "code",
   "execution_count": null,
   "id": "d96a8b92",
   "metadata": {},
   "outputs": [],
   "source": [
    "map(add_one, list_of_numbers)"
   ]
  },
  {
   "cell_type": "code",
   "execution_count": null,
   "id": "22f85d86",
   "metadata": {},
   "outputs": [],
   "source": [
    "type(map(add_one, list_of_numbers))"
   ]
  },
  {
   "cell_type": "code",
   "execution_count": null,
   "id": "85defb09",
   "metadata": {},
   "outputs": [],
   "source": [
    "list(map(add_one, list_of_numbers))"
   ]
  },
  {
   "cell_type": "code",
   "execution_count": null,
   "id": "5191deee",
   "metadata": {},
   "outputs": [],
   "source": [
    "for item in map(add_one, list_of_numbers):\n",
    "    print(item)"
   ]
  },
  {
   "cell_type": "markdown",
   "id": "52936e1e",
   "metadata": {},
   "source": [
    "---"
   ]
  },
  {
   "cell_type": "code",
   "execution_count": null,
   "id": "92fcb680",
   "metadata": {},
   "outputs": [],
   "source": [
    "my_string = \"hello\"\n",
    "\n",
    "def is_vowel(character):\n",
    "    if character in [\"a\", \"e\", \"i\", \"o\", \"u\", \"y\"]:\n",
    "        return True\n",
    "    else:\n",
    "        return False"
   ]
  },
  {
   "cell_type": "code",
   "execution_count": null,
   "id": "22715c9d",
   "metadata": {},
   "outputs": [],
   "source": [
    "list(map(is_vowel, my_string))"
   ]
  },
  {
   "cell_type": "markdown",
   "id": "3d9d0e2b",
   "metadata": {},
   "source": [
    "Pytanie - co zwróci poniższy kod?"
   ]
  },
  {
   "cell_type": "code",
   "execution_count": null,
   "id": "e9ea5e58",
   "metadata": {},
   "outputs": [],
   "source": [
    "list(map(len, my_string))"
   ]
  },
  {
   "cell_type": "markdown",
   "id": "a207f987",
   "metadata": {},
   "source": [
    "### `filter`\n",
    "\n",
    "`filter()` jest funkcją, do której przekazujemy:\n",
    "- funkcję przyjmującą jeden argument i zwracającą wartość logiczną\n",
    "- listę/tuplę/stringa lub inną sekwencję"
   ]
  },
  {
   "cell_type": "code",
   "execution_count": null,
   "id": "127e876c",
   "metadata": {},
   "outputs": [],
   "source": [
    "def is_even(x):\n",
    "    return x % 2 == 0"
   ]
  },
  {
   "cell_type": "code",
   "execution_count": null,
   "id": "3c6474af",
   "metadata": {},
   "outputs": [],
   "source": [
    "is_even(2)"
   ]
  },
  {
   "cell_type": "code",
   "execution_count": null,
   "id": "3fa83ed8",
   "metadata": {},
   "outputs": [],
   "source": [
    "is_even(3)"
   ]
  },
  {
   "cell_type": "code",
   "execution_count": null,
   "id": "4d19a704",
   "metadata": {},
   "outputs": [],
   "source": [
    "filter(is_even, list_of_numbers)"
   ]
  },
  {
   "cell_type": "code",
   "execution_count": null,
   "id": "9652163e",
   "metadata": {},
   "outputs": [],
   "source": [
    "type(filter(is_even, list_of_numbers))"
   ]
  },
  {
   "cell_type": "code",
   "execution_count": null,
   "id": "4914f662",
   "metadata": {},
   "outputs": [],
   "source": [
    "list(filter(is_even, list_of_numbers))"
   ]
  },
  {
   "cell_type": "code",
   "execution_count": null,
   "id": "98d9a951",
   "metadata": {},
   "outputs": [],
   "source": [
    "for even_number in filter(is_even, list_of_numbers):\n",
    "    print(even_number)"
   ]
  },
  {
   "cell_type": "markdown",
   "id": "3f404602",
   "metadata": {},
   "source": [
    "---"
   ]
  },
  {
   "cell_type": "code",
   "execution_count": null,
   "id": "fc272d14",
   "metadata": {},
   "outputs": [],
   "source": [
    "my_string"
   ]
  },
  {
   "cell_type": "code",
   "execution_count": null,
   "id": "fec324de",
   "metadata": {},
   "outputs": [],
   "source": [
    "list(filter(is_vowel, my_string))"
   ]
  },
  {
   "cell_type": "markdown",
   "id": "bd3d83f9",
   "metadata": {},
   "source": [
    "> *ERROR ALERT*\n",
    "\n",
    "Przekazując funkcję do `map` czy `filter` **nie możemy** wywoływać tej funkcji."
   ]
  },
  {
   "cell_type": "code",
   "execution_count": null,
   "id": "38cd656c",
   "metadata": {},
   "outputs": [],
   "source": [
    "map(add_one(), [1, 2, 3])"
   ]
  },
  {
   "cell_type": "markdown",
   "id": "b31cb1b0",
   "metadata": {},
   "source": [
    "**`map` i `filter` – podsumowanie:**\n",
    "\n",
    "- Aby zmapować sekwencję używając dowolnej funkcji używamy funkcji `map`\n",
    "- Aby przefiltrować sekwencję używając funkcji, która zwraca wartość logiczną używamy generatora `filter`\n",
    "- Obiekty typów `map` i `filter` są iterablami"
   ]
  },
  {
   "cell_type": "markdown",
   "id": "0358a773",
   "metadata": {},
   "source": [
    "## `lambda`\n",
    "\n",
    "Lambda jest **funkcją anonimową**, czyli taką, której nie nadajemy nazwy.\n",
    "\n",
    "Najczęściej używamy jej jako argument, kiedy pewna funkcja przyjmuje argument w postaci funkcji."
   ]
  },
  {
   "cell_type": "code",
   "execution_count": null,
   "id": "6077c049",
   "metadata": {},
   "outputs": [],
   "source": [
    "lambda x: 3*x"
   ]
  },
  {
   "cell_type": "code",
   "execution_count": null,
   "id": "28d905d0",
   "metadata": {},
   "outputs": [],
   "source": [
    "def my_function(x):\n",
    "    return 3*x"
   ]
  },
  {
   "cell_type": "code",
   "execution_count": null,
   "id": "bc460576",
   "metadata": {},
   "outputs": [],
   "source": [
    "def my_function(x):\n",
    "    result = 3*x\n",
    "    return result"
   ]
  },
  {
   "cell_type": "code",
   "execution_count": null,
   "id": "cf39836e",
   "metadata": {},
   "outputs": [],
   "source": [
    "(lambda x: 3*x)(2)"
   ]
  },
  {
   "cell_type": "markdown",
   "id": "4e57cc50",
   "metadata": {},
   "source": [
    "---"
   ]
  },
  {
   "cell_type": "code",
   "execution_count": null,
   "id": "c2d7bd50",
   "metadata": {},
   "outputs": [],
   "source": [
    "lambda x, y: x*y"
   ]
  },
  {
   "cell_type": "code",
   "execution_count": null,
   "id": "bb751812",
   "metadata": {},
   "outputs": [],
   "source": [
    "(lambda x, y: x*y)(10, 20)"
   ]
  },
  {
   "cell_type": "markdown",
   "id": "dbc5597a",
   "metadata": {},
   "source": [
    "---"
   ]
  },
  {
   "cell_type": "code",
   "execution_count": null,
   "id": "a1647bb8",
   "metadata": {},
   "outputs": [],
   "source": [
    "lambda x: x + 1"
   ]
  },
  {
   "cell_type": "code",
   "execution_count": null,
   "id": "722b5e3a",
   "metadata": {},
   "outputs": [],
   "source": [
    "list_of_numbers"
   ]
  },
  {
   "cell_type": "code",
   "execution_count": null,
   "id": "8e6fe41a",
   "metadata": {},
   "outputs": [],
   "source": [
    "map(lambda x: x + 1, list_of_numbers)"
   ]
  },
  {
   "cell_type": "code",
   "execution_count": null,
   "id": "df9a5b0a",
   "metadata": {},
   "outputs": [],
   "source": [
    "list(map(lambda x: x + 1, list_of_numbers))"
   ]
  },
  {
   "cell_type": "markdown",
   "id": "6def4f9c",
   "metadata": {},
   "source": [
    "---"
   ]
  },
  {
   "cell_type": "code",
   "execution_count": null,
   "id": "251a7d6e",
   "metadata": {},
   "outputs": [],
   "source": [
    "lambda x: x % 2 == 0"
   ]
  },
  {
   "cell_type": "code",
   "execution_count": null,
   "id": "e3b68cba",
   "metadata": {},
   "outputs": [],
   "source": [
    "list_of_numbers"
   ]
  },
  {
   "cell_type": "code",
   "execution_count": null,
   "id": "a8a528b5",
   "metadata": {},
   "outputs": [],
   "source": [
    "filter(lambda x: x % 2 == 0, list_of_numbers)"
   ]
  },
  {
   "cell_type": "code",
   "execution_count": null,
   "id": "fc9b403d",
   "metadata": {},
   "outputs": [],
   "source": [
    "list(filter(lambda x: x % 2 == 0, list_of_numbers))"
   ]
  },
  {
   "cell_type": "markdown",
   "id": "faf7f2ed",
   "metadata": {},
   "source": [
    "**Lambda – podsumowanie:**\n",
    "\n",
    "- Kiedy chcemy przekazać funkcję jako argument dla innej funkcji, możemy użyć lambdy zamiast nazywać i definiować tę funkcję osobno\n",
    "- Lambda posiada jeden lub więcej parametrów (po przecinku). To co znajduje się po dwukropku jest zwracane "
   ]
  },
  {
   "cell_type": "markdown",
   "id": "117dd1ea",
   "metadata": {},
   "source": [
    "> **ZADANIA**"
   ]
  },
  {
   "cell_type": "markdown",
   "id": "67ebc380",
   "metadata": {},
   "source": [
    "## Arguments unpacking\n",
    "\n",
    "Odpakowanie argumentów pozwala wyciągnąć z listy/słownika kolejne elementy i przekazać je do poszczególnych parametrów."
   ]
  },
  {
   "cell_type": "code",
   "execution_count": null,
   "id": "e0e0e1cb",
   "metadata": {},
   "outputs": [],
   "source": [
    "task_data = [\"Learn Python\", \"Andrzej\", \"2021-10-12\"]"
   ]
  },
  {
   "cell_type": "code",
   "execution_count": null,
   "id": "cd7a25bc",
   "metadata": {},
   "outputs": [],
   "source": [
    "def create_task_info(description, assignee, due_date):\n",
    "    task_info = f\"Description: {description}\\nAssignee: {assignee}\\nDue date: {due_date}\"\n",
    "    return task_info"
   ]
  },
  {
   "cell_type": "markdown",
   "id": "160ac7e1",
   "metadata": {},
   "source": [
    "Co się wydarzy w poniższej komórce?"
   ]
  },
  {
   "cell_type": "code",
   "execution_count": null,
   "id": "1359b772",
   "metadata": {},
   "outputs": [],
   "source": [
    "create_task_info(task_data)"
   ]
  },
  {
   "cell_type": "code",
   "execution_count": null,
   "id": "54961283",
   "metadata": {},
   "outputs": [],
   "source": [
    "task_info = create_task_info(task_data[0], task_data[1], task_data[2])\n",
    "\n",
    "print(task_info)"
   ]
  },
  {
   "cell_type": "code",
   "execution_count": null,
   "id": "32f14866",
   "metadata": {},
   "outputs": [],
   "source": [
    "task_info = create_task_info(*task_data)\n",
    "\n",
    "print(task_info)"
   ]
  },
  {
   "cell_type": "markdown",
   "id": "d5260975",
   "metadata": {},
   "source": [
    "---"
   ]
  },
  {
   "cell_type": "code",
   "execution_count": null,
   "id": "6717cc6d",
   "metadata": {},
   "outputs": [],
   "source": [
    "task_data_dict = {\n",
    "    \"description\": \"Learn Python\",\n",
    "    \"assignee\": \"Andrzej\",\n",
    "    \"due_date\": \"2021-10-12\"\n",
    "}"
   ]
  },
  {
   "cell_type": "code",
   "execution_count": null,
   "id": "09bc9015",
   "metadata": {},
   "outputs": [],
   "source": [
    "def create_task_info(description, assignee, due_date):\n",
    "    task_info = f\"Description: {description}\\nAssignee: {assignee}\\nDue date: {due_date}\"\n",
    "    return task_info"
   ]
  },
  {
   "cell_type": "code",
   "execution_count": null,
   "id": "74f8be68",
   "metadata": {},
   "outputs": [],
   "source": [
    "create_task_info(task_data_dict)"
   ]
  },
  {
   "cell_type": "code",
   "execution_count": null,
   "id": "fa5df17c",
   "metadata": {},
   "outputs": [],
   "source": [
    "task_info = create_task_info(**task_data_dict)\n",
    "\n",
    "print(task_info)"
   ]
  },
  {
   "cell_type": "markdown",
   "id": "bb697520",
   "metadata": {},
   "source": [
    "***arguments unpacking* – podsumowanie:**\n",
    "\n",
    "- Aby rozbić listę lub tuplę na poszczególne elementy, które zostaną przekazane do funkcji jako argumenty pozycyjne należy użyć operatora *\n",
    "- Aby rozbić słownik na poszczególne pary klucz wartość, które zostaną przekazane do funkcji jako argumenty nazwane należy użyć operatora ** "
   ]
  },
  {
   "cell_type": "markdown",
   "id": "8c85a659",
   "metadata": {},
   "source": [
    "## `args` i `kwargs`\n",
    "\n",
    "### `args`\n",
    "\n",
    "**arg**ument**s**\n",
    "\n",
    "Użycie `args` pozwala przekazać do funkcji dowolną liczbę argumentów pozycyjnych."
   ]
  },
  {
   "cell_type": "code",
   "execution_count": null,
   "id": "d4179d9d",
   "metadata": {},
   "outputs": [],
   "source": [
    "def function_with_args(*args):\n",
    "    print(args)\n",
    "    print(type(args))"
   ]
  },
  {
   "cell_type": "code",
   "execution_count": null,
   "id": "b6e46ebe",
   "metadata": {},
   "outputs": [],
   "source": [
    "function_with_args(1, 2, 3, 4, 5)"
   ]
  },
  {
   "cell_type": "code",
   "execution_count": null,
   "id": "16ceb2d5",
   "metadata": {},
   "outputs": [],
   "source": [
    "function_with_args()"
   ]
  },
  {
   "cell_type": "markdown",
   "id": "141b8028",
   "metadata": {},
   "source": [
    "---"
   ]
  },
  {
   "cell_type": "code",
   "execution_count": null,
   "id": "4d6db11f",
   "metadata": {},
   "outputs": [],
   "source": [
    "def calculate_average(*args):\n",
    "    return sum(args) / len(args)"
   ]
  },
  {
   "cell_type": "code",
   "execution_count": null,
   "id": "43bc2286",
   "metadata": {},
   "outputs": [],
   "source": [
    "calculate_average(1, 2, 5, 10)"
   ]
  },
  {
   "cell_type": "markdown",
   "id": "5cbe08a2",
   "metadata": {},
   "source": [
    "### `kwargs`\n",
    "\n",
    "**k**ey**w**ord **arg**ument**s**\n",
    "\n",
    "Użycie `kwargs` pozwala przekazać do funkcji dowolną liczbę argumentów nazwanych."
   ]
  },
  {
   "cell_type": "code",
   "execution_count": null,
   "id": "4740b4b0",
   "metadata": {},
   "outputs": [],
   "source": [
    "def function_with_kwargs(**kwargs):\n",
    "    print(kwargs)\n",
    "    print(type(kwargs))"
   ]
  },
  {
   "cell_type": "code",
   "execution_count": null,
   "id": "8757d4d4",
   "metadata": {},
   "outputs": [],
   "source": [
    "function_with_kwargs(a=1, b=2, c=3)"
   ]
  },
  {
   "cell_type": "code",
   "execution_count": null,
   "id": "caefdcb9",
   "metadata": {},
   "outputs": [],
   "source": [
    "function_with_kwargs()"
   ]
  },
  {
   "cell_type": "markdown",
   "id": "09485e5b",
   "metadata": {},
   "source": [
    "---"
   ]
  },
  {
   "cell_type": "code",
   "execution_count": null,
   "id": "efdb1666",
   "metadata": {},
   "outputs": [],
   "source": [
    "def create_task(**kwargs):\n",
    "    task = {\n",
    "        \"is_complete\": False,\n",
    "        \"time_logged\": 0,\n",
    "        \"comments\": []\n",
    "    }\n",
    "    \n",
    "    for key, value in kwargs.items():\n",
    "        task[key] = value\n",
    "    \n",
    "    return task"
   ]
  },
  {
   "cell_type": "code",
   "execution_count": null,
   "id": "e04832e7",
   "metadata": {},
   "outputs": [],
   "source": [
    "create_task(description=\"Learn Python\", assignee=\"Andrzej\")  # , priority=3"
   ]
  },
  {
   "cell_type": "markdown",
   "id": "24d25090",
   "metadata": {},
   "source": [
    "### Kolejność definiowania parametrów\n",
    "\n",
    "Kolejność:\n",
    "- zwykłe parametry\n",
    "- *args\n",
    "- parametry opcjonalne\n",
    "- **kwargs"
   ]
  },
  {
   "cell_type": "code",
   "execution_count": null,
   "id": "d9e226be",
   "metadata": {},
   "outputs": [],
   "source": [
    "def function(x, *args, y=2, **kwargs):\n",
    "    print(x)\n",
    "    print(y)\n",
    "    \n",
    "    print(args[0])\n",
    "    print(args[1])\n",
    "    \n",
    "    print(kwargs[\"a\"])\n",
    "    print(kwargs[\"b\"])"
   ]
  },
  {
   "cell_type": "code",
   "execution_count": null,
   "id": "103ebb18",
   "metadata": {},
   "outputs": [],
   "source": [
    "function(1, 10, 20, 30, a=100, b=200)"
   ]
  },
  {
   "cell_type": "markdown",
   "id": "2a6d4fbc",
   "metadata": {},
   "source": [
    "**`args` i `kwargs` – podsumowanie:**\n",
    "\n",
    "- Aby móc przekazać do funkcji dowolnie dużo argumentów pozycyjnych, w definicji tej funkcji należy umieścić `*args*`. Wówczas przekazane argumenty trafią do niej w postaci tupli\n",
    "- Aby móc przekazać do funkcji dowolnie dużo argumetnów nazwanych, w definicji tej funkcji należy umieścić `**kwargs`. Wówczas przekazane argumenty trafią do niej w postaci słownika\n",
    "- Kolejność definiowania parametrów jest następująca: zwykłe parametry, `*args`, parametry opcjonalne, `**kwargs`"
   ]
  },
  {
   "cell_type": "markdown",
   "id": "4440b587",
   "metadata": {},
   "source": [
    "> **ZADANIA**"
   ]
  },
  {
   "cell_type": "markdown",
   "id": "95b7923c",
   "metadata": {},
   "source": [
    "## Docstring\n",
    "\n",
    "Kawałek dokumentacji napisany bezpośrednio pod sygnaturą funkcji."
   ]
  },
  {
   "cell_type": "code",
   "execution_count": null,
   "id": "ee815189",
   "metadata": {},
   "outputs": [],
   "source": [
    "def create_new_space(name, tasks):\n",
    "    space = {\n",
    "        \"name\": name,\n",
    "        \"tasks\": tasks\n",
    "    }\n",
    "    \n",
    "    return space\n",
    "\n",
    "\n",
    "space = create_new_space(\"Dev\", [])\n",
    "space"
   ]
  },
  {
   "cell_type": "markdown",
   "id": "1155864e",
   "metadata": {},
   "source": [
    "---"
   ]
  },
  {
   "cell_type": "code",
   "execution_count": null,
   "id": "e917a996",
   "metadata": {},
   "outputs": [],
   "source": [
    "def create_new_space(name, tasks):\n",
    "    \"\"\"\n",
    "    This function creates a dict representing a space filled with tasks\n",
    "    \n",
    "    Args:\n",
    "        name (str): string representing name of the space\n",
    "        tasks (list): list of tasks. It can be an empty list or one filled with task dictionaries\n",
    "        \n",
    "    Returns:\n",
    "        (dict): dictionary representing a space with keys: 'name', 'tasks'\n",
    "    \"\"\"\n",
    "    space = {\n",
    "        \"name\": name,\n",
    "        \"tasks\": tasks\n",
    "    }\n",
    "    \n",
    "    return space\n",
    "\n",
    "\n",
    "space = create_new_space(\"Dev\", [])\n",
    "space"
   ]
  },
  {
   "cell_type": "code",
   "execution_count": null,
   "id": "ab79d67e",
   "metadata": {},
   "outputs": [],
   "source": [
    "print(create_new_space.__doc__)"
   ]
  },
  {
   "cell_type": "code",
   "execution_count": null,
   "id": "ca5fe34c",
   "metadata": {},
   "outputs": [],
   "source": [
    "create_new_space()  # shift-tab"
   ]
  },
  {
   "cell_type": "markdown",
   "id": "89ce89eb",
   "metadata": {},
   "source": [
    "Docstringi mogą zawierać również tzw. doctesty, czyli testy sprawdzające działanie funkcji."
   ]
  },
  {
   "cell_type": "markdown",
   "id": "da6eafa2",
   "metadata": {},
   "source": [
    "**Docstring – podsumowanie:**\n",
    "\n",
    "- Każda funkcja może i powinna być udokumentowana za pomocą docstringa. Zawiera on informacje o tym co robi dana funkcja, jakie ma parametry i co zwraca\n",
    "- Docstring może zawierać również doctesty. Znajdują się w nich przykładowe wywołania funkcji wraz z oczekiwanym outputem"
   ]
  },
  {
   "cell_type": "markdown",
   "id": "6f1c3c89",
   "metadata": {},
   "source": [
    "## Type annotations"
   ]
  },
  {
   "cell_type": "code",
   "execution_count": null,
   "id": "85bd4914",
   "metadata": {},
   "outputs": [],
   "source": [
    "def create_new_space(name, tasks):\n",
    "    space = {\n",
    "        \"name\": name,\n",
    "        \"tasks\": tasks\n",
    "    }\n",
    "    \n",
    "    return space\n",
    "\n",
    "\n",
    "space = create_new_space(\"Dev\", [])\n",
    "space"
   ]
  },
  {
   "cell_type": "code",
   "execution_count": null,
   "id": "263e4c4f",
   "metadata": {},
   "outputs": [],
   "source": [
    "def create_new_space(name: str, tasks: list):\n",
    "    space = {\n",
    "        \"name\": name,\n",
    "        \"tasks\": tasks\n",
    "    }\n",
    "    \n",
    "    return space\n",
    "\n",
    "\n",
    "space: dict = create_new_space(\"Dev\", [])\n",
    "space"
   ]
  },
  {
   "cell_type": "code",
   "execution_count": null,
   "id": "fa950915",
   "metadata": {},
   "outputs": [],
   "source": [
    "def create_new_space(name: str, tasks: list|tuple) -> dict:\n",
    "    space = {\n",
    "        \"name\": name,\n",
    "        \"tasks\": tasks\n",
    "    }\n",
    "    \n",
    "    return space\n",
    "\n",
    "\n",
    "space: dict = create_new_space(\"Dev\", [])\n",
    "space"
   ]
  },
  {
   "cell_type": "markdown",
   "id": "c5e5eb97",
   "metadata": {},
   "source": [
    "Nietrzymanie się type annotations nie spowoduje błędu, ale IDE mogą podkreślać to jako warning. Główną korzyścią jest to, że czytając kod takiej funkcji od razu wiemy co przyjmuje i zwraca."
   ]
  },
  {
   "cell_type": "markdown",
   "id": "b58f21e4",
   "metadata": {},
   "source": [
    "***Type annotations* – podsumowanie:**\n",
    "\n",
    "- Deklarowanie typów dla zmiennych oraz parametrów funkcji jest w Pythonie opcjonalne\n",
    "- Deklarowanie ich (poprzez *type annotations*) zwiększa czytelność kodu i pozwala się w nim lepiej orientować\n",
    "- Jeśli nie będziemy przestrzegać deklaracji dotyczących typów danych, program będzie działał poprawnie, chociaż IDE mogą podkreślać taki kod"
   ]
  },
  {
   "cell_type": "markdown",
   "id": "21428567",
   "metadata": {},
   "source": [
    "> **ZADANIA**"
   ]
  },
  {
   "cell_type": "markdown",
   "id": "9f5d25c6",
   "metadata": {},
   "source": [
    "## Zakres przestrzeni nazw\n",
    "\n",
    "*namespace* - mapowanie między nazwami a obiektami w pamięci\n",
    "\n",
    "*scope* - część programu, w którym obowiązuje dany namespace"
   ]
  },
  {
   "attachments": {
    "image.png": {
     "image/png": "[encoded data removed]"
    }
   },
   "cell_type": "markdown",
   "id": "20df99da",
   "metadata": {},
   "source": [
    "![image.png](attachment:image.png)"
   ]
  },
  {
   "cell_type": "markdown",
   "id": "11c7add7",
   "metadata": {},
   "source": [
    "*Built-in scope* - obejmuje wszystkie nazwy wbudowane takie jak *print*, *type* itp.\n",
    "\n",
    "*Global scope* - obejmuje wszystkie nazwy, które obowiązują w ramach jednego pliku\n",
    "\n",
    "*Local scope* - obejmuje wszystkie nazwy, które obowiązują w ramach jednej funkcji czy klasy"
   ]
  },
  {
   "cell_type": "markdown",
   "id": "199cf532",
   "metadata": {},
   "source": [
    "**1. Wewnątrz funkcji mamy dostęp do obiektów przekazanych jako argument. Trafiają one do scope'u lokalnego**"
   ]
  },
  {
   "cell_type": "code",
   "execution_count": null,
   "id": "1ef7ffb0",
   "metadata": {},
   "outputs": [],
   "source": [
    "foo = 1\n",
    "\n",
    "\n",
    "def bar(buz):\n",
    "    print(buz)\n",
    "\n",
    "\n",
    "bar(foo)"
   ]
  },
  {
   "cell_type": "markdown",
   "id": "53a047df",
   "metadata": {},
   "source": [
    "**2. Wewnątrz funkcji mamy również dostęp do obiektów ze scope'u globalnego nie przekazanych jako argument**"
   ]
  },
  {
   "cell_type": "code",
   "execution_count": null,
   "id": "93c5b268",
   "metadata": {},
   "outputs": [],
   "source": [
    "foo = 1\n",
    "\n",
    "\n",
    "def bar():\n",
    "    print(foo)\n",
    "\n",
    "bar()"
   ]
  },
  {
   "cell_type": "markdown",
   "id": "0561e17e",
   "metadata": {},
   "source": [
    "**3. W scopie lokalnym nie możemy używać zmiennych globalnych których nazwy zostały zadeklarowane również lokalnie, ale nie przypisano do nich jeszcze żadnej wartości**\n",
    "\n",
    "W tym przykładzie w pierwszej linii ciała funkcji używamy zmiennej globalnej `foo` aby przypisać wartość do innej zmiennej (również nazwanej `foo`). Wartość `foo` mogłaby zostać wzięta ze scope'u globalnego, ale pierwszeństwo ma scope lokalny, w którym zmienna `foo` się znajduje (jest definiowana w tej samej pierwszej linijce). Efekt jest taki, że próbujemy użyć zmiennej, która znajduje się w scopie lokalnym, ale w trakcie wykonywania tej linii kodu nie posiada jeszcze wartości."
   ]
  },
  {
   "cell_type": "code",
   "execution_count": null,
   "id": "26583d3b",
   "metadata": {
    "scrolled": true
   },
   "outputs": [],
   "source": [
    "foo = 1\n",
    "\n",
    "\n",
    "def bar():\n",
    "    foo = foo + 1\n",
    "    print(foo)\n",
    "\n",
    "bar()"
   ]
  },
  {
   "cell_type": "markdown",
   "id": "a44ea4c8",
   "metadata": {},
   "source": [
    "Jeśli jednak przekażemy do funkcji argument, to w scopie lokalnym znajdzie się zmienna, do której przypisana jest pewna wartość. Możemy więc jej używać."
   ]
  },
  {
   "cell_type": "code",
   "execution_count": null,
   "id": "e8a6680d",
   "metadata": {},
   "outputs": [],
   "source": [
    "foo = 1\n",
    "\n",
    "def bar(foo):\n",
    "    foo = foo + 1\n",
    "    print(foo)\n",
    "\n",
    "bar(foo)"
   ]
  },
  {
   "cell_type": "markdown",
   "id": "c1179733",
   "metadata": {},
   "source": [
    "**4. Aby móc używać w scopie lokalnym zmiennych ze scope'u globalnego o takiej samej nazwie jak zmienna w scopie lokalnym należy zadeklarować że dana zmienna jest globalna**"
   ]
  },
  {
   "cell_type": "code",
   "execution_count": null,
   "id": "50fe87d1",
   "metadata": {},
   "outputs": [],
   "source": [
    "foo = 1\n",
    "\n",
    "def bar():\n",
    "    global foo\n",
    "    foo = foo + 1\n",
    "    print(foo)\n",
    "\n",
    "bar()"
   ]
  },
  {
   "cell_type": "markdown",
   "id": "4325d4a2",
   "metadata": {},
   "source": [
    "Takie podejście zamiast przekazywania argumentów zwykle jest złą praktyką."
   ]
  },
  {
   "cell_type": "markdown",
   "id": "0220c6f7",
   "metadata": {},
   "source": [
    "**5. Operacje modyfikacji obiektów mutowalnych z globalnego scope'u mogą być wykonywane wewnątrz funkcji. Wprowadzone zmiany dotyczą obiektu ze scope'u globalnego więc są obecne również poza funkcją**"
   ]
  },
  {
   "cell_type": "code",
   "execution_count": null,
   "id": "9254f2ed",
   "metadata": {},
   "outputs": [],
   "source": [
    "baz = [1, 2, 3]\n",
    "\n",
    "def func():\n",
    "    baz.append(4)\n",
    "    print(baz)\n",
    "    \n",
    "func()\n",
    "print(baz)"
   ]
  },
  {
   "cell_type": "markdown",
   "id": "c5ff2a7d",
   "metadata": {},
   "source": [
    "**6. Możemy nadpisywać nazwy z zewnętrznych scope'ów ale nadpisywanie nazw z built-in scope zwykle nie jest dobrym pomysłem**"
   ]
  },
  {
   "cell_type": "code",
   "execution_count": null,
   "id": "3346c794",
   "metadata": {},
   "outputs": [],
   "source": [
    "foo = 1\n",
    "\n",
    "def func():\n",
    "    foo = 2\n",
    "    print = 3\n",
    "    \n",
    "    print(foo + print)\n",
    "\n",
    "func()"
   ]
  },
  {
   "cell_type": "markdown",
   "id": "420dea83",
   "metadata": {},
   "source": [
    "> Wewnątrz funkcji raczej nie powinniśmy korzystać z zewnętrznych zmiennych nie przekazanych jako argument.\n",
    "\n",
    ">Modyfikowanie obiektów wewnątrz funkcji również nie jest dobrą praktyką. Jeśli wykonujemy jakieś modyfikacje obiektu mutowalnego powinniśmy zwrócić ten obiekt przez funkcję a następnie go przechwycić."
   ]
  }
 ],
 "metadata": {
  "kernelspec": {
   "display_name": "Python 3 (ipykernel)",
   "language": "python",
   "name": "python3"
  },
  "language_info": {
   "codemirror_mode": {
    "name": "ipython",
    "version": 3
   },
   "file_extension": ".py",
   "mimetype": "text/x-python",
   "name": "python",
   "nbconvert_exporter": "python",
   "pygments_lexer": "ipython3",
   "version": "3.11.5"
  },
  "toc": {
   "base_numbering": 1,
   "nav_menu": {},
   "number_sections": true,
   "sideBar": true,
   "skip_h1_title": true,
   "title_cell": "Table of Contents",
   "title_sidebar": "Contents",
   "toc_cell": false,
   "toc_position": {},
   "toc_section_display": true,
   "toc_window_display": false
  },
  "varInspector": {
   "cols": {
    "lenName": 16,
    "lenType": 16,
    "lenVar": 40
   },
   "kernels_config": {
    "python": {
     "delete_cmd_postfix": "",
     "delete_cmd_prefix": "del ",
     "library": "var_list.py",
     "varRefreshCmd": "print(var_dic_list())"
    },
    "r": {
     "delete_cmd_postfix": ") ",
     "delete_cmd_prefix": "rm(",
     "library": "var_list.r",
     "varRefreshCmd": "cat(var_dic_list()) "
    }
   },
   "types_to_exclude": [
    "module",
    "function",
    "builtin_function_or_method",
    "instance",
    "_Feature"
   ],
   "window_display": false
  }
 },
 "nbformat": 4,
 "nbformat_minor": 5
}
